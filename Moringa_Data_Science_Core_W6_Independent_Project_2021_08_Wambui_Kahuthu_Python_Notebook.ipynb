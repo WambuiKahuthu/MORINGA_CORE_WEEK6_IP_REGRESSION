{
  "nbformat": 4,
  "nbformat_minor": 0,
  "metadata": {
    "colab": {
      "name": "Moringa_Data_Science_Core_W6_Independent_Project_2021_08_Wambui_Kahuthu_Python_Notebook.ipynb",
      "provenance": [],
      "collapsed_sections": [],
      "authorship_tag": "ABX9TyO55Y8hygngAeneGwY9trq0",
      "include_colab_link": true
    },
    "kernelspec": {
      "name": "python3",
      "display_name": "Python 3"
    },
    "language_info": {
      "name": "python"
    }
  },
  "cells": [
    {
      "cell_type": "markdown",
      "metadata": {
        "id": "view-in-github",
        "colab_type": "text"
      },
      "source": [
        "<a href=\"https://colab.research.google.com/github/WambuiKahuthu/MORINGA_CORE_WEEK6_REGRESSION/blob/main/Moringa_Data_Science_Core_W6_Independent_Project_2021_08_Wambui_Kahuthu_Python_Notebook.ipynb\" target=\"_parent\"><img src=\"https://colab.research.google.com/assets/colab-badge.svg\" alt=\"Open In Colab\"/></a>"
      ]
    },
    {
      "cell_type": "markdown",
      "metadata": {
        "id": "nbnD5YHy6OUK"
      },
      "source": [
        "# Mchezopesa Football Results Predictions\n"
      ]
    },
    {
      "cell_type": "markdown",
      "metadata": {
        "id": "OQgFGa4_6YkD"
      },
      "source": [
        "## Overview\n",
        "\n",
        "**i. Understanding the context**  \n",
        "I am acting as a data scientist at Mchezopesa Ltd and I have been tasked to design a models that will predict the result of a game between team 1 and team 2, based on who's home and who's away, and on whether or not the game is friendly  \n",
        "   \n",
        "**ii. Specifying the objective**  \n",
        "The specific objective of this project is to design a model that will predict the result of a game between team 1 and team 2, based on who's home and who's away, and on whether or not the game is friendly  \n",
        "  \n",
        "**iii. Defining the metric for success**  \n",
        "The project will be considered successful when the created models are at least 80% accurate in predicting the results of the matches \n",
        "  \n",
        "**iv. Data relevance**  \n",
        "The appropriate datasets for this projects are ones that contain data on the results of different matches and the rankings of the teams during those matches\n",
        "\n",
        "**v. Project design**  \n",
        "In order to work on the above problem, we need to do the following:\n",
        "\n",
        "a. Acquire the datasets with appropriate data for our project     \n",
        "b. Perform data cleaning by dropping irrelevant data, finding and dealing with duplicates, missing data, and anomalies  \n",
        "c. Merge our datasets in case there are multiple datasets\n",
        "d. Perform descriptive analysis to gain insights on the given data     \n",
        "e. Create and test the models that will work towards accomplishing our objective  \n",
        "f. Give conclusions and recommendations on the different models     \n",
        "\n",
        "\n",
        "\n"
      ]
    },
    {
      "cell_type": "markdown",
      "metadata": {
        "id": "vpaQF-xhHbqy"
      },
      "source": [
        "## Importing Libraries"
      ]
    },
    {
      "cell_type": "code",
      "metadata": {
        "id": "HpecV8rqEeHS"
      },
      "source": [
        "# import relevant libraries\n",
        "import pandas as pd\n",
        "import numpy as np\n",
        "import matplotlib.pyplot as plt\n",
        "%matplotlib inline\n",
        "import seaborn as sns\n",
        "import datetime as dt\n"
      ],
      "execution_count": 2,
      "outputs": []
    },
    {
      "cell_type": "code",
      "metadata": {
        "colab": {
          "base_uri": "https://localhost:8080/"
        },
        "id": "ZxI9_N0VDc3W",
        "outputId": "55a8bf5f-3e01-4e80-dd20-44e84a31efba"
      },
      "source": [
        "# disable future warnings by running this code\n",
        "import warnings\n",
        "warnings.simplefilter(action='ignore', category=FutureWarning)\n",
        "pd.reset_option('all')"
      ],
      "execution_count": 3,
      "outputs": [
        {
          "output_type": "stream",
          "text": [
            "\n",
            ": boolean\n",
            "    use_inf_as_null had been deprecated and will be removed in a future\n",
            "    version. Use `use_inf_as_na` instead.\n",
            "\n"
          ],
          "name": "stdout"
        }
      ]
    },
    {
      "cell_type": "markdown",
      "metadata": {
        "id": "OxIoh3aeHpIf"
      },
      "source": [
        "## Loading the Dataset "
      ]
    },
    {
      "cell_type": "code",
      "metadata": {
        "id": "6yH6qPFwZeeO"
      },
      "source": [
        "# load dataset with ranking data (downloaded from https://moringaschool.instructure.com/courses/352/assignments/3624)\n",
        "rankings = pd.read_csv('/content/fifa_ranking.csv')\n",
        "\n",
        "# load dataset with tournament data (downloaded from https://moringaschool.instructure.com/courses/352/assignments/3624)\n",
        "results = pd.read_csv('/content/results.csv')"
      ],
      "execution_count": 4,
      "outputs": []
    },
    {
      "cell_type": "markdown",
      "metadata": {
        "id": "ldsBfgVx1M1O"
      },
      "source": [
        "## Reading the Datasets"
      ]
    },
    {
      "cell_type": "markdown",
      "metadata": {
        "id": "5lo1hPZw1zJh"
      },
      "source": [
        "### a. Rankings Dataset"
      ]
    },
    {
      "cell_type": "code",
      "metadata": {
        "colab": {
          "base_uri": "https://localhost:8080/",
          "height": 305
        },
        "id": "puBDdpsy1yTM",
        "outputId": "d211a1ed-0012-4289-de45-a320c16ff9f7"
      },
      "source": [
        "# preview the top 5 entries of the dataset\n",
        "rankings.head()"
      ],
      "execution_count": 5,
      "outputs": [
        {
          "output_type": "execute_result",
          "data": {
            "text/html": [
              "<div>\n",
              "<style scoped>\n",
              "    .dataframe tbody tr th:only-of-type {\n",
              "        vertical-align: middle;\n",
              "    }\n",
              "\n",
              "    .dataframe tbody tr th {\n",
              "        vertical-align: top;\n",
              "    }\n",
              "\n",
              "    .dataframe thead th {\n",
              "        text-align: right;\n",
              "    }\n",
              "</style>\n",
              "<table border=\"1\" class=\"dataframe\">\n",
              "  <thead>\n",
              "    <tr style=\"text-align: right;\">\n",
              "      <th></th>\n",
              "      <th>rank</th>\n",
              "      <th>country_full</th>\n",
              "      <th>country_abrv</th>\n",
              "      <th>total_points</th>\n",
              "      <th>previous_points</th>\n",
              "      <th>rank_change</th>\n",
              "      <th>cur_year_avg</th>\n",
              "      <th>cur_year_avg_weighted</th>\n",
              "      <th>last_year_avg</th>\n",
              "      <th>last_year_avg_weighted</th>\n",
              "      <th>two_year_ago_avg</th>\n",
              "      <th>two_year_ago_weighted</th>\n",
              "      <th>three_year_ago_avg</th>\n",
              "      <th>three_year_ago_weighted</th>\n",
              "      <th>confederation</th>\n",
              "      <th>rank_date</th>\n",
              "    </tr>\n",
              "  </thead>\n",
              "  <tbody>\n",
              "    <tr>\n",
              "      <th>0</th>\n",
              "      <td>1</td>\n",
              "      <td>Germany</td>\n",
              "      <td>GER</td>\n",
              "      <td>0.0</td>\n",
              "      <td>57</td>\n",
              "      <td>0</td>\n",
              "      <td>0.0</td>\n",
              "      <td>0.0</td>\n",
              "      <td>0.0</td>\n",
              "      <td>0.0</td>\n",
              "      <td>0.0</td>\n",
              "      <td>0.0</td>\n",
              "      <td>0.0</td>\n",
              "      <td>0.0</td>\n",
              "      <td>UEFA</td>\n",
              "      <td>1993-08-08</td>\n",
              "    </tr>\n",
              "    <tr>\n",
              "      <th>1</th>\n",
              "      <td>2</td>\n",
              "      <td>Italy</td>\n",
              "      <td>ITA</td>\n",
              "      <td>0.0</td>\n",
              "      <td>57</td>\n",
              "      <td>0</td>\n",
              "      <td>0.0</td>\n",
              "      <td>0.0</td>\n",
              "      <td>0.0</td>\n",
              "      <td>0.0</td>\n",
              "      <td>0.0</td>\n",
              "      <td>0.0</td>\n",
              "      <td>0.0</td>\n",
              "      <td>0.0</td>\n",
              "      <td>UEFA</td>\n",
              "      <td>1993-08-08</td>\n",
              "    </tr>\n",
              "    <tr>\n",
              "      <th>2</th>\n",
              "      <td>3</td>\n",
              "      <td>Switzerland</td>\n",
              "      <td>SUI</td>\n",
              "      <td>0.0</td>\n",
              "      <td>50</td>\n",
              "      <td>9</td>\n",
              "      <td>0.0</td>\n",
              "      <td>0.0</td>\n",
              "      <td>0.0</td>\n",
              "      <td>0.0</td>\n",
              "      <td>0.0</td>\n",
              "      <td>0.0</td>\n",
              "      <td>0.0</td>\n",
              "      <td>0.0</td>\n",
              "      <td>UEFA</td>\n",
              "      <td>1993-08-08</td>\n",
              "    </tr>\n",
              "    <tr>\n",
              "      <th>3</th>\n",
              "      <td>4</td>\n",
              "      <td>Sweden</td>\n",
              "      <td>SWE</td>\n",
              "      <td>0.0</td>\n",
              "      <td>55</td>\n",
              "      <td>0</td>\n",
              "      <td>0.0</td>\n",
              "      <td>0.0</td>\n",
              "      <td>0.0</td>\n",
              "      <td>0.0</td>\n",
              "      <td>0.0</td>\n",
              "      <td>0.0</td>\n",
              "      <td>0.0</td>\n",
              "      <td>0.0</td>\n",
              "      <td>UEFA</td>\n",
              "      <td>1993-08-08</td>\n",
              "    </tr>\n",
              "    <tr>\n",
              "      <th>4</th>\n",
              "      <td>5</td>\n",
              "      <td>Argentina</td>\n",
              "      <td>ARG</td>\n",
              "      <td>0.0</td>\n",
              "      <td>51</td>\n",
              "      <td>5</td>\n",
              "      <td>0.0</td>\n",
              "      <td>0.0</td>\n",
              "      <td>0.0</td>\n",
              "      <td>0.0</td>\n",
              "      <td>0.0</td>\n",
              "      <td>0.0</td>\n",
              "      <td>0.0</td>\n",
              "      <td>0.0</td>\n",
              "      <td>CONMEBOL</td>\n",
              "      <td>1993-08-08</td>\n",
              "    </tr>\n",
              "  </tbody>\n",
              "</table>\n",
              "</div>"
            ],
            "text/plain": [
              "   rank country_full  ... confederation   rank_date\n",
              "0     1      Germany  ...          UEFA  1993-08-08\n",
              "1     2        Italy  ...          UEFA  1993-08-08\n",
              "2     3  Switzerland  ...          UEFA  1993-08-08\n",
              "3     4       Sweden  ...          UEFA  1993-08-08\n",
              "4     5    Argentina  ...      CONMEBOL  1993-08-08\n",
              "\n",
              "[5 rows x 16 columns]"
            ]
          },
          "metadata": {
            "tags": []
          },
          "execution_count": 5
        }
      ]
    },
    {
      "cell_type": "code",
      "metadata": {
        "colab": {
          "base_uri": "https://localhost:8080/"
        },
        "id": "kIdzvL6heULF",
        "outputId": "a4c3f039-cf1b-4d55-959f-f21158056667"
      },
      "source": [
        "# check the general information about our dataset\n",
        "# the information includes the number of entries and columns, name and data type of each column, number of non-null values in every column, and the distribution of each data type\n",
        "rankings.info()"
      ],
      "execution_count": 6,
      "outputs": [
        {
          "output_type": "stream",
          "text": [
            "<class 'pandas.core.frame.DataFrame'>\n",
            "RangeIndex: 57793 entries, 0 to 57792\n",
            "Data columns (total 16 columns):\n",
            " #   Column                   Non-Null Count  Dtype  \n",
            "---  ------                   --------------  -----  \n",
            " 0   rank                     57793 non-null  int64  \n",
            " 1   country_full             57793 non-null  object \n",
            " 2   country_abrv             57793 non-null  object \n",
            " 3   total_points             57793 non-null  float64\n",
            " 4   previous_points          57793 non-null  int64  \n",
            " 5   rank_change              57793 non-null  int64  \n",
            " 6   cur_year_avg             57793 non-null  float64\n",
            " 7   cur_year_avg_weighted    57793 non-null  float64\n",
            " 8   last_year_avg            57793 non-null  float64\n",
            " 9   last_year_avg_weighted   57793 non-null  float64\n",
            " 10  two_year_ago_avg         57793 non-null  float64\n",
            " 11  two_year_ago_weighted    57793 non-null  float64\n",
            " 12  three_year_ago_avg       57793 non-null  float64\n",
            " 13  three_year_ago_weighted  57793 non-null  float64\n",
            " 14  confederation            57793 non-null  object \n",
            " 15  rank_date                57793 non-null  object \n",
            "dtypes: float64(9), int64(3), object(4)\n",
            "memory usage: 7.1+ MB\n"
          ],
          "name": "stdout"
        }
      ]
    },
    {
      "cell_type": "code",
      "metadata": {
        "id": "Si0np4wk5fBU"
      },
      "source": [
        "# change data type of 'date' column\n",
        "rankings['rank_date'] = pd.to_datetime(rankings['rank_date'])"
      ],
      "execution_count": 7,
      "outputs": []
    },
    {
      "cell_type": "markdown",
      "metadata": {
        "id": "KLLbcYyZ0ikd"
      },
      "source": [
        "### b. Results Dataset"
      ]
    },
    {
      "cell_type": "code",
      "metadata": {
        "colab": {
          "base_uri": "https://localhost:8080/",
          "height": 200
        },
        "id": "WJSuX3Az0wFQ",
        "outputId": "03eb4131-82b6-4208-bb08-5e1b51ce6a99"
      },
      "source": [
        "# preview top 5 entries of the dataset\n",
        "results.head()"
      ],
      "execution_count": 8,
      "outputs": [
        {
          "output_type": "execute_result",
          "data": {
            "text/html": [
              "<div>\n",
              "<style scoped>\n",
              "    .dataframe tbody tr th:only-of-type {\n",
              "        vertical-align: middle;\n",
              "    }\n",
              "\n",
              "    .dataframe tbody tr th {\n",
              "        vertical-align: top;\n",
              "    }\n",
              "\n",
              "    .dataframe thead th {\n",
              "        text-align: right;\n",
              "    }\n",
              "</style>\n",
              "<table border=\"1\" class=\"dataframe\">\n",
              "  <thead>\n",
              "    <tr style=\"text-align: right;\">\n",
              "      <th></th>\n",
              "      <th>date</th>\n",
              "      <th>home_team</th>\n",
              "      <th>away_team</th>\n",
              "      <th>home_score</th>\n",
              "      <th>away_score</th>\n",
              "      <th>tournament</th>\n",
              "      <th>city</th>\n",
              "      <th>country</th>\n",
              "      <th>neutral</th>\n",
              "    </tr>\n",
              "  </thead>\n",
              "  <tbody>\n",
              "    <tr>\n",
              "      <th>0</th>\n",
              "      <td>1872-11-30</td>\n",
              "      <td>Scotland</td>\n",
              "      <td>England</td>\n",
              "      <td>0</td>\n",
              "      <td>0</td>\n",
              "      <td>Friendly</td>\n",
              "      <td>Glasgow</td>\n",
              "      <td>Scotland</td>\n",
              "      <td>False</td>\n",
              "    </tr>\n",
              "    <tr>\n",
              "      <th>1</th>\n",
              "      <td>1873-03-08</td>\n",
              "      <td>England</td>\n",
              "      <td>Scotland</td>\n",
              "      <td>4</td>\n",
              "      <td>2</td>\n",
              "      <td>Friendly</td>\n",
              "      <td>London</td>\n",
              "      <td>England</td>\n",
              "      <td>False</td>\n",
              "    </tr>\n",
              "    <tr>\n",
              "      <th>2</th>\n",
              "      <td>1874-03-07</td>\n",
              "      <td>Scotland</td>\n",
              "      <td>England</td>\n",
              "      <td>2</td>\n",
              "      <td>1</td>\n",
              "      <td>Friendly</td>\n",
              "      <td>Glasgow</td>\n",
              "      <td>Scotland</td>\n",
              "      <td>False</td>\n",
              "    </tr>\n",
              "    <tr>\n",
              "      <th>3</th>\n",
              "      <td>1875-03-06</td>\n",
              "      <td>England</td>\n",
              "      <td>Scotland</td>\n",
              "      <td>2</td>\n",
              "      <td>2</td>\n",
              "      <td>Friendly</td>\n",
              "      <td>London</td>\n",
              "      <td>England</td>\n",
              "      <td>False</td>\n",
              "    </tr>\n",
              "    <tr>\n",
              "      <th>4</th>\n",
              "      <td>1876-03-04</td>\n",
              "      <td>Scotland</td>\n",
              "      <td>England</td>\n",
              "      <td>3</td>\n",
              "      <td>0</td>\n",
              "      <td>Friendly</td>\n",
              "      <td>Glasgow</td>\n",
              "      <td>Scotland</td>\n",
              "      <td>False</td>\n",
              "    </tr>\n",
              "  </tbody>\n",
              "</table>\n",
              "</div>"
            ],
            "text/plain": [
              "         date home_team away_team  ...     city   country neutral\n",
              "0  1872-11-30  Scotland   England  ...  Glasgow  Scotland   False\n",
              "1  1873-03-08   England  Scotland  ...   London   England   False\n",
              "2  1874-03-07  Scotland   England  ...  Glasgow  Scotland   False\n",
              "3  1875-03-06   England  Scotland  ...   London   England   False\n",
              "4  1876-03-04  Scotland   England  ...  Glasgow  Scotland   False\n",
              "\n",
              "[5 rows x 9 columns]"
            ]
          },
          "metadata": {
            "tags": []
          },
          "execution_count": 8
        }
      ]
    },
    {
      "cell_type": "code",
      "metadata": {
        "colab": {
          "base_uri": "https://localhost:8080/"
        },
        "id": "lIvSLF7_1viB",
        "outputId": "46d2f46b-1ebc-4b4d-d44b-96d0b34f0923"
      },
      "source": [
        "# check the general information about our dataset\n",
        "# the information includes the number of entries and columns, name and data type of each column, number of non-null values in every column, and the distribution of each data type\n",
        "results.info()"
      ],
      "execution_count": 9,
      "outputs": [
        {
          "output_type": "stream",
          "text": [
            "<class 'pandas.core.frame.DataFrame'>\n",
            "RangeIndex: 40839 entries, 0 to 40838\n",
            "Data columns (total 9 columns):\n",
            " #   Column      Non-Null Count  Dtype \n",
            "---  ------      --------------  ----- \n",
            " 0   date        40839 non-null  object\n",
            " 1   home_team   40839 non-null  object\n",
            " 2   away_team   40839 non-null  object\n",
            " 3   home_score  40839 non-null  int64 \n",
            " 4   away_score  40839 non-null  int64 \n",
            " 5   tournament  40839 non-null  object\n",
            " 6   city        40839 non-null  object\n",
            " 7   country     40839 non-null  object\n",
            " 8   neutral     40839 non-null  bool  \n",
            "dtypes: bool(1), int64(2), object(6)\n",
            "memory usage: 2.5+ MB\n"
          ],
          "name": "stdout"
        }
      ]
    },
    {
      "cell_type": "code",
      "metadata": {
        "id": "NiQPkO6e172_"
      },
      "source": [
        "# change data type of 'date' column\n",
        "results['date'] = pd.to_datetime(results['date'])"
      ],
      "execution_count": 10,
      "outputs": []
    },
    {
      "cell_type": "markdown",
      "metadata": {
        "id": "6MuBeB3Q2EBI"
      },
      "source": [
        "## Data Cleaning"
      ]
    },
    {
      "cell_type": "markdown",
      "metadata": {
        "id": "eNUtaDRu2JzX"
      },
      "source": [
        "### a. Rankings dataset"
      ]
    },
    {
      "cell_type": "code",
      "metadata": {
        "colab": {
          "base_uri": "https://localhost:8080/"
        },
        "id": "N-ta8YqsNPyk",
        "outputId": "3782b461-010e-42e7-b0dc-4dfada8d4894"
      },
      "source": [
        "# check for duplicates in the dataset\n",
        "print('Number of duplicates before cleaning: '+str(rankings.duplicated().sum()))\n",
        "\n",
        "# drop duplicates\n",
        "rankings = rankings.drop_duplicates()\n",
        "\n",
        "# confirm that the duplicates have been dropped\n",
        "print('Number of duplicates after cleaning: ' +str(rankings.duplicated().sum()))"
      ],
      "execution_count": 11,
      "outputs": [
        {
          "output_type": "stream",
          "text": [
            "Number of duplicates before cleaning: 37\n",
            "Number of duplicates after cleaning: 0\n"
          ],
          "name": "stdout"
        }
      ]
    },
    {
      "cell_type": "code",
      "metadata": {
        "id": "voNAIfRvNgMF"
      },
      "source": [
        "# drop the irrelevant columns\n",
        "rankings.drop(rankings.columns.difference(['rank','country_full', 'rank_date']), 1, inplace=True)\n",
        "\n",
        "# rename 'country_full' to 'country' and 'rank_date' to 'date'\n",
        "rankings.rename(columns={'country_full':'country', 'rank_date':'date'}, inplace=True)"
      ],
      "execution_count": 12,
      "outputs": []
    },
    {
      "cell_type": "code",
      "metadata": {
        "id": "rWVv4KvBfKxX"
      },
      "source": [
        "# remove day from date to remain with  year and month data\n",
        "rankings['date'] = rankings['date'].dt.strftime('%Y-%m')"
      ],
      "execution_count": 13,
      "outputs": []
    },
    {
      "cell_type": "code",
      "metadata": {
        "colab": {
          "base_uri": "https://localhost:8080/"
        },
        "id": "AUFWdY1cjO0u",
        "outputId": "428c890a-7016-4cc9-c7d1-c2da0c7db35c"
      },
      "source": [
        "# check for missing values in the dataset\n",
        "rankings.isnull().sum()"
      ],
      "execution_count": 14,
      "outputs": [
        {
          "output_type": "execute_result",
          "data": {
            "text/plain": [
              "rank       0\n",
              "country    0\n",
              "date       0\n",
              "dtype: int64"
            ]
          },
          "metadata": {
            "tags": []
          },
          "execution_count": 14
        }
      ]
    },
    {
      "cell_type": "code",
      "metadata": {
        "colab": {
          "base_uri": "https://localhost:8080/"
        },
        "id": "lfDsKxXS9UFZ",
        "outputId": "1f659c8d-8b91-461b-c7f1-ea7b4b679f04"
      },
      "source": [
        "# check for anomalies in the 'country' column by scrutinizing its unique values\n",
        "rankings.country.unique()"
      ],
      "execution_count": 15,
      "outputs": [
        {
          "output_type": "execute_result",
          "data": {
            "text/plain": [
              "array(['Germany', 'Italy', 'Switzerland', 'Sweden', 'Argentina',\n",
              "       'Republic of Ireland', 'Russia', 'Brazil', 'Norway', 'Denmark',\n",
              "       'England', 'France', 'Spain', 'Mexico', 'RCS', 'Netherlands',\n",
              "       'Nigeria', 'Belgium', 'Colombia', 'Poland', 'Romania', 'Uruguay',\n",
              "       'Portugal', 'Cameroon', 'Zambia', 'Egypt', 'Wales', 'USA',\n",
              "       \"Côte d'Ivoire\", 'Scotland', 'Tunisia', 'Greece', 'Morocco',\n",
              "       'Algeria', 'Ecuador', 'Korea Republic', 'Bulgaria', 'Austria',\n",
              "       'Costa Rica', 'Northern Ireland', 'Honduras', 'Hungary', 'Japan',\n",
              "       'Saudi Arabia', 'China PR', 'Canada', 'Finland', 'Ghana', 'Chile',\n",
              "       'Zimbabwe', 'Qatar', 'Australia', 'Iceland', 'IR Iran',\n",
              "       'United Arab Emirates', 'Yugoslavia', 'Iraq', 'Senegal', 'Bolivia',\n",
              "       'Kuwait', 'Korea DPR', 'El Salvador', 'Turkey', 'Gabon', 'Guinea',\n",
              "       'Thailand', 'Paraguay', 'Malawi', 'Israel', 'Peru', 'Zaire',\n",
              "       'Cyprus', 'Singapore', 'Mali', 'Malaysia', 'Bermuda', 'Niger',\n",
              "       'Syria', 'Bahrain', 'New Zealand', 'Madagascar', 'Malta',\n",
              "       'Jamaica', 'Lithuania', 'Trinidad and Tobago', 'Sierra Leone',\n",
              "       'Jordan', 'Kenya', 'Latvia', 'Yemen', 'Tanzania', 'Albania',\n",
              "       'Angola', 'Venezuela', 'Ethiopia', 'Burundi', 'Oman', 'Indonesia',\n",
              "       'Liberia', 'Mozambique', 'Puerto Rico', 'Swaziland', 'Hong Kong',\n",
              "       'Uganda', 'Barbados', 'Myanmar', 'Congo', 'Lebanon',\n",
              "       'South Africa', 'Luxembourg', 'Faroe Islands', 'Guatemala',\n",
              "       'Burkina Faso', 'Togo', 'Suriname', 'Fiji', 'Croatia', 'Estonia',\n",
              "       'San Marino', 'Bangladesh', 'St Vincent and the Grenadines',\n",
              "       'Netherlands Antilles', 'Mauritius', 'Benin', 'Panama', 'Sudan',\n",
              "       'Antigua and Barbuda', 'Slovenia', 'India', 'Belarus', 'Ukraine',\n",
              "       'Vietnam', 'Guinea-Bissau', 'Guyana', 'Botswana', 'St Lucia',\n",
              "       'Tahiti', 'Grenada', 'Haiti', 'Libya', 'Laos', 'Mauritania',\n",
              "       'Cape Verde Islands', 'Solomon Islands', 'Brunei Darussalam',\n",
              "       'Lesotho', 'Dominican Republic', 'Pakistan', 'Nicaragua', 'Cuba',\n",
              "       'Seychelles', 'Central African Republic', 'Gambia', 'Namibia',\n",
              "       'Cayman Islands', 'Nepal', 'Liechtenstein', 'Equatorial Guinea',\n",
              "       'Chinese Taipei', 'Sri Lanka', 'Philippines', 'Chad', 'Vanuatu',\n",
              "       'Aruba', 'Bahamas', 'Maldives', 'Macau', 'Slovakia',\n",
              "       'St Kitts and Nevis', 'Czech Republic', 'Georgia', 'FYR Macedonia',\n",
              "       'Moldova', 'Armenia', 'Azerbaijan', 'Uzbekistan', 'Turkmenistan',\n",
              "       'Kazakhstan', 'Tajikistan', 'Kyrgyz Republic', 'Somalia',\n",
              "       'Djibouti', 'Dominica', 'Rwanda', 'Belize', 'Cambodia',\n",
              "       'Bosnia and Herzegovina', 'Guam', 'Papua New Guinea', 'Tonga',\n",
              "       'Samoa', 'Andorra', 'Cook Islands', 'British Virgin Islands',\n",
              "       'Anguilla', 'São Tomé e Príncipe', 'Eritrea', 'American Samoa',\n",
              "       'Palestine', 'Mongolia', 'Turks and Caicos Islands',\n",
              "       'US Virgin Islands', 'Montserrat', 'Congo DR', 'Bhutan',\n",
              "       'Serbia and Montenegro', 'Afghanistan', 'New Caledonia', 'Serbia',\n",
              "       'Timor-Leste', 'Comoros', 'Montenegro', 'Curaçao', 'South Sudan',\n",
              "       'Kosovo', 'Gibraltar'], dtype=object)"
            ]
          },
          "metadata": {
            "tags": []
          },
          "execution_count": 15
        }
      ]
    },
    {
      "cell_type": "markdown",
      "metadata": {
        "id": "3hytPZjUArCv"
      },
      "source": [
        "There are no anomalies in the 'country' column"
      ]
    },
    {
      "cell_type": "code",
      "metadata": {
        "colab": {
          "base_uri": "https://localhost:8080/",
          "height": 200
        },
        "id": "HqLhIWGesHdV",
        "outputId": "2b506944-56e2-4864-a4a6-d596cc6c19e2"
      },
      "source": [
        "# preview top 5 entries of the cleaned dataset\n",
        "rankings.head()"
      ],
      "execution_count": 16,
      "outputs": [
        {
          "output_type": "execute_result",
          "data": {
            "text/html": [
              "<div>\n",
              "<style scoped>\n",
              "    .dataframe tbody tr th:only-of-type {\n",
              "        vertical-align: middle;\n",
              "    }\n",
              "\n",
              "    .dataframe tbody tr th {\n",
              "        vertical-align: top;\n",
              "    }\n",
              "\n",
              "    .dataframe thead th {\n",
              "        text-align: right;\n",
              "    }\n",
              "</style>\n",
              "<table border=\"1\" class=\"dataframe\">\n",
              "  <thead>\n",
              "    <tr style=\"text-align: right;\">\n",
              "      <th></th>\n",
              "      <th>rank</th>\n",
              "      <th>country</th>\n",
              "      <th>date</th>\n",
              "    </tr>\n",
              "  </thead>\n",
              "  <tbody>\n",
              "    <tr>\n",
              "      <th>0</th>\n",
              "      <td>1</td>\n",
              "      <td>Germany</td>\n",
              "      <td>1993-08</td>\n",
              "    </tr>\n",
              "    <tr>\n",
              "      <th>1</th>\n",
              "      <td>2</td>\n",
              "      <td>Italy</td>\n",
              "      <td>1993-08</td>\n",
              "    </tr>\n",
              "    <tr>\n",
              "      <th>2</th>\n",
              "      <td>3</td>\n",
              "      <td>Switzerland</td>\n",
              "      <td>1993-08</td>\n",
              "    </tr>\n",
              "    <tr>\n",
              "      <th>3</th>\n",
              "      <td>4</td>\n",
              "      <td>Sweden</td>\n",
              "      <td>1993-08</td>\n",
              "    </tr>\n",
              "    <tr>\n",
              "      <th>4</th>\n",
              "      <td>5</td>\n",
              "      <td>Argentina</td>\n",
              "      <td>1993-08</td>\n",
              "    </tr>\n",
              "  </tbody>\n",
              "</table>\n",
              "</div>"
            ],
            "text/plain": [
              "   rank      country     date\n",
              "0     1      Germany  1993-08\n",
              "1     2        Italy  1993-08\n",
              "2     3  Switzerland  1993-08\n",
              "3     4       Sweden  1993-08\n",
              "4     5    Argentina  1993-08"
            ]
          },
          "metadata": {
            "tags": []
          },
          "execution_count": 16
        }
      ]
    },
    {
      "cell_type": "code",
      "metadata": {
        "colab": {
          "base_uri": "https://localhost:8080/"
        },
        "id": "-Z2QX-q9fzW0",
        "outputId": "7779ab21-b949-441b-e8a7-153a711dbe9a"
      },
      "source": [
        "# check the number of remaining records after cleaning\n",
        "rankings.shape"
      ],
      "execution_count": 17,
      "outputs": [
        {
          "output_type": "execute_result",
          "data": {
            "text/plain": [
              "(57756, 3)"
            ]
          },
          "metadata": {
            "tags": []
          },
          "execution_count": 17
        }
      ]
    },
    {
      "cell_type": "markdown",
      "metadata": {
        "id": "puy-kXdkqHlj"
      },
      "source": [
        "### b. Results dataset"
      ]
    },
    {
      "cell_type": "code",
      "metadata": {
        "colab": {
          "base_uri": "https://localhost:8080/"
        },
        "id": "gDbh-jfUqdPC",
        "outputId": "b32522d6-abb0-4e61-f5c7-148927deea99"
      },
      "source": [
        "# check for duplicates in the dataset\n",
        "print('Number of duplicates before cleaning: '+str(results.duplicated().sum()))\n",
        "\n",
        "# drop duplicates\n",
        "results = results.drop_duplicates()\n",
        "\n",
        "# confirm that the duplicates have been dropped\n",
        "print('Number of duplicates after cleaning: ' +str(results.duplicated().sum()))"
      ],
      "execution_count": 18,
      "outputs": [
        {
          "output_type": "stream",
          "text": [
            "Number of duplicates before cleaning: 0\n",
            "Number of duplicates after cleaning: 0\n"
          ],
          "name": "stdout"
        }
      ]
    },
    {
      "cell_type": "code",
      "metadata": {
        "id": "hE9yzlsiqdPG"
      },
      "source": [
        "# drop the irrelevant columns \n",
        "results.drop(['country','neutral', 'city'], axis=1, inplace=True)"
      ],
      "execution_count": 19,
      "outputs": []
    },
    {
      "cell_type": "code",
      "metadata": {
        "id": "XhFASoE3qdPH"
      },
      "source": [
        "# remove day from date to remain with  year and month data\n",
        "results['date'] = results['date'].dt.strftime('%Y-%m')"
      ],
      "execution_count": 20,
      "outputs": []
    },
    {
      "cell_type": "code",
      "metadata": {
        "id": "3trRsrwHoE9-"
      },
      "source": [
        "# convert values in the 'tournament' column to two categories (Friendly and Other)\n",
        "\n",
        "# create a function that defines the change\n",
        "def tournament_type (y):\n",
        "    if y == 'Friendly':\n",
        "        return 'Friendly'\n",
        "    return 'Other'\n",
        "    \n",
        "# apply the function to the 'tournament' column\n",
        "results['tournament'] = results['tournament'].apply(lambda y: tournament_type(y))"
      ],
      "execution_count": 21,
      "outputs": []
    },
    {
      "cell_type": "code",
      "metadata": {
        "colab": {
          "base_uri": "https://localhost:8080/"
        },
        "id": "RrV3Sk9dqdPH",
        "outputId": "1b27a9ab-f7b7-4242-bf9a-e5cbde465bf8"
      },
      "source": [
        "# check for missing values in the dataset\n",
        "results.isnull().sum()"
      ],
      "execution_count": 22,
      "outputs": [
        {
          "output_type": "execute_result",
          "data": {
            "text/plain": [
              "date          0\n",
              "home_team     0\n",
              "away_team     0\n",
              "home_score    0\n",
              "away_score    0\n",
              "tournament    0\n",
              "dtype: int64"
            ]
          },
          "metadata": {
            "tags": []
          },
          "execution_count": 22
        }
      ]
    },
    {
      "cell_type": "code",
      "metadata": {
        "colab": {
          "base_uri": "https://localhost:8080/"
        },
        "id": "w5fP6n30FgJ7",
        "outputId": "a13ffd25-7ee6-495a-d17b-c9b022a1fd8f"
      },
      "source": [
        "# check for anomalies in the 'home_team' column by scrutinizing the unique values\n",
        "results.home_team.unique()"
      ],
      "execution_count": 23,
      "outputs": [
        {
          "output_type": "execute_result",
          "data": {
            "text/plain": [
              "array(['Scotland', 'England', 'Wales', 'Northern Ireland',\n",
              "       'United States', 'Uruguay', 'Austria', 'Hungary', 'Argentina',\n",
              "       'Belgium', 'France', 'Netherlands', 'Czechoslovakia',\n",
              "       'Switzerland', 'Sweden', 'Germany', 'Italy', 'Chile', 'Norway',\n",
              "       'Finland', 'Luxembourg', 'Russia', 'Denmark', 'Catalonia',\n",
              "       'Basque Country', 'Brazil', 'Japan', 'Paraguay', 'Canada',\n",
              "       'Estonia', 'Costa Rica', 'Guatemala', 'Spain', 'Brittany',\n",
              "       'Poland', 'Yugoslavia', 'New Zealand', 'Romania', 'Latvia',\n",
              "       'Galicia', 'Portugal', 'Andalusia', 'China PR', 'Australia',\n",
              "       'Lithuania', 'Turkey', 'Central Spain', 'Mexico', 'Aruba', 'Egypt',\n",
              "       'Haiti', 'Philippines', 'Bulgaria', 'Jamaica', 'Kenya', 'Bolivia',\n",
              "       'Peru', 'Honduras', 'Guyana', 'Uganda', 'Belarus', 'El Salvador',\n",
              "       'Barbados', 'Republic of Ireland', 'Trinidad and Tobago', 'Greece',\n",
              "       'Curaçao', 'Dominica', 'Silesia', 'Guadeloupe', 'Israel',\n",
              "       'Suriname', 'French Guiana', 'Cuba', 'Colombia', 'Ecuador',\n",
              "       'Saint Kitts and Nevis', 'Panama', 'Slovakia', 'Manchukuo',\n",
              "       'Croatia', 'Nicaragua', 'Afghanistan', 'India', 'Martinique',\n",
              "       'Zimbabwe', 'Iceland', 'Albania', 'Madagascar', 'Zambia',\n",
              "       'Mauritius', 'Tanzania', 'Iran', 'Djibouti', 'DR Congo', 'Vietnam',\n",
              "       'Macau', 'Ethiopia', 'Puerto Rico', 'Réunion', 'Sierra Leone',\n",
              "       'Zanzibar', 'South Korea', 'Ghana', 'South Africa',\n",
              "       'New Caledonia', 'Fiji', 'Nigeria', 'Venezuela', 'Burma',\n",
              "       'Sri Lanka', 'Tahiti', 'Gambia', 'Hong Kong', 'Singapore',\n",
              "       'Malaysia', 'Indonesia', 'Guinea-Bissau', 'German DR', 'Vanuatu',\n",
              "       'Kernow', 'Saarland', 'Cambodia', 'Lebanon', 'Pakistan',\n",
              "       'Vietnam Republic', 'North Korea', 'Togo', 'Sudan', 'Malta',\n",
              "       'Syria', 'Tunisia', 'Malawi', 'Morocco', 'Benin', 'Cameroon',\n",
              "       'Central African Republic', 'Gabon', 'Ivory Coast', 'Congo',\n",
              "       'Mali', 'North Vietnam', 'Mongolia', 'Chinese Taipei', 'Cyprus',\n",
              "       'Iraq', 'Saint Lucia', 'Grenada', 'Thailand', 'Senegal', 'Libya',\n",
              "       'Guinea', 'Algeria', 'Kuwait', 'Jordan', 'Solomon Islands',\n",
              "       'Liberia', 'Laos', 'Saint Vincent and the Grenadines', 'Bermuda',\n",
              "       'Niger', 'Bahrain', 'Montenegro', 'Palestine', 'Papua New Guinea',\n",
              "       'Burkina Faso', 'Mauritania', 'Saudi Arabia', 'Eswatini',\n",
              "       'Somalia', 'Lesotho', 'Cook Islands', 'Qatar',\n",
              "       'Antigua and Barbuda', 'Faroe Islands', 'Bangladesh', 'Oman',\n",
              "       'Yemen DPR', 'Burundi', 'Yemen', 'Mozambique', 'Guam', 'Chad',\n",
              "       'Angola', 'Dominican Republic', 'Seychelles', 'Rwanda',\n",
              "       'São Tomé and Príncipe', 'Botswana', 'Northern Cyprus',\n",
              "       'Cape Verde', 'Kyrgyzstan', 'Georgia', 'Azerbaijan', 'Kiribati',\n",
              "       'Tonga', 'Wallis Islands and Futuna', 'United Arab Emirates',\n",
              "       'Brunei', 'Equatorial Guinea', 'Liechtenstein', 'Nepal',\n",
              "       'Greenland', 'Niue', 'Samoa', 'American Samoa', 'Belize',\n",
              "       'Anguilla', 'Cayman Islands', 'Palau', 'Sint Maarten', 'Namibia',\n",
              "       'Åland Islands', 'Ynys Môn', 'Saint Martin', 'San Marino',\n",
              "       'Slovenia', 'Jersey', 'Shetland', 'Isle of Wight', 'Moldova',\n",
              "       'Ukraine', 'Kazakhstan', 'Tajikistan', 'Uzbekistan',\n",
              "       'Turkmenistan', 'Armenia', 'Czech Republic', 'Guernsey',\n",
              "       'Gibraltar', 'Isle of Man', 'North Macedonia', 'Montserrat',\n",
              "       'Serbia', 'Canary Islands', 'Bosnia and Herzegovina', 'Maldives',\n",
              "       'Andorra', 'British Virgin Islands', 'Frøya', 'Hitra',\n",
              "       'U.S. Virgin Islands', 'Corsica', 'Eritrea', 'Bahamas', 'Gotland',\n",
              "       'Saare County', 'Rhodes', 'Micronesia', 'Bhutan', 'Orkney',\n",
              "       'Monaco', 'Tuvalu', 'Sark', 'Alderney', 'Mayotte',\n",
              "       'Turks and Caicos Islands', 'East Timor', 'Western Isles',\n",
              "       'Falkland Islands', 'Kosovo', 'Republic of St. Pauli', 'Găgăuzia',\n",
              "       'Tibet', 'Crimea', 'Occitania', 'Sápmi',\n",
              "       'Northern Mariana Islands', 'Menorca', 'Comoros', 'Provence',\n",
              "       'Arameans Suryoye', 'Padania', 'Iraqi Kurdistan', 'Gozo',\n",
              "       'Bonaire', 'Western Sahara', 'Raetia', 'Darfur', 'Tamil Eelam',\n",
              "       'South Sudan', 'Abkhazia', 'St. Pierre & Miquelon', 'Artsakh',\n",
              "       'Madrid', 'Vatican City', 'Ellan Vannin', 'South Ossetia',\n",
              "       'County of Nice', 'Székely Land', 'Romani people', 'Felvidék',\n",
              "       'Chagos Islands', 'United Koreans in Japan', 'Somaliland',\n",
              "       'Western Armenia', 'Barawa', 'Kárpátalja', 'Yorkshire', 'Panjab',\n",
              "       'Matabeleland', 'Cascadia', 'Kabylia', 'Timor-Leste', 'Myanmar',\n",
              "       'Parishes of Jersey', 'Chameria', 'Saint Helena', 'Curacao'],\n",
              "      dtype=object)"
            ]
          },
          "metadata": {
            "tags": []
          },
          "execution_count": 23
        }
      ]
    },
    {
      "cell_type": "markdown",
      "metadata": {
        "id": "Zmfo8wAsMslN"
      },
      "source": [
        "There are no anomalies in the 'home_team' column"
      ]
    },
    {
      "cell_type": "code",
      "metadata": {
        "colab": {
          "base_uri": "https://localhost:8080/"
        },
        "id": "2y8cTTKhNNyI",
        "outputId": "fa9bc514-61c4-4a71-aa81-894f0b6e87d3"
      },
      "source": [
        "# check for anomalies in the 'away_team' column by scrutinizing the unique values\n",
        "results.away_team.unique()"
      ],
      "execution_count": 24,
      "outputs": [
        {
          "output_type": "execute_result",
          "data": {
            "text/plain": [
              "array(['England', 'Scotland', 'Wales', 'Northern Ireland', 'Canada',\n",
              "       'Argentina', 'Hungary', 'Czechoslovakia', 'Uruguay', 'France',\n",
              "       'Austria', 'Switzerland', 'Netherlands', 'Belgium', 'Germany',\n",
              "       'Norway', 'Sweden', 'Italy', 'Chile', 'Catalonia', 'Finland',\n",
              "       'Russia', 'Luxembourg', 'Denmark', 'Brazil', 'Basque Country',\n",
              "       'United States', 'Philippines', 'Estonia', 'Provence',\n",
              "       'El Salvador', 'Costa Rica', 'Paraguay', 'Yugoslavia', 'Poland',\n",
              "       'Portugal', 'Spain', 'Romania', 'Australia', 'Central Spain',\n",
              "       'Mexico', 'Galicia', 'Brittany', 'Asturias', 'China PR',\n",
              "       'New Zealand', 'Latvia', 'Guatemala', 'Curaçao', 'Bulgaria',\n",
              "       'Lithuania', 'Turkey', 'Egypt', 'South Africa', 'Jamaica', 'Japan',\n",
              "       'Republic of Ireland', 'Uganda', 'Bolivia', 'Haiti',\n",
              "       'Trinidad and Tobago', 'Kenya', 'Ukraine', 'Honduras', 'Nicaragua',\n",
              "       'Greece', 'Guyana', 'Peru', 'Aruba', 'Martinique', 'Barbados',\n",
              "       'Cuba', 'Israel', 'Indonesia', 'Suriname', 'Saint Lucia',\n",
              "       'Ecuador', 'Venezuela', 'Grenada', 'India', 'Panama', 'Slovakia',\n",
              "       'Croatia', 'Lebanon', 'Manchukuo', 'Puerto Rico', 'Iran',\n",
              "       'Guadeloupe', 'Mongolia', 'Colombia', 'Tanzania', 'Zambia',\n",
              "       'Montenegro', 'Mauritius', 'Zimbabwe', 'French Guiana', 'Réunion',\n",
              "       'Albania', 'Zanzibar', 'Ethiopia', 'Madagascar', 'Dominica',\n",
              "       'South Korea', 'Djibouti', 'Dominican Republic', 'Cyprus',\n",
              "       'Iceland', 'Nigeria', 'Syria', 'DR Congo', 'Serbia',\n",
              "       'Chinese Taipei', 'Afghanistan', 'Vanuatu', 'Ghana', 'Pakistan',\n",
              "       'German DR', 'Sierra Leone', 'Guinea-Bissau', 'Gambia', 'Saarland',\n",
              "       'Tahiti', 'Burundi', 'Sri Lanka', 'Thailand', 'Burma',\n",
              "       'New Caledonia', 'Cambodia', 'Malaysia', 'Vietnam Republic',\n",
              "       'Kyrgyzstan', 'Belarus', 'Moldova', 'North Vietnam', 'Togo',\n",
              "       'North Korea', 'Sudan', 'Libya', 'Hong Kong', 'Singapore', 'Malta',\n",
              "       'Benin', 'Cape Verde', 'Mali', 'Burkina Faso', 'Ivory Coast',\n",
              "       'Cameroon', 'Iraq', 'Tunisia', 'Morocco',\n",
              "       'Saint Vincent and the Grenadines', 'Guinea', 'Congo', 'Gabon',\n",
              "       'Malawi', 'Jordan', 'Senegal', 'Kuwait', 'Papua New Guinea',\n",
              "       'Solomon Islands', 'Liberia', 'Somalia', 'Laos', 'Saudi Arabia',\n",
              "       'Algeria', 'Chad', 'Central African Republic', 'Bermuda',\n",
              "       'Palestine', 'Yemen', 'Bahrain', 'Wallis Islands and Futuna',\n",
              "       'Niger', 'Corsica', 'Western Australia', 'Botswana', 'Fiji',\n",
              "       'Eswatini', 'Qatar', 'Lesotho', 'Bahamas', 'Brunei',\n",
              "       'Cook Islands', 'Yemen DPR', 'United Arab Emirates',\n",
              "       'Faroe Islands', 'Nepal', 'Antigua and Barbuda', 'Bangladesh',\n",
              "       'Seychelles', 'Oman', 'Equatorial Guinea', 'Mozambique',\n",
              "       'Mauritania', 'Angola', 'São Tomé and Príncipe', 'Macau',\n",
              "       'Saint Kitts and Nevis', 'Armenia', 'Kazakhstan', 'Tonga',\n",
              "       'Kiribati', 'Tuvalu', 'Samoa', 'Greenland', 'Northern Cyprus',\n",
              "       'Rwanda', 'Liechtenstein', 'Bhutan', 'American Samoa',\n",
              "       'Cayman Islands', 'British Virgin Islands', 'Sint Maarten',\n",
              "       'Ynys Môn', 'Shetland', 'Åland Islands', 'Saint Martin',\n",
              "       'San Marino', 'Montserrat', 'Anguilla', 'Guernsey',\n",
              "       'Isle of Wight', 'Jersey', 'Georgia', 'Guam', 'Turkmenistan',\n",
              "       'Slovenia', 'Uzbekistan', 'Eritrea', 'Tajikistan', 'Namibia',\n",
              "       'Azerbaijan', 'Czech Republic', 'Vietnam', 'Isle of Man',\n",
              "       'Gibraltar', 'North Macedonia', 'Belize', 'Bosnia and Herzegovina',\n",
              "       'Maldives', 'Andorra', 'Frøya', 'Hitra',\n",
              "       'Northern Mariana Islands', 'Kernow', 'Turks and Caicos Islands',\n",
              "       'U.S. Virgin Islands', 'Micronesia', 'Saare County', 'Rhodes',\n",
              "       'Tibet', 'Orkney', 'Falkland Islands', 'Mayotte', 'Monaco',\n",
              "       'Vatican City', 'East Timor', 'Gotland', 'Alderney', 'Sark',\n",
              "       'Western Isles', 'Sápmi', 'Crimea', 'Comoros', 'Menorca',\n",
              "       'Iraqi Kurdistan', 'Padania', 'Arameans Suryoye', 'Occitania',\n",
              "       'Gozo', 'Two Sicilies', 'St. Pierre & Miquelon', 'Bonaire',\n",
              "       'Western Sahara', 'Raetia', 'Darfur', 'Tamil Eelam', 'Artsakh',\n",
              "       'Abkhazia', 'South Sudan', 'Andalusia', 'South Ossetia',\n",
              "       'County of Nice', 'Ellan Vannin', 'Romani people', 'Felvidék',\n",
              "       'Chagos Islands', 'Székely Land', 'Somaliland', 'Western Armenia',\n",
              "       'Panjab', 'Kosovo', 'Kárpátalja', 'Yorkshire', 'Surrey',\n",
              "       'Cascadia', 'Matabeleland', 'Kabylia', 'United Koreans in Japan',\n",
              "       'Timor-Leste', 'Myanmar', 'Barawa', 'Parishes of Jersey',\n",
              "       'Chameria', 'Saint Helena', 'Curacao'], dtype=object)"
            ]
          },
          "metadata": {
            "tags": []
          },
          "execution_count": 24
        }
      ]
    },
    {
      "cell_type": "markdown",
      "metadata": {
        "id": "E1byqRyzMn7c"
      },
      "source": [
        "There are no anomalies in the 'away_team' column"
      ]
    },
    {
      "cell_type": "code",
      "metadata": {
        "colab": {
          "base_uri": "https://localhost:8080/",
          "height": 442
        },
        "id": "rsQSW0l_ROEq",
        "outputId": "4e62d7a8-fa29-4b4b-af58-c1a4537521f3"
      },
      "source": [
        "# check for outliers using boxplots\n",
        "\n",
        "# specify the size of the figure\n",
        "fig, ax = plt.subplots(1,2, figsize=(18,7))\n",
        "# label the figure\n",
        "fig.suptitle('Boxplots')\n",
        "\n",
        "# plot the home team scores boxplot\n",
        "sns.boxplot(data=results, y = \"home_score\", ax=ax[0])\n",
        "# label the home team scores boxplot\n",
        "ax[0].set_title('Home Team Scores')\n",
        "\n",
        "# plot the home team scores boxplot\n",
        "sns.boxplot(data=results, y = \"away_score\", ax=ax[1])\n",
        "# label the away team scores boxplot\n",
        "ax[1].set_title('Away Team Scores')\n",
        "\n",
        "# display the figure\n",
        "plt.show()"
      ],
      "execution_count": 25,
      "outputs": [
        {
          "output_type": "display_data",
          "data": {
            "image/png": "[encoded data removed]",
            "text/plain": [
              "<Figure size 1296x504 with 2 Axes>"
            ]
          },
          "metadata": {
            "tags": [],
            "needs_background": "light"
          }
        }
      ]
    },
    {
      "cell_type": "markdown",
      "metadata": {
        "id": "0DcuxHAsRRi7"
      },
      "source": [
        "There is no justifiable reason to remove the outliers as they accurately reflect the number of goals scored by the teams, moreover since we have a large dataset, the outliers won't significantly affect the statistical summaries; therefore, we will retain them."
      ]
    },
    {
      "cell_type": "code",
      "metadata": {
        "colab": {
          "base_uri": "https://localhost:8080/",
          "height": 200
        },
        "id": "BfvFKfmxsU03",
        "outputId": "4ea7395d-f9a8-42f6-bce9-53ed8f6cd2b6"
      },
      "source": [
        "# preview top 5 entries of the cleaned dataset\n",
        "results.head()"
      ],
      "execution_count": 26,
      "outputs": [
        {
          "output_type": "execute_result",
          "data": {
            "text/html": [
              "<div>\n",
              "<style scoped>\n",
              "    .dataframe tbody tr th:only-of-type {\n",
              "        vertical-align: middle;\n",
              "    }\n",
              "\n",
              "    .dataframe tbody tr th {\n",
              "        vertical-align: top;\n",
              "    }\n",
              "\n",
              "    .dataframe thead th {\n",
              "        text-align: right;\n",
              "    }\n",
              "</style>\n",
              "<table border=\"1\" class=\"dataframe\">\n",
              "  <thead>\n",
              "    <tr style=\"text-align: right;\">\n",
              "      <th></th>\n",
              "      <th>date</th>\n",
              "      <th>home_team</th>\n",
              "      <th>away_team</th>\n",
              "      <th>home_score</th>\n",
              "      <th>away_score</th>\n",
              "      <th>tournament</th>\n",
              "    </tr>\n",
              "  </thead>\n",
              "  <tbody>\n",
              "    <tr>\n",
              "      <th>0</th>\n",
              "      <td>1872-11</td>\n",
              "      <td>Scotland</td>\n",
              "      <td>England</td>\n",
              "      <td>0</td>\n",
              "      <td>0</td>\n",
              "      <td>Friendly</td>\n",
              "    </tr>\n",
              "    <tr>\n",
              "      <th>1</th>\n",
              "      <td>1873-03</td>\n",
              "      <td>England</td>\n",
              "      <td>Scotland</td>\n",
              "      <td>4</td>\n",
              "      <td>2</td>\n",
              "      <td>Friendly</td>\n",
              "    </tr>\n",
              "    <tr>\n",
              "      <th>2</th>\n",
              "      <td>1874-03</td>\n",
              "      <td>Scotland</td>\n",
              "      <td>England</td>\n",
              "      <td>2</td>\n",
              "      <td>1</td>\n",
              "      <td>Friendly</td>\n",
              "    </tr>\n",
              "    <tr>\n",
              "      <th>3</th>\n",
              "      <td>1875-03</td>\n",
              "      <td>England</td>\n",
              "      <td>Scotland</td>\n",
              "      <td>2</td>\n",
              "      <td>2</td>\n",
              "      <td>Friendly</td>\n",
              "    </tr>\n",
              "    <tr>\n",
              "      <th>4</th>\n",
              "      <td>1876-03</td>\n",
              "      <td>Scotland</td>\n",
              "      <td>England</td>\n",
              "      <td>3</td>\n",
              "      <td>0</td>\n",
              "      <td>Friendly</td>\n",
              "    </tr>\n",
              "  </tbody>\n",
              "</table>\n",
              "</div>"
            ],
            "text/plain": [
              "      date home_team away_team  home_score  away_score tournament\n",
              "0  1872-11  Scotland   England           0           0   Friendly\n",
              "1  1873-03   England  Scotland           4           2   Friendly\n",
              "2  1874-03  Scotland   England           2           1   Friendly\n",
              "3  1875-03   England  Scotland           2           2   Friendly\n",
              "4  1876-03  Scotland   England           3           0   Friendly"
            ]
          },
          "metadata": {
            "tags": []
          },
          "execution_count": 26
        }
      ]
    },
    {
      "cell_type": "code",
      "metadata": {
        "colab": {
          "base_uri": "https://localhost:8080/"
        },
        "id": "-TEHT_M7qdPH",
        "outputId": "3f700624-05e4-4422-82a3-db6388694246"
      },
      "source": [
        "# check the number of remaining records after cleaning\n",
        "results.shape"
      ],
      "execution_count": 27,
      "outputs": [
        {
          "output_type": "execute_result",
          "data": {
            "text/plain": [
              "(40839, 6)"
            ]
          },
          "metadata": {
            "tags": []
          },
          "execution_count": 27
        }
      ]
    },
    {
      "cell_type": "markdown",
      "metadata": {
        "id": "duxWBKrpsy8Z"
      },
      "source": [
        "## Merging the Datasets"
      ]
    },
    {
      "cell_type": "code",
      "metadata": {
        "colab": {
          "base_uri": "https://localhost:8080/",
          "height": 200
        },
        "id": "eP7HWzb_ghPu",
        "outputId": "a3ef5d5f-63a1-4a23-a3ee-840ff2febcec"
      },
      "source": [
        "# merge 'rankings' and 'results' datasets by home team country and date using inner join\n",
        "home_merge = pd.merge(results, rankings, how = 'inner' , right_on =['date', 'country'], left_on = ['date', 'home_team'])\n",
        "\n",
        "# preview the top 5 entries of the merged dataset\n",
        "home_merge.head()"
      ],
      "execution_count": 28,
      "outputs": [
        {
          "output_type": "execute_result",
          "data": {
            "text/html": [
              "<div>\n",
              "<style scoped>\n",
              "    .dataframe tbody tr th:only-of-type {\n",
              "        vertical-align: middle;\n",
              "    }\n",
              "\n",
              "    .dataframe tbody tr th {\n",
              "        vertical-align: top;\n",
              "    }\n",
              "\n",
              "    .dataframe thead th {\n",
              "        text-align: right;\n",
              "    }\n",
              "</style>\n",
              "<table border=\"1\" class=\"dataframe\">\n",
              "  <thead>\n",
              "    <tr style=\"text-align: right;\">\n",
              "      <th></th>\n",
              "      <th>date</th>\n",
              "      <th>home_team</th>\n",
              "      <th>away_team</th>\n",
              "      <th>home_score</th>\n",
              "      <th>away_score</th>\n",
              "      <th>tournament</th>\n",
              "      <th>rank</th>\n",
              "      <th>country</th>\n",
              "    </tr>\n",
              "  </thead>\n",
              "  <tbody>\n",
              "    <tr>\n",
              "      <th>0</th>\n",
              "      <td>1993-08</td>\n",
              "      <td>Colombia</td>\n",
              "      <td>Paraguay</td>\n",
              "      <td>0</td>\n",
              "      <td>0</td>\n",
              "      <td>Other</td>\n",
              "      <td>19</td>\n",
              "      <td>Colombia</td>\n",
              "    </tr>\n",
              "    <tr>\n",
              "      <th>1</th>\n",
              "      <td>1993-08</td>\n",
              "      <td>Colombia</td>\n",
              "      <td>Argentina</td>\n",
              "      <td>2</td>\n",
              "      <td>1</td>\n",
              "      <td>Other</td>\n",
              "      <td>19</td>\n",
              "      <td>Colombia</td>\n",
              "    </tr>\n",
              "    <tr>\n",
              "      <th>2</th>\n",
              "      <td>1993-08</td>\n",
              "      <td>Colombia</td>\n",
              "      <td>Peru</td>\n",
              "      <td>4</td>\n",
              "      <td>0</td>\n",
              "      <td>Other</td>\n",
              "      <td>19</td>\n",
              "      <td>Colombia</td>\n",
              "    </tr>\n",
              "    <tr>\n",
              "      <th>3</th>\n",
              "      <td>1993-08</td>\n",
              "      <td>Peru</td>\n",
              "      <td>Argentina</td>\n",
              "      <td>0</td>\n",
              "      <td>1</td>\n",
              "      <td>Other</td>\n",
              "      <td>70</td>\n",
              "      <td>Peru</td>\n",
              "    </tr>\n",
              "    <tr>\n",
              "      <th>4</th>\n",
              "      <td>1993-08</td>\n",
              "      <td>Peru</td>\n",
              "      <td>Colombia</td>\n",
              "      <td>0</td>\n",
              "      <td>1</td>\n",
              "      <td>Other</td>\n",
              "      <td>70</td>\n",
              "      <td>Peru</td>\n",
              "    </tr>\n",
              "  </tbody>\n",
              "</table>\n",
              "</div>"
            ],
            "text/plain": [
              "      date home_team  away_team  ...  tournament  rank   country\n",
              "0  1993-08  Colombia   Paraguay  ...       Other    19  Colombia\n",
              "1  1993-08  Colombia  Argentina  ...       Other    19  Colombia\n",
              "2  1993-08  Colombia       Peru  ...       Other    19  Colombia\n",
              "3  1993-08      Peru  Argentina  ...       Other    70      Peru\n",
              "4  1993-08      Peru   Colombia  ...       Other    70      Peru\n",
              "\n",
              "[5 rows x 8 columns]"
            ]
          },
          "metadata": {
            "tags": []
          },
          "execution_count": 28
        }
      ]
    },
    {
      "cell_type": "code",
      "metadata": {
        "id": "R72CokCmhDuE"
      },
      "source": [
        "# rename 'rank' to 'home_team_rank' \n",
        "home_merge.rename(columns={'rank':'home_team_rank'},inplace=True)"
      ],
      "execution_count": 29,
      "outputs": []
    },
    {
      "cell_type": "code",
      "metadata": {
        "id": "wq0KfeJcmtxD",
        "colab": {
          "base_uri": "https://localhost:8080/",
          "height": 200
        },
        "outputId": "8fd3ab95-1693-406a-e9ad-429a1c84404f"
      },
      "source": [
        "# merge 'home_merge' and 'rankings' datasets by away team country and date\n",
        "matches = pd.merge(home_merge, rankings, how = 'inner' , right_on =['date', 'country'], left_on = ['date', 'away_team'])\n",
        "\n",
        "# preview the bottom 5 entries of the merged dataset\n",
        "matches.tail()"
      ],
      "execution_count": 30,
      "outputs": [
        {
          "output_type": "execute_result",
          "data": {
            "text/html": [
              "<div>\n",
              "<style scoped>\n",
              "    .dataframe tbody tr th:only-of-type {\n",
              "        vertical-align: middle;\n",
              "    }\n",
              "\n",
              "    .dataframe tbody tr th {\n",
              "        vertical-align: top;\n",
              "    }\n",
              "\n",
              "    .dataframe thead th {\n",
              "        text-align: right;\n",
              "    }\n",
              "</style>\n",
              "<table border=\"1\" class=\"dataframe\">\n",
              "  <thead>\n",
              "    <tr style=\"text-align: right;\">\n",
              "      <th></th>\n",
              "      <th>date</th>\n",
              "      <th>home_team</th>\n",
              "      <th>away_team</th>\n",
              "      <th>home_score</th>\n",
              "      <th>away_score</th>\n",
              "      <th>tournament</th>\n",
              "      <th>home_team_rank</th>\n",
              "      <th>country_x</th>\n",
              "      <th>rank</th>\n",
              "      <th>country_y</th>\n",
              "    </tr>\n",
              "  </thead>\n",
              "  <tbody>\n",
              "    <tr>\n",
              "      <th>16913</th>\n",
              "      <td>2018-06</td>\n",
              "      <td>Tunisia</td>\n",
              "      <td>England</td>\n",
              "      <td>1</td>\n",
              "      <td>2</td>\n",
              "      <td>Other</td>\n",
              "      <td>21</td>\n",
              "      <td>Tunisia</td>\n",
              "      <td>12</td>\n",
              "      <td>England</td>\n",
              "    </tr>\n",
              "    <tr>\n",
              "      <th>16914</th>\n",
              "      <td>2018-06</td>\n",
              "      <td>Japan</td>\n",
              "      <td>Paraguay</td>\n",
              "      <td>4</td>\n",
              "      <td>2</td>\n",
              "      <td>Friendly</td>\n",
              "      <td>61</td>\n",
              "      <td>Japan</td>\n",
              "      <td>32</td>\n",
              "      <td>Paraguay</td>\n",
              "    </tr>\n",
              "    <tr>\n",
              "      <th>16915</th>\n",
              "      <td>2018-06</td>\n",
              "      <td>Japan</td>\n",
              "      <td>Poland</td>\n",
              "      <td>0</td>\n",
              "      <td>1</td>\n",
              "      <td>Other</td>\n",
              "      <td>61</td>\n",
              "      <td>Japan</td>\n",
              "      <td>8</td>\n",
              "      <td>Poland</td>\n",
              "    </tr>\n",
              "    <tr>\n",
              "      <th>16916</th>\n",
              "      <td>2018-06</td>\n",
              "      <td>Argentina</td>\n",
              "      <td>Iceland</td>\n",
              "      <td>1</td>\n",
              "      <td>1</td>\n",
              "      <td>Other</td>\n",
              "      <td>5</td>\n",
              "      <td>Argentina</td>\n",
              "      <td>22</td>\n",
              "      <td>Iceland</td>\n",
              "    </tr>\n",
              "    <tr>\n",
              "      <th>16917</th>\n",
              "      <td>2018-06</td>\n",
              "      <td>Nigeria</td>\n",
              "      <td>Iceland</td>\n",
              "      <td>2</td>\n",
              "      <td>0</td>\n",
              "      <td>Other</td>\n",
              "      <td>48</td>\n",
              "      <td>Nigeria</td>\n",
              "      <td>22</td>\n",
              "      <td>Iceland</td>\n",
              "    </tr>\n",
              "  </tbody>\n",
              "</table>\n",
              "</div>"
            ],
            "text/plain": [
              "          date  home_team away_team  ...  country_x  rank country_y\n",
              "16913  2018-06    Tunisia   England  ...    Tunisia    12   England\n",
              "16914  2018-06      Japan  Paraguay  ...      Japan    32  Paraguay\n",
              "16915  2018-06      Japan    Poland  ...      Japan     8    Poland\n",
              "16916  2018-06  Argentina   Iceland  ...  Argentina    22   Iceland\n",
              "16917  2018-06    Nigeria   Iceland  ...    Nigeria    22   Iceland\n",
              "\n",
              "[5 rows x 10 columns]"
            ]
          },
          "metadata": {
            "tags": []
          },
          "execution_count": 30
        }
      ]
    },
    {
      "cell_type": "code",
      "metadata": {
        "id": "dIG3mBx2QOpo"
      },
      "source": [
        "# rename 'rank' to 'away_team_rank'\n",
        "matches.rename(columns={'rank':'away_team_rank'},inplace=True)\n",
        "\n",
        "# drop the 'country_x' and 'country_y' columns\n",
        "matches.drop(['country_x', 'country_y'],axis=1, inplace=True)"
      ],
      "execution_count": 31,
      "outputs": []
    },
    {
      "cell_type": "code",
      "metadata": {
        "colab": {
          "base_uri": "https://localhost:8080/",
          "height": 200
        },
        "id": "_iRSzxB30cYn",
        "outputId": "bc2d548b-13e0-405b-eb2f-d452fa4b6f4a"
      },
      "source": [
        "# preview the top 5 records of the dataset\n",
        "matches.head()"
      ],
      "execution_count": 32,
      "outputs": [
        {
          "output_type": "execute_result",
          "data": {
            "text/html": [
              "<div>\n",
              "<style scoped>\n",
              "    .dataframe tbody tr th:only-of-type {\n",
              "        vertical-align: middle;\n",
              "    }\n",
              "\n",
              "    .dataframe tbody tr th {\n",
              "        vertical-align: top;\n",
              "    }\n",
              "\n",
              "    .dataframe thead th {\n",
              "        text-align: right;\n",
              "    }\n",
              "</style>\n",
              "<table border=\"1\" class=\"dataframe\">\n",
              "  <thead>\n",
              "    <tr style=\"text-align: right;\">\n",
              "      <th></th>\n",
              "      <th>date</th>\n",
              "      <th>home_team</th>\n",
              "      <th>away_team</th>\n",
              "      <th>home_score</th>\n",
              "      <th>away_score</th>\n",
              "      <th>tournament</th>\n",
              "      <th>home_team_rank</th>\n",
              "      <th>away_team_rank</th>\n",
              "    </tr>\n",
              "  </thead>\n",
              "  <tbody>\n",
              "    <tr>\n",
              "      <th>0</th>\n",
              "      <td>1993-08</td>\n",
              "      <td>Colombia</td>\n",
              "      <td>Paraguay</td>\n",
              "      <td>0</td>\n",
              "      <td>0</td>\n",
              "      <td>Other</td>\n",
              "      <td>19</td>\n",
              "      <td>67</td>\n",
              "    </tr>\n",
              "    <tr>\n",
              "      <th>1</th>\n",
              "      <td>1993-08</td>\n",
              "      <td>Argentina</td>\n",
              "      <td>Paraguay</td>\n",
              "      <td>0</td>\n",
              "      <td>0</td>\n",
              "      <td>Other</td>\n",
              "      <td>5</td>\n",
              "      <td>67</td>\n",
              "    </tr>\n",
              "    <tr>\n",
              "      <th>2</th>\n",
              "      <td>1993-08</td>\n",
              "      <td>Colombia</td>\n",
              "      <td>Argentina</td>\n",
              "      <td>2</td>\n",
              "      <td>1</td>\n",
              "      <td>Other</td>\n",
              "      <td>19</td>\n",
              "      <td>5</td>\n",
              "    </tr>\n",
              "    <tr>\n",
              "      <th>3</th>\n",
              "      <td>1993-08</td>\n",
              "      <td>Peru</td>\n",
              "      <td>Argentina</td>\n",
              "      <td>0</td>\n",
              "      <td>1</td>\n",
              "      <td>Other</td>\n",
              "      <td>70</td>\n",
              "      <td>5</td>\n",
              "    </tr>\n",
              "    <tr>\n",
              "      <th>4</th>\n",
              "      <td>1993-08</td>\n",
              "      <td>Paraguay</td>\n",
              "      <td>Argentina</td>\n",
              "      <td>1</td>\n",
              "      <td>3</td>\n",
              "      <td>Other</td>\n",
              "      <td>67</td>\n",
              "      <td>5</td>\n",
              "    </tr>\n",
              "  </tbody>\n",
              "</table>\n",
              "</div>"
            ],
            "text/plain": [
              "      date  home_team  away_team  ...  tournament  home_team_rank away_team_rank\n",
              "0  1993-08   Colombia   Paraguay  ...       Other              19             67\n",
              "1  1993-08  Argentina   Paraguay  ...       Other               5             67\n",
              "2  1993-08   Colombia  Argentina  ...       Other              19              5\n",
              "3  1993-08       Peru  Argentina  ...       Other              70              5\n",
              "4  1993-08   Paraguay  Argentina  ...       Other              67              5\n",
              "\n",
              "[5 rows x 8 columns]"
            ]
          },
          "metadata": {
            "tags": []
          },
          "execution_count": 32
        }
      ]
    },
    {
      "cell_type": "code",
      "metadata": {
        "id": "VHZmDDEKy10J",
        "colab": {
          "base_uri": "https://localhost:8080/"
        },
        "outputId": "b1d40a1e-a911-4600-8928-04a0d09c60ca"
      },
      "source": [
        "# check the number of records of dataset\n",
        "matches.shape"
      ],
      "execution_count": 33,
      "outputs": [
        {
          "output_type": "execute_result",
          "data": {
            "text/plain": [
              "(16918, 8)"
            ]
          },
          "metadata": {
            "tags": []
          },
          "execution_count": 33
        }
      ]
    },
    {
      "cell_type": "code",
      "metadata": {
        "id": "oJhQeDOUshiZ"
      },
      "source": [
        "# export the merged dataset as a csv file\n",
        "matches.to_csv('matches.csv', index=False)"
      ],
      "execution_count": 34,
      "outputs": []
    },
    {
      "cell_type": "markdown",
      "metadata": {
        "id": "8Q8P-SMa1NOY"
      },
      "source": [
        "## Desciprive Analysis"
      ]
    },
    {
      "cell_type": "markdown",
      "metadata": {
        "id": "z1SqhOyg-_Z8"
      },
      "source": [
        "Descriptive analysis will help us understand our dataset better"
      ]
    },
    {
      "cell_type": "code",
      "metadata": {
        "colab": {
          "base_uri": "https://localhost:8080/"
        },
        "id": "7HIY4W0b_PK6",
        "outputId": "bdf04a56-c594-4c37-9779-c95c08d1095d"
      },
      "source": [
        "# find out the total number of distinct teams to play as a home team\n",
        "print('The total number of teams to ever play as a home team is ' +str(matches['home_team'].nunique()))\n",
        "\n",
        "# find out the total number of distinct teams to play as an away team\n",
        "print('The total number of teams to ever play as an away team is ' +str(matches['away_team'].nunique()))"
      ],
      "execution_count": 35,
      "outputs": [
        {
          "output_type": "stream",
          "text": [
            "The total number of teams to ever play as a home team is 193\n",
            "The total number of teams to ever play as an away team is 193\n"
          ],
          "name": "stdout"
        }
      ]
    },
    {
      "cell_type": "code",
      "metadata": {
        "colab": {
          "base_uri": "https://localhost:8080/",
          "height": 291
        },
        "id": "xLnkb8kK1AXx",
        "outputId": "1de1f102-8486-41a5-d3b9-69e1116f8b31"
      },
      "source": [
        "# compute the general statistical summaries of 'home_score' and 'away_score' columns\n",
        "matches[['home_score', 'away_score']].describe()"
      ],
      "execution_count": 36,
      "outputs": [
        {
          "output_type": "execute_result",
          "data": {
            "text/html": [
              "<div>\n",
              "<style scoped>\n",
              "    .dataframe tbody tr th:only-of-type {\n",
              "        vertical-align: middle;\n",
              "    }\n",
              "\n",
              "    .dataframe tbody tr th {\n",
              "        vertical-align: top;\n",
              "    }\n",
              "\n",
              "    .dataframe thead th {\n",
              "        text-align: right;\n",
              "    }\n",
              "</style>\n",
              "<table border=\"1\" class=\"dataframe\">\n",
              "  <thead>\n",
              "    <tr style=\"text-align: right;\">\n",
              "      <th></th>\n",
              "      <th>home_score</th>\n",
              "      <th>away_score</th>\n",
              "    </tr>\n",
              "  </thead>\n",
              "  <tbody>\n",
              "    <tr>\n",
              "      <th>count</th>\n",
              "      <td>16918.000000</td>\n",
              "      <td>16918.000000</td>\n",
              "    </tr>\n",
              "    <tr>\n",
              "      <th>mean</th>\n",
              "      <td>1.603499</td>\n",
              "      <td>1.068448</td>\n",
              "    </tr>\n",
              "    <tr>\n",
              "      <th>std</th>\n",
              "      <td>1.615346</td>\n",
              "      <td>1.244975</td>\n",
              "    </tr>\n",
              "    <tr>\n",
              "      <th>min</th>\n",
              "      <td>0.000000</td>\n",
              "      <td>0.000000</td>\n",
              "    </tr>\n",
              "    <tr>\n",
              "      <th>25%</th>\n",
              "      <td>0.000000</td>\n",
              "      <td>0.000000</td>\n",
              "    </tr>\n",
              "    <tr>\n",
              "      <th>50%</th>\n",
              "      <td>1.000000</td>\n",
              "      <td>1.000000</td>\n",
              "    </tr>\n",
              "    <tr>\n",
              "      <th>75%</th>\n",
              "      <td>2.000000</td>\n",
              "      <td>2.000000</td>\n",
              "    </tr>\n",
              "    <tr>\n",
              "      <th>max</th>\n",
              "      <td>31.000000</td>\n",
              "      <td>15.000000</td>\n",
              "    </tr>\n",
              "  </tbody>\n",
              "</table>\n",
              "</div>"
            ],
            "text/plain": [
              "         home_score    away_score\n",
              "count  16918.000000  16918.000000\n",
              "mean       1.603499      1.068448\n",
              "std        1.615346      1.244975\n",
              "min        0.000000      0.000000\n",
              "25%        0.000000      0.000000\n",
              "50%        1.000000      1.000000\n",
              "75%        2.000000      2.000000\n",
              "max       31.000000     15.000000"
            ]
          },
          "metadata": {
            "tags": []
          },
          "execution_count": 36
        }
      ]
    },
    {
      "cell_type": "code",
      "metadata": {
        "colab": {
          "base_uri": "https://localhost:8080/",
          "height": 414
        },
        "id": "E2ikQ6BcARid",
        "outputId": "4af813ac-b265-4f11-c3d4-2efacff1b854"
      },
      "source": [
        "# visualize the distribution of the home scores using a countplot\n",
        "\n",
        "# specify the size of the chart\n",
        "plt.figure(figsize = (10, 6))\n",
        "\n",
        "# plot the count plot\n",
        "sns.countplot(matches.home_score)\n",
        "\n",
        "# label the chart\n",
        "plt.title('Distribution of Home Team Goals', fontsize=20, y=1.015)\n",
        "# label the x axis\n",
        "plt.xlabel('Number of Goals')\n",
        "# label the y axis\n",
        "plt.ylabel('Frequency')\n",
        "# display the chart\n",
        "plt.show()"
      ],
      "execution_count": 37,
      "outputs": [
        {
          "output_type": "display_data",
          "data": {
            "image/png": "[encoded data removed]",
            "text/plain": [
              "<Figure size 720x432 with 1 Axes>"
            ]
          },
          "metadata": {
            "tags": [],
            "needs_background": "light"
          }
        }
      ]
    },
    {
      "cell_type": "code",
      "metadata": {
        "colab": {
          "base_uri": "https://localhost:8080/",
          "height": 414
        },
        "id": "zMFFYRmmEf-_",
        "outputId": "eb15beaa-ffaa-4fc6-fe3a-26c7efabffdc"
      },
      "source": [
        "# visualize the distribution of the away scores using a countplot\n",
        "\n",
        "# specify the size of the chart\n",
        "plt.figure(figsize = (10, 6))\n",
        "\n",
        "# plot the count plot\n",
        "sns.countplot(matches.away_score)\n",
        "\n",
        "# label the chart\n",
        "plt.title('Distribution of Away Team Goals', fontsize=20, y=1.015)\n",
        "# label the x axis\n",
        "plt.xlabel('Number of Goals')\n",
        "# label the y axis\n",
        "plt.ylabel('Frequency')\n",
        "# display the chart\n",
        "plt.show()"
      ],
      "execution_count": 38,
      "outputs": [
        {
          "output_type": "display_data",
          "data": {
            "image/png": "[encoded data removed]",
            "text/plain": [
              "<Figure size 720x432 with 1 Axes>"
            ]
          },
          "metadata": {
            "tags": [],
            "needs_background": "light"
          }
        }
      ]
    },
    {
      "cell_type": "code",
      "metadata": {
        "colab": {
          "base_uri": "https://localhost:8080/",
          "height": 483
        },
        "id": "6S8BMpuhD-Br",
        "outputId": "d3240798-4c30-4f50-e055-bea966f8e24f"
      },
      "source": [
        "# plot a bar graph to show the proportions of the types of tournaments \n",
        "\n",
        "# display the proportions of the types of tournaments in a frequency table\n",
        "print(matches.tournament.value_counts(normalize=True))\n",
        "\n",
        "# specify the size of the figure  \n",
        "fig, ax = plt.subplots(figsize=(10,6))\n",
        "\n",
        "# plot the bar graph\n",
        "(matches['tournament'].value_counts(normalize=True)).plot.bar()\n",
        "\n",
        "# labelling the bar chart \n",
        "plt.title('Proportion Distribution of the Types of Tournaments in the Dataset ', fontsize=20, y=1.015)\n",
        "# labelling the x axis \n",
        "plt.xlabel('Type of tournament', fontsize=16, labelpad=15)\n",
        "# rotate the labels on the x axis\n",
        "plt.xticks(rotation = 360)\n",
        "# labelling the y axis\n",
        "plt.ylabel('Proportion', fontsize=16, labelpad=15)\n",
        "#display bar chart\n",
        "plt.show()"
      ],
      "execution_count": 39,
      "outputs": [
        {
          "output_type": "stream",
          "text": [
            "Other       0.618867\n",
            "Friendly    0.381133\n",
            "Name: tournament, dtype: float64\n"
          ],
          "name": "stdout"
        },
        {
          "output_type": "display_data",
          "data": {
            "image/png": "[encoded data removed]",
            "text/plain": [
              "<Figure size 720x432 with 1 Axes>"
            ]
          },
          "metadata": {
            "tags": [],
            "needs_background": "light"
          }
        }
      ]
    },
    {
      "cell_type": "code",
      "metadata": {
        "colab": {
          "base_uri": "https://localhost:8080/"
        },
        "id": "hIwqdIHoO4WI",
        "outputId": "122bff5a-a06b-4163-bcf4-b50b1763b800"
      },
      "source": [
        "# find the highest home team rank\n",
        "print('The highest rank in home teams is ' +str(matches['home_team_rank'].min()))\n",
        "# find the lowest home team rank\n",
        "print('The lowest rank in home teams is ' +str(matches['home_team_rank'].max()))\n",
        "print('')\n",
        "# find the highest home team rank\n",
        "print('The highest rank in away teams is ' +str(matches['away_team_rank'].min()))\n",
        "# find the lowest away team rank\n",
        "print('The lowest rank in away teams is ' +str(matches['away_team_rank'].max()))"
      ],
      "execution_count": 40,
      "outputs": [
        {
          "output_type": "stream",
          "text": [
            "The highest rank in home teams is 1\n",
            "The lowest rank in home teams is 209\n",
            "\n",
            "The highest rank in away teams is 1\n",
            "The lowest rank in away teams is 209\n"
          ],
          "name": "stdout"
        }
      ]
    },
    {
      "cell_type": "markdown",
      "metadata": {
        "id": "jkc0tt6W78_N"
      },
      "source": [
        "## Implementing the Solution"
      ]
    },
    {
      "cell_type": "markdown",
      "metadata": {
        "id": "_OBrkMH771x-"
      },
      "source": [
        "### Polynomial regression"
      ]
    },
    {
      "cell_type": "markdown",
      "metadata": {
        "id": "m_GT7JhuJQOU"
      },
      "source": [
        "We will use polynomial regression to create a model that predicts the results of a home team and another model that predicts the results of an away team based on the home team's rank, away team's rank and the tournament's type.  \n",
        "\n",
        "These features are categorical in nature; therefore, it is unlikely that polynimial regression models will do well in accomplishing the objective of predicting the home teams' and away teams' scores, but we will use them as numerical data just to see how the model will fair   \n",
        "\n"
      ]
    },
    {
      "cell_type": "markdown",
      "metadata": {
        "id": "xxLqyfUX-o7v"
      },
      "source": [
        "#### Feature selection and engineering"
      ]
    },
    {
      "cell_type": "code",
      "metadata": {
        "id": "-_BuztG4ff-P"
      },
      "source": [
        "# make a copy of our dataset\n",
        "match_copy= matches.copy()"
      ],
      "execution_count": 41,
      "outputs": []
    },
    {
      "cell_type": "code",
      "metadata": {
        "id": "-C2OoDbXPkGc"
      },
      "source": [
        "# feature selection\n",
        "# drop the columns that are irrelevant to our regression model\n",
        "match_copy.drop(['date','home_team', 'away_team'], axis=1, inplace=True)"
      ],
      "execution_count": 42,
      "outputs": []
    },
    {
      "cell_type": "code",
      "metadata": {
        "id": "ixj56Ao6fYAH",
        "colab": {
          "base_uri": "https://localhost:8080/"
        },
        "outputId": "d7e0c318-5c36-44a4-ab22-e44730f2516d"
      },
      "source": [
        "# feature engineering\n",
        "# import label encoder for label encoding\n",
        "from sklearn.preprocessing import LabelEncoder \n",
        "lb=LabelEncoder()\n",
        "\n",
        "# encode the values in 'tournament' column so that they can be in 0's and 1's \n",
        "match_copy['tournament']=lb.fit_transform(match_copy['tournament'].astype(str))\n",
        "\n",
        "# check how the values have been transformed by comparing with the uncoded values in the original dataset\n",
        "print(matches.tournament.value_counts())\n",
        "print(match_copy.tournament.value_counts())"
      ],
      "execution_count": 43,
      "outputs": [
        {
          "output_type": "stream",
          "text": [
            "Other       10470\n",
            "Friendly     6448\n",
            "Name: tournament, dtype: int64\n",
            "1    10470\n",
            "0     6448\n",
            "Name: tournament, dtype: int64\n"
          ],
          "name": "stdout"
        }
      ]
    },
    {
      "cell_type": "markdown",
      "metadata": {
        "id": "-7jmrHx4OqXZ"
      },
      "source": [
        "Other has been encoded as 1 while Friendly has been encoded as 0 "
      ]
    },
    {
      "cell_type": "code",
      "metadata": {
        "colab": {
          "base_uri": "https://localhost:8080/",
          "height": 200
        },
        "id": "RRoJcNQpt32H",
        "outputId": "eb994c71-11ad-4aec-ce8c-2538af23a00d"
      },
      "source": [
        "# preview the first entries of the dataframe with our features\n",
        "match_copy.head()"
      ],
      "execution_count": 44,
      "outputs": [
        {
          "output_type": "execute_result",
          "data": {
            "text/html": [
              "<div>\n",
              "<style scoped>\n",
              "    .dataframe tbody tr th:only-of-type {\n",
              "        vertical-align: middle;\n",
              "    }\n",
              "\n",
              "    .dataframe tbody tr th {\n",
              "        vertical-align: top;\n",
              "    }\n",
              "\n",
              "    .dataframe thead th {\n",
              "        text-align: right;\n",
              "    }\n",
              "</style>\n",
              "<table border=\"1\" class=\"dataframe\">\n",
              "  <thead>\n",
              "    <tr style=\"text-align: right;\">\n",
              "      <th></th>\n",
              "      <th>home_score</th>\n",
              "      <th>away_score</th>\n",
              "      <th>tournament</th>\n",
              "      <th>home_team_rank</th>\n",
              "      <th>away_team_rank</th>\n",
              "    </tr>\n",
              "  </thead>\n",
              "  <tbody>\n",
              "    <tr>\n",
              "      <th>0</th>\n",
              "      <td>0</td>\n",
              "      <td>0</td>\n",
              "      <td>1</td>\n",
              "      <td>19</td>\n",
              "      <td>67</td>\n",
              "    </tr>\n",
              "    <tr>\n",
              "      <th>1</th>\n",
              "      <td>0</td>\n",
              "      <td>0</td>\n",
              "      <td>1</td>\n",
              "      <td>5</td>\n",
              "      <td>67</td>\n",
              "    </tr>\n",
              "    <tr>\n",
              "      <th>2</th>\n",
              "      <td>2</td>\n",
              "      <td>1</td>\n",
              "      <td>1</td>\n",
              "      <td>19</td>\n",
              "      <td>5</td>\n",
              "    </tr>\n",
              "    <tr>\n",
              "      <th>3</th>\n",
              "      <td>0</td>\n",
              "      <td>1</td>\n",
              "      <td>1</td>\n",
              "      <td>70</td>\n",
              "      <td>5</td>\n",
              "    </tr>\n",
              "    <tr>\n",
              "      <th>4</th>\n",
              "      <td>1</td>\n",
              "      <td>3</td>\n",
              "      <td>1</td>\n",
              "      <td>67</td>\n",
              "      <td>5</td>\n",
              "    </tr>\n",
              "  </tbody>\n",
              "</table>\n",
              "</div>"
            ],
            "text/plain": [
              "   home_score  away_score  tournament  home_team_rank  away_team_rank\n",
              "0           0           0           1              19              67\n",
              "1           0           0           1               5              67\n",
              "2           2           1           1              19               5\n",
              "3           0           1           1              70               5\n",
              "4           1           3           1              67               5"
            ]
          },
          "metadata": {
            "tags": []
          },
          "execution_count": 44
        }
      ]
    },
    {
      "cell_type": "markdown",
      "metadata": {
        "id": "aEpbwAHeMWYI"
      },
      "source": [
        "### Multicollinearity test"
      ]
    },
    {
      "cell_type": "code",
      "metadata": {
        "colab": {
          "base_uri": "https://localhost:8080/",
          "height": 139
        },
        "id": "6HTARpjrHcet",
        "outputId": "34cd28ab-f18c-46e2-f65a-06fb2f3b72b7"
      },
      "source": [
        "# lets put all the independent variables in one subset\n",
        "independent_variables = match_copy[['tournament', 'home_team_rank', 'away_team_rank']]\n",
        "\n",
        "# find the correlations between the variables\n",
        "correlations = independent_variables.corr()\n",
        "correlations"
      ],
      "execution_count": 45,
      "outputs": [
        {
          "output_type": "execute_result",
          "data": {
            "text/html": [
              "<div>\n",
              "<style scoped>\n",
              "    .dataframe tbody tr th:only-of-type {\n",
              "        vertical-align: middle;\n",
              "    }\n",
              "\n",
              "    .dataframe tbody tr th {\n",
              "        vertical-align: top;\n",
              "    }\n",
              "\n",
              "    .dataframe thead th {\n",
              "        text-align: right;\n",
              "    }\n",
              "</style>\n",
              "<table border=\"1\" class=\"dataframe\">\n",
              "  <thead>\n",
              "    <tr style=\"text-align: right;\">\n",
              "      <th></th>\n",
              "      <th>tournament</th>\n",
              "      <th>home_team_rank</th>\n",
              "      <th>away_team_rank</th>\n",
              "    </tr>\n",
              "  </thead>\n",
              "  <tbody>\n",
              "    <tr>\n",
              "      <th>tournament</th>\n",
              "      <td>1.000000</td>\n",
              "      <td>0.094349</td>\n",
              "      <td>0.094754</td>\n",
              "    </tr>\n",
              "    <tr>\n",
              "      <th>home_team_rank</th>\n",
              "      <td>0.094349</td>\n",
              "      <td>1.000000</td>\n",
              "      <td>0.469861</td>\n",
              "    </tr>\n",
              "    <tr>\n",
              "      <th>away_team_rank</th>\n",
              "      <td>0.094754</td>\n",
              "      <td>0.469861</td>\n",
              "      <td>1.000000</td>\n",
              "    </tr>\n",
              "  </tbody>\n",
              "</table>\n",
              "</div>"
            ],
            "text/plain": [
              "                tournament  home_team_rank  away_team_rank\n",
              "tournament        1.000000        0.094349        0.094754\n",
              "home_team_rank    0.094349        1.000000        0.469861\n",
              "away_team_rank    0.094754        0.469861        1.000000"
            ]
          },
          "metadata": {
            "tags": []
          },
          "execution_count": 45
        }
      ]
    },
    {
      "cell_type": "markdown",
      "metadata": {
        "id": "iGm6_qNOIYDV"
      },
      "source": [
        "According to the pearson correlation values, none of the variables is strongly correlated to another. We will use the correlations above to compute each variance inflation factors to check for multicollinearity.\n"
      ]
    },
    {
      "cell_type": "code",
      "metadata": {
        "colab": {
          "base_uri": "https://localhost:8080/",
          "height": 139
        },
        "id": "cHPJ1c6zI70_",
        "outputId": "dc77d491-3785-4539-980a-3940f3deb778"
      },
      "source": [
        "# create a dataframe that shows the VIF scores of the variiables\n",
        "pd.DataFrame(np.linalg.inv(correlations.values), index = correlations.index, columns=correlations.columns)"
      ],
      "execution_count": 46,
      "outputs": [
        {
          "output_type": "execute_result",
          "data": {
            "text/html": [
              "<div>\n",
              "<style scoped>\n",
              "    .dataframe tbody tr th:only-of-type {\n",
              "        vertical-align: middle;\n",
              "    }\n",
              "\n",
              "    .dataframe tbody tr th {\n",
              "        vertical-align: top;\n",
              "    }\n",
              "\n",
              "    .dataframe thead th {\n",
              "        text-align: right;\n",
              "    }\n",
              "</style>\n",
              "<table border=\"1\" class=\"dataframe\">\n",
              "  <thead>\n",
              "    <tr style=\"text-align: right;\">\n",
              "      <th></th>\n",
              "      <th>tournament</th>\n",
              "      <th>home_team_rank</th>\n",
              "      <th>away_team_rank</th>\n",
              "    </tr>\n",
              "  </thead>\n",
              "  <tbody>\n",
              "    <tr>\n",
              "      <th>tournament</th>\n",
              "      <td>1.012314</td>\n",
              "      <td>-0.064732</td>\n",
              "      <td>-0.065505</td>\n",
              "    </tr>\n",
              "    <tr>\n",
              "      <th>home_team_rank</th>\n",
              "      <td>-0.064732</td>\n",
              "      <td>1.287457</td>\n",
              "      <td>-0.598793</td>\n",
              "    </tr>\n",
              "    <tr>\n",
              "      <th>away_team_rank</th>\n",
              "      <td>-0.065505</td>\n",
              "      <td>-0.598793</td>\n",
              "      <td>1.287557</td>\n",
              "    </tr>\n",
              "  </tbody>\n",
              "</table>\n",
              "</div>"
            ],
            "text/plain": [
              "                tournament  home_team_rank  away_team_rank\n",
              "tournament        1.012314       -0.064732       -0.065505\n",
              "home_team_rank   -0.064732        1.287457       -0.598793\n",
              "away_team_rank   -0.065505       -0.598793        1.287557"
            ]
          },
          "metadata": {
            "tags": []
          },
          "execution_count": 46
        }
      ]
    },
    {
      "cell_type": "markdown",
      "metadata": {
        "id": "tDk5j34-Kal_"
      },
      "source": [
        "The VIF scores show that all the variables are not correlated to each other."
      ]
    },
    {
      "cell_type": "markdown",
      "metadata": {
        "id": "FQOTL-0tLcU_"
      },
      "source": [
        "### Model 1  \n",
        "The first model will be for predicting the number of goals a home team scores based on the home team's rank, away team's rank and the tournament's type"
      ]
    },
    {
      "cell_type": "markdown",
      "metadata": {
        "id": "gX_X8S1xNPEl"
      },
      "source": [
        "#### Modelling"
      ]
    },
    {
      "cell_type": "code",
      "metadata": {
        "id": "etX5OphLNNpf"
      },
      "source": [
        "# Preparing the Data\n",
        "\n",
        "# divide the data into \"attributes\" and \"labels\" by assigning the attributes to variable X and the label to variable y \n",
        "W = match_copy[['home_team_rank', 'away_team_rank', 'tournament']]\n",
        "z = match_copy[\"home_score\"]"
      ],
      "execution_count": 78,
      "outputs": []
    },
    {
      "cell_type": "code",
      "metadata": {
        "colab": {
          "base_uri": "https://localhost:8080/"
        },
        "id": "7LGW8WBdNvVR",
        "outputId": "ffcf222f-18d1-4419-9d76-1e440b18559c"
      },
      "source": [
        "# import polynomial and linear regression features\n",
        "from sklearn.preprocessing import PolynomialFeatures\n",
        "from sklearn.linear_model import LinearRegression\n",
        "\n",
        "# import pipline for creating a pipeline\n",
        "from sklearn.pipeline import Pipeline\n",
        "\n",
        "# instantiate the polynomial and linear regression models\n",
        "Input=[('polynomial',PolynomialFeatures(degree=2)),('modal',LinearRegression())]\n",
        "\n",
        "# create a pipline and fit it to our data\n",
        "pipe = Pipeline(Input)\n",
        "pipe.fit(W,z)"
      ],
      "execution_count": 79,
      "outputs": [
        {
          "output_type": "execute_result",
          "data": {
            "text/plain": [
              "Pipeline(memory=None,\n",
              "         steps=[('polynomial',\n",
              "                 PolynomialFeatures(degree=2, include_bias=True,\n",
              "                                    interaction_only=False, order='C')),\n",
              "                ('modal',\n",
              "                 LinearRegression(copy_X=True, fit_intercept=True, n_jobs=None,\n",
              "                                  normalize=False))],\n",
              "         verbose=False)"
            ]
          },
          "metadata": {
            "tags": []
          },
          "execution_count": 79
        }
      ]
    },
    {
      "cell_type": "code",
      "metadata": {
        "colab": {
          "base_uri": "https://localhost:8080/",
          "height": 411
        },
        "id": "Qm6QlxfWV1eE",
        "outputId": "9bdecfcf-a249-4833-d9c7-a6428480c501"
      },
      "source": [
        "# create an array of predicted values based on our attributes\n",
        "z_pred=pipe.predict(W)\n",
        "\n",
        "# create a dataframe that compares the actual values to the predicted values\n",
        "df1 = pd.DataFrame({'Actual': z, 'Predicted': z_pred})\n",
        "# display top 10 entries in the comparison dataframe\n",
        "df1"
      ],
      "execution_count": 80,
      "outputs": [
        {
          "output_type": "execute_result",
          "data": {
            "text/html": [
              "<div>\n",
              "<style scoped>\n",
              "    .dataframe tbody tr th:only-of-type {\n",
              "        vertical-align: middle;\n",
              "    }\n",
              "\n",
              "    .dataframe tbody tr th {\n",
              "        vertical-align: top;\n",
              "    }\n",
              "\n",
              "    .dataframe thead th {\n",
              "        text-align: right;\n",
              "    }\n",
              "</style>\n",
              "<table border=\"1\" class=\"dataframe\">\n",
              "  <thead>\n",
              "    <tr style=\"text-align: right;\">\n",
              "      <th></th>\n",
              "      <th>Actual</th>\n",
              "      <th>Predicted</th>\n",
              "    </tr>\n",
              "  </thead>\n",
              "  <tbody>\n",
              "    <tr>\n",
              "      <th>0</th>\n",
              "      <td>0</td>\n",
              "      <td>2.012797</td>\n",
              "    </tr>\n",
              "    <tr>\n",
              "      <th>1</th>\n",
              "      <td>0</td>\n",
              "      <td>2.214534</td>\n",
              "    </tr>\n",
              "    <tr>\n",
              "      <th>2</th>\n",
              "      <td>2</td>\n",
              "      <td>1.278425</td>\n",
              "    </tr>\n",
              "    <tr>\n",
              "      <th>3</th>\n",
              "      <td>0</td>\n",
              "      <td>0.799616</td>\n",
              "    </tr>\n",
              "    <tr>\n",
              "      <th>4</th>\n",
              "      <td>1</td>\n",
              "      <td>0.824855</td>\n",
              "    </tr>\n",
              "    <tr>\n",
              "      <th>...</th>\n",
              "      <td>...</td>\n",
              "      <td>...</td>\n",
              "    </tr>\n",
              "    <tr>\n",
              "      <th>16913</th>\n",
              "      <td>1</td>\n",
              "      <td>1.308982</td>\n",
              "    </tr>\n",
              "    <tr>\n",
              "      <th>16914</th>\n",
              "      <td>4</td>\n",
              "      <td>1.137244</td>\n",
              "    </tr>\n",
              "    <tr>\n",
              "      <th>16915</th>\n",
              "      <td>0</td>\n",
              "      <td>0.890305</td>\n",
              "    </tr>\n",
              "    <tr>\n",
              "      <th>16916</th>\n",
              "      <td>1</td>\n",
              "      <td>1.582816</td>\n",
              "    </tr>\n",
              "    <tr>\n",
              "      <th>16917</th>\n",
              "      <td>2</td>\n",
              "      <td>1.104026</td>\n",
              "    </tr>\n",
              "  </tbody>\n",
              "</table>\n",
              "<p>16918 rows × 2 columns</p>\n",
              "</div>"
            ],
            "text/plain": [
              "       Actual  Predicted\n",
              "0           0   2.012797\n",
              "1           0   2.214534\n",
              "2           2   1.278425\n",
              "3           0   0.799616\n",
              "4           1   0.824855\n",
              "...       ...        ...\n",
              "16913       1   1.308982\n",
              "16914       4   1.137244\n",
              "16915       0   0.890305\n",
              "16916       1   1.582816\n",
              "16917       2   1.104026\n",
              "\n",
              "[16918 rows x 2 columns]"
            ]
          },
          "metadata": {
            "tags": []
          },
          "execution_count": 80
        }
      ]
    },
    {
      "cell_type": "code",
      "metadata": {
        "colab": {
          "base_uri": "https://localhost:8080/"
        },
        "id": "cDKB6J7FYjN6",
        "outputId": "30bcbf49-5126-423f-ea8d-0745dff58e92"
      },
      "source": [
        "# evaluate the algorithm using square root of the mean of the squared errors\n",
        "\n",
        "# import metrics\n",
        "from sklearn import metrics\n",
        "\n",
        "# compute and print the mean of the absolute value of the errors, mean of the squared errors, andsquare root of the mean of the squared errors\n",
        "print('Mean Absolute Error:', metrics.mean_absolute_error(z, z_pred))\n",
        "print('Mean Squared Error:', metrics.mean_squared_error(z, z_pred))\n",
        "print('Root Mean Squared Error:', np.sqrt(metrics.mean_squared_error(z, z_pred)))"
      ],
      "execution_count": 81,
      "outputs": [
        {
          "output_type": "stream",
          "text": [
            "Mean Absolute Error: 1.0378782266949118\n",
            "Mean Squared Error: 2.010820380721667\n",
            "Root Mean Squared Error: 1.4180339843324161\n"
          ],
          "name": "stdout"
        }
      ]
    },
    {
      "cell_type": "markdown",
      "metadata": {
        "id": "bB5J1stUa0Ww"
      },
      "source": [
        "The RMSE of a good model should be less than 10% of the mean of the target values. The mean of home scores is approximately 1.60, meaning that our model with a RMSE of approximately 1.42 (88.75% of the mean of home scores) is not good at predicting the number of goals scored by a home team based on the home team's rank, away team's rank and tournament's type  "
      ]
    },
    {
      "cell_type": "markdown",
      "metadata": {
        "id": "gVMpJoPAljjE"
      },
      "source": [
        "#### Degree change\n",
        "Check to see if a change in polynomial degrees will improve the model"
      ]
    },
    {
      "cell_type": "code",
      "metadata": {
        "colab": {
          "base_uri": "https://localhost:8080/"
        },
        "id": "2yrY2NILm4AM",
        "outputId": "bd119918-d8ff-45bd-8552-72db2f8c2c72"
      },
      "source": [
        "# instantiate the polynomial and linear regression models with polynomial degrees set as 6\n",
        "Input=[('polynomial',PolynomialFeatures(degree=6)),('modal',LinearRegression())]\n",
        "\n",
        "# create a pipline and fit it to our data\n",
        "pipe = Pipeline(Input)\n",
        "pipe.fit(W,z)"
      ],
      "execution_count": 98,
      "outputs": [
        {
          "output_type": "execute_result",
          "data": {
            "text/plain": [
              "Pipeline(memory=None,\n",
              "         steps=[('polynomial',\n",
              "                 PolynomialFeatures(degree=6, include_bias=True,\n",
              "                                    interaction_only=False, order='C')),\n",
              "                ('modal',\n",
              "                 LinearRegression(copy_X=True, fit_intercept=True, n_jobs=None,\n",
              "                                  normalize=False))],\n",
              "         verbose=False)"
            ]
          },
          "metadata": {
            "tags": []
          },
          "execution_count": 98
        }
      ]
    },
    {
      "cell_type": "code",
      "metadata": {
        "colab": {
          "base_uri": "https://localhost:8080/",
          "height": 411
        },
        "id": "nRxkWd33m4AQ",
        "outputId": "de8831f9-f827-4ac1-9c51-66b5a81c3794"
      },
      "source": [
        "# create an array of predicted values based on our attributes\n",
        "z_pred=pipe.predict(W)\n",
        "\n",
        "# create a dataframe that compares the actual values to the predicted values\n",
        "df1 = pd.DataFrame({'Actual': z, 'Predicted': z_pred})\n",
        "# display top 10 entries in the comparison dataframe\n",
        "df1"
      ],
      "execution_count": 99,
      "outputs": [
        {
          "output_type": "execute_result",
          "data": {
            "text/html": [
              "<div>\n",
              "<style scoped>\n",
              "    .dataframe tbody tr th:only-of-type {\n",
              "        vertical-align: middle;\n",
              "    }\n",
              "\n",
              "    .dataframe tbody tr th {\n",
              "        vertical-align: top;\n",
              "    }\n",
              "\n",
              "    .dataframe thead th {\n",
              "        text-align: right;\n",
              "    }\n",
              "</style>\n",
              "<table border=\"1\" class=\"dataframe\">\n",
              "  <thead>\n",
              "    <tr style=\"text-align: right;\">\n",
              "      <th></th>\n",
              "      <th>Actual</th>\n",
              "      <th>Predicted</th>\n",
              "    </tr>\n",
              "  </thead>\n",
              "  <tbody>\n",
              "    <tr>\n",
              "      <th>0</th>\n",
              "      <td>0</td>\n",
              "      <td>2.014154</td>\n",
              "    </tr>\n",
              "    <tr>\n",
              "      <th>1</th>\n",
              "      <td>0</td>\n",
              "      <td>2.523979</td>\n",
              "    </tr>\n",
              "    <tr>\n",
              "      <th>2</th>\n",
              "      <td>2</td>\n",
              "      <td>1.010600</td>\n",
              "    </tr>\n",
              "    <tr>\n",
              "      <th>3</th>\n",
              "      <td>0</td>\n",
              "      <td>0.679455</td>\n",
              "    </tr>\n",
              "    <tr>\n",
              "      <th>4</th>\n",
              "      <td>1</td>\n",
              "      <td>0.699522</td>\n",
              "    </tr>\n",
              "    <tr>\n",
              "      <th>...</th>\n",
              "      <td>...</td>\n",
              "      <td>...</td>\n",
              "    </tr>\n",
              "    <tr>\n",
              "      <th>16913</th>\n",
              "      <td>1</td>\n",
              "      <td>1.121747</td>\n",
              "    </tr>\n",
              "    <tr>\n",
              "      <th>16914</th>\n",
              "      <td>4</td>\n",
              "      <td>1.187459</td>\n",
              "    </tr>\n",
              "    <tr>\n",
              "      <th>16915</th>\n",
              "      <td>0</td>\n",
              "      <td>0.789888</td>\n",
              "    </tr>\n",
              "    <tr>\n",
              "      <th>16916</th>\n",
              "      <td>1</td>\n",
              "      <td>1.802564</td>\n",
              "    </tr>\n",
              "    <tr>\n",
              "      <th>16917</th>\n",
              "      <td>2</td>\n",
              "      <td>1.098053</td>\n",
              "    </tr>\n",
              "  </tbody>\n",
              "</table>\n",
              "<p>16918 rows × 2 columns</p>\n",
              "</div>"
            ],
            "text/plain": [
              "       Actual  Predicted\n",
              "0           0   2.014154\n",
              "1           0   2.523979\n",
              "2           2   1.010600\n",
              "3           0   0.679455\n",
              "4           1   0.699522\n",
              "...       ...        ...\n",
              "16913       1   1.121747\n",
              "16914       4   1.187459\n",
              "16915       0   0.789888\n",
              "16916       1   1.802564\n",
              "16917       2   1.098053\n",
              "\n",
              "[16918 rows x 2 columns]"
            ]
          },
          "metadata": {
            "tags": []
          },
          "execution_count": 99
        }
      ]
    },
    {
      "cell_type": "code",
      "metadata": {
        "colab": {
          "base_uri": "https://localhost:8080/"
        },
        "id": "4Lx67sXjm4AQ",
        "outputId": "aad1281b-8a1a-4f4c-e008-629a3ca99d5a"
      },
      "source": [
        "# evaluate the algorithm using square root of the mean of the squared errors\n",
        "\n",
        "# import metrics\n",
        "from sklearn import metrics\n",
        "\n",
        "# compute and print the mean of the absolute value of the errors, mean of the squared errors, andsquare root of the mean of the squared errors\n",
        "print('Mean Absolute Error:', metrics.mean_absolute_error(z, z_pred))\n",
        "print('Mean Squared Error:', metrics.mean_squared_error(z, z_pred))\n",
        "print('Root Mean Squared Error:', np.sqrt(metrics.mean_squared_error(z, z_pred)))"
      ],
      "execution_count": 100,
      "outputs": [
        {
          "output_type": "stream",
          "text": [
            "Mean Absolute Error: 1.0283680408061568\n",
            "Mean Squared Error: 1.9663737815649285\n",
            "Root Mean Squared Error: 1.402274502929055\n"
          ],
          "name": "stdout"
        }
      ]
    },
    {
      "cell_type": "markdown",
      "metadata": {
        "id": "aEEXx2EXnNu8"
      },
      "source": [
        "The the RMSE has reduced by 0.02 point but it is still too high to consider the model as good."
      ]
    },
    {
      "cell_type": "markdown",
      "metadata": {
        "id": "95jxe8RIL913"
      },
      "source": [
        "### Model 2\n",
        "The second model will be for predicting the number of goals an away team scores based on the home team's rank, away team's rank and the tournament's type"
      ]
    },
    {
      "cell_type": "code",
      "metadata": {
        "id": "bZwEO9wbbHUf"
      },
      "source": [
        "# Preparing the Data\n",
        "\n",
        "# divide the data into \"attributes\" and \"labels\" by assigning the attributes to variable X and the label to variable y \n",
        "S = match_copy[['home_team_rank', 'away_team_rank', 'tournament']]\n",
        "t = match_copy[\"away_score\"]"
      ],
      "execution_count": 101,
      "outputs": []
    },
    {
      "cell_type": "code",
      "metadata": {
        "colab": {
          "base_uri": "https://localhost:8080/"
        },
        "id": "U_pKvcGBbHUm",
        "outputId": "e925ff8e-efc6-4794-a909-538d41706f34"
      },
      "source": [
        "# instantiate the polynomial and linear regression models\n",
        "Input=[('polynomial',PolynomialFeatures(degree=2)),('modal',LinearRegression())]\n",
        "\n",
        "# create a pipline and fit it to our data\n",
        "pipe = Pipeline(Input)\n",
        "pipe.fit(S,t)"
      ],
      "execution_count": 102,
      "outputs": [
        {
          "output_type": "execute_result",
          "data": {
            "text/plain": [
              "Pipeline(memory=None,\n",
              "         steps=[('polynomial',\n",
              "                 PolynomialFeatures(degree=2, include_bias=True,\n",
              "                                    interaction_only=False, order='C')),\n",
              "                ('modal',\n",
              "                 LinearRegression(copy_X=True, fit_intercept=True, n_jobs=None,\n",
              "                                  normalize=False))],\n",
              "         verbose=False)"
            ]
          },
          "metadata": {
            "tags": []
          },
          "execution_count": 102
        }
      ]
    },
    {
      "cell_type": "code",
      "metadata": {
        "colab": {
          "base_uri": "https://localhost:8080/",
          "height": 411
        },
        "id": "XBYJTZZbbHUm",
        "outputId": "71bb46aa-6fd3-40ae-a2f6-74868ea18df1"
      },
      "source": [
        "# create an array of predicted values based on our attributes\n",
        "t_pred=pipe.predict(S)\n",
        "\n",
        "# create a dataframe that compares the actual values to the predicted values\n",
        "df1 = pd.DataFrame({'Actual': t, 'Predicted': t_pred})\n",
        "# display top 10 entries in the comparison dataframe\n",
        "df1"
      ],
      "execution_count": 103,
      "outputs": [
        {
          "output_type": "execute_result",
          "data": {
            "text/html": [
              "<div>\n",
              "<style scoped>\n",
              "    .dataframe tbody tr th:only-of-type {\n",
              "        vertical-align: middle;\n",
              "    }\n",
              "\n",
              "    .dataframe tbody tr th {\n",
              "        vertical-align: top;\n",
              "    }\n",
              "\n",
              "    .dataframe thead th {\n",
              "        text-align: right;\n",
              "    }\n",
              "</style>\n",
              "<table border=\"1\" class=\"dataframe\">\n",
              "  <thead>\n",
              "    <tr style=\"text-align: right;\">\n",
              "      <th></th>\n",
              "      <th>Actual</th>\n",
              "      <th>Predicted</th>\n",
              "    </tr>\n",
              "  </thead>\n",
              "  <tbody>\n",
              "    <tr>\n",
              "      <th>0</th>\n",
              "      <td>0</td>\n",
              "      <td>0.611150</td>\n",
              "    </tr>\n",
              "    <tr>\n",
              "      <th>1</th>\n",
              "      <td>0</td>\n",
              "      <td>0.559196</td>\n",
              "    </tr>\n",
              "    <tr>\n",
              "      <th>2</th>\n",
              "      <td>1</td>\n",
              "      <td>1.226242</td>\n",
              "    </tr>\n",
              "    <tr>\n",
              "      <th>3</th>\n",
              "      <td>1</td>\n",
              "      <td>1.725037</td>\n",
              "    </tr>\n",
              "    <tr>\n",
              "      <th>4</th>\n",
              "      <td>3</td>\n",
              "      <td>1.688279</td>\n",
              "    </tr>\n",
              "    <tr>\n",
              "      <th>...</th>\n",
              "      <td>...</td>\n",
              "      <td>...</td>\n",
              "    </tr>\n",
              "    <tr>\n",
              "      <th>16913</th>\n",
              "      <td>2</td>\n",
              "      <td>1.157925</td>\n",
              "    </tr>\n",
              "    <tr>\n",
              "      <th>16914</th>\n",
              "      <td>2</td>\n",
              "      <td>1.188699</td>\n",
              "    </tr>\n",
              "    <tr>\n",
              "      <th>16915</th>\n",
              "      <td>1</td>\n",
              "      <td>1.576381</td>\n",
              "    </tr>\n",
              "    <tr>\n",
              "      <th>16916</th>\n",
              "      <td>1</td>\n",
              "      <td>0.952612</td>\n",
              "    </tr>\n",
              "    <tr>\n",
              "      <th>16917</th>\n",
              "      <td>0</td>\n",
              "      <td>1.261343</td>\n",
              "    </tr>\n",
              "  </tbody>\n",
              "</table>\n",
              "<p>16918 rows × 2 columns</p>\n",
              "</div>"
            ],
            "text/plain": [
              "       Actual  Predicted\n",
              "0           0   0.611150\n",
              "1           0   0.559196\n",
              "2           1   1.226242\n",
              "3           1   1.725037\n",
              "4           3   1.688279\n",
              "...       ...        ...\n",
              "16913       2   1.157925\n",
              "16914       2   1.188699\n",
              "16915       1   1.576381\n",
              "16916       1   0.952612\n",
              "16917       0   1.261343\n",
              "\n",
              "[16918 rows x 2 columns]"
            ]
          },
          "metadata": {
            "tags": []
          },
          "execution_count": 103
        }
      ]
    },
    {
      "cell_type": "code",
      "metadata": {
        "colab": {
          "base_uri": "https://localhost:8080/"
        },
        "id": "_q4HJMtNbHUm",
        "outputId": "826cee59-55fd-475b-aedf-86ed2f4856b5"
      },
      "source": [
        "# evaluate the algorithm using square root of the mean of the squared errors\n",
        "\n",
        "# import metrics\n",
        "from sklearn import metrics\n",
        "\n",
        "# compute and print the mean of the absolute value of the errors, mean of the squared errors, andsquare root of the mean of the squared errors\n",
        "print('Mean Absolute Error:', metrics.mean_absolute_error(t, t_pred))\n",
        "print('Mean Squared Error:', metrics.mean_squared_error(t, t_pred))\n",
        "print('Root Mean Squared Error:', np.sqrt(metrics.mean_squared_error(t, t_pred)))"
      ],
      "execution_count": 104,
      "outputs": [
        {
          "output_type": "stream",
          "text": [
            "Mean Absolute Error: 0.8466009470167728\n",
            "Mean Squared Error: 1.2825305121729453\n",
            "Root Mean Squared Error: 1.1324886366639382\n"
          ],
          "name": "stdout"
        }
      ]
    },
    {
      "cell_type": "markdown",
      "metadata": {
        "id": "c58UH8VjbxKZ"
      },
      "source": [
        "The RMSE of a good model should be less than 10% of the mean of the target values. The mean of away scores is approximately 1.07, meaning that our model with a RMSE of approximately 1.13 (105.61% of the mean of home scores) is not good at predicting the number of goals scored by an away team based on the home team's rank, away team's rank and tournament's type "
      ]
    },
    {
      "cell_type": "code",
      "metadata": {
        "colab": {
          "base_uri": "https://localhost:8080/"
        },
        "id": "5745hDlxnp2T",
        "outputId": "f1d146bc-b6c0-4707-fd26-5752ee73ba89"
      },
      "source": [
        "# instantiate the polynomial and linear regression models\n",
        "Input=[('polynomial',PolynomialFeatures(degree=6)),('modal',LinearRegression())]\n",
        "\n",
        "# create a pipline and fit it to our data\n",
        "pipe = Pipeline(Input)\n",
        "pipe.fit(S,t)"
      ],
      "execution_count": 105,
      "outputs": [
        {
          "output_type": "execute_result",
          "data": {
            "text/plain": [
              "Pipeline(memory=None,\n",
              "         steps=[('polynomial',\n",
              "                 PolynomialFeatures(degree=6, include_bias=True,\n",
              "                                    interaction_only=False, order='C')),\n",
              "                ('modal',\n",
              "                 LinearRegression(copy_X=True, fit_intercept=True, n_jobs=None,\n",
              "                                  normalize=False))],\n",
              "         verbose=False)"
            ]
          },
          "metadata": {
            "tags": []
          },
          "execution_count": 105
        }
      ]
    },
    {
      "cell_type": "code",
      "metadata": {
        "colab": {
          "base_uri": "https://localhost:8080/",
          "height": 411
        },
        "id": "m2lD1do7np2d",
        "outputId": "a6063681-50bb-4c26-8160-efa0da445578"
      },
      "source": [
        "# create an array of predicted values based on our attributes\n",
        "t_pred=pipe.predict(S)\n",
        "\n",
        "# create a dataframe that compares the actual values to the predicted values\n",
        "df1 = pd.DataFrame({'Actual': t, 'Predicted': t_pred})\n",
        "# display top 10 entries in the comparison dataframe\n",
        "df1"
      ],
      "execution_count": 106,
      "outputs": [
        {
          "output_type": "execute_result",
          "data": {
            "text/html": [
              "<div>\n",
              "<style scoped>\n",
              "    .dataframe tbody tr th:only-of-type {\n",
              "        vertical-align: middle;\n",
              "    }\n",
              "\n",
              "    .dataframe tbody tr th {\n",
              "        vertical-align: top;\n",
              "    }\n",
              "\n",
              "    .dataframe thead th {\n",
              "        text-align: right;\n",
              "    }\n",
              "</style>\n",
              "<table border=\"1\" class=\"dataframe\">\n",
              "  <thead>\n",
              "    <tr style=\"text-align: right;\">\n",
              "      <th></th>\n",
              "      <th>Actual</th>\n",
              "      <th>Predicted</th>\n",
              "    </tr>\n",
              "  </thead>\n",
              "  <tbody>\n",
              "    <tr>\n",
              "      <th>0</th>\n",
              "      <td>0</td>\n",
              "      <td>0.618898</td>\n",
              "    </tr>\n",
              "    <tr>\n",
              "      <th>1</th>\n",
              "      <td>0</td>\n",
              "      <td>0.562146</td>\n",
              "    </tr>\n",
              "    <tr>\n",
              "      <th>2</th>\n",
              "      <td>1</td>\n",
              "      <td>1.347769</td>\n",
              "    </tr>\n",
              "    <tr>\n",
              "      <th>3</th>\n",
              "      <td>1</td>\n",
              "      <td>1.937581</td>\n",
              "    </tr>\n",
              "    <tr>\n",
              "      <th>4</th>\n",
              "      <td>3</td>\n",
              "      <td>1.921535</td>\n",
              "    </tr>\n",
              "    <tr>\n",
              "      <th>...</th>\n",
              "      <td>...</td>\n",
              "      <td>...</td>\n",
              "    </tr>\n",
              "    <tr>\n",
              "      <th>16913</th>\n",
              "      <td>2</td>\n",
              "      <td>1.157893</td>\n",
              "    </tr>\n",
              "    <tr>\n",
              "      <th>16914</th>\n",
              "      <td>2</td>\n",
              "      <td>1.180635</td>\n",
              "    </tr>\n",
              "    <tr>\n",
              "      <th>16915</th>\n",
              "      <td>1</td>\n",
              "      <td>1.757194</td>\n",
              "    </tr>\n",
              "    <tr>\n",
              "      <th>16916</th>\n",
              "      <td>1</td>\n",
              "      <td>0.793061</td>\n",
              "    </tr>\n",
              "    <tr>\n",
              "      <th>16917</th>\n",
              "      <td>0</td>\n",
              "      <td>1.286144</td>\n",
              "    </tr>\n",
              "  </tbody>\n",
              "</table>\n",
              "<p>16918 rows × 2 columns</p>\n",
              "</div>"
            ],
            "text/plain": [
              "       Actual  Predicted\n",
              "0           0   0.618898\n",
              "1           0   0.562146\n",
              "2           1   1.347769\n",
              "3           1   1.937581\n",
              "4           3   1.921535\n",
              "...       ...        ...\n",
              "16913       2   1.157893\n",
              "16914       2   1.180635\n",
              "16915       1   1.757194\n",
              "16916       1   0.793061\n",
              "16917       0   1.286144\n",
              "\n",
              "[16918 rows x 2 columns]"
            ]
          },
          "metadata": {
            "tags": []
          },
          "execution_count": 106
        }
      ]
    },
    {
      "cell_type": "code",
      "metadata": {
        "colab": {
          "base_uri": "https://localhost:8080/"
        },
        "id": "m3mldclbnp2d",
        "outputId": "1fb57b5b-e7c8-48df-ce78-0215cd1cdf55"
      },
      "source": [
        "# evaluate the algorithm using square root of the mean of the squared errors\n",
        "\n",
        "# import metrics\n",
        "from sklearn import metrics\n",
        "\n",
        "# compute and print the mean of the absolute value of the errors, mean of the squared errors, andsquare root of the mean of the squared errors\n",
        "print('Mean Absolute Error:', metrics.mean_absolute_error(t, t_pred))\n",
        "print('Mean Squared Error:', metrics.mean_squared_error(t, t_pred))\n",
        "print('Root Mean Squared Error:', np.sqrt(metrics.mean_squared_error(t, t_pred)))"
      ],
      "execution_count": 107,
      "outputs": [
        {
          "output_type": "stream",
          "text": [
            "Mean Absolute Error: 0.8376308548472134\n",
            "Mean Squared Error: 1.2470719798997016\n",
            "Root Mean Squared Error: 1.1167237706343058\n"
          ],
          "name": "stdout"
        }
      ]
    },
    {
      "cell_type": "markdown",
      "metadata": {
        "id": "lcwDwM-ToWCi"
      },
      "source": [
        "The RMSE has reduced by approximately 0.02 points but it is still very high for us to consider the model as good"
      ]
    },
    {
      "cell_type": "markdown",
      "metadata": {
        "id": "vyxhF_gVb3N0"
      },
      "source": [
        "#### **Conclusions**\n",
        "The nature of the kind of data that we have is not appropriate for building polynomial regression models. The RMSE of 1.42 in our first model and of 1.13 in our second model show that our models are very poor at predicting the scores of the home teams and the away teams. The RMSE values reduced slightly after increasing the polynomial degrees in each model but they were still very high for us to consider the models as good "
      ]
    },
    {
      "cell_type": "markdown",
      "metadata": {
        "id": "bKr73IKzcuNU"
      },
      "source": [
        "#### **Recommendations**\n",
        "If we could like to use polynomial regression to predict the number scored by a team then we should consider using other attributes that are numerical, otherwise, we should use other kinds of regression models in order to accomplish our objective. Alternatively, we could reframe our objective to predicting the result status (win, lose, draw) of a home team or an away team then use classification models such as logistic regression."
      ]
    },
    {
      "cell_type": "markdown",
      "metadata": {
        "id": "7uXVhVL7Uf3z"
      },
      "source": [
        "### Logistic regression"
      ]
    },
    {
      "cell_type": "markdown",
      "metadata": {
        "id": "7HbOaQpWo1xK"
      },
      "source": [
        "We will use logistic regression to create a model that predicts the result status of the home team after a match based on the home team's rank, away team's rank and tournament's type.  \n",
        "  \n",
        "We will use the dataset that has already been modified in the polynomial regression section above. "
      ]
    },
    {
      "cell_type": "markdown",
      "metadata": {
        "id": "wZYzFFHeSg0V"
      },
      "source": [
        "#### Feature engineering and selection"
      ]
    },
    {
      "cell_type": "code",
      "metadata": {
        "id": "cqL7yPtXveTI"
      },
      "source": [
        "# make a copy of our dataset\n",
        "matches_copy= matches.copy()"
      ],
      "execution_count": 58,
      "outputs": []
    },
    {
      "cell_type": "code",
      "metadata": {
        "colab": {
          "base_uri": "https://localhost:8080/"
        },
        "id": "9sNobI5GveTS",
        "outputId": "7535bf40-5b70-45b5-ce76-36dc3eea12c5"
      },
      "source": [
        "# feature engineering\n",
        "# import label encoder for label encoding\n",
        "from sklearn.preprocessing import LabelEncoder \n",
        "lb=LabelEncoder()\n",
        "\n",
        "# encode the values in 'tournament' column so that they can be in 0's and 1's \n",
        "matches_copy['tournament']=lb.fit_transform(matches_copy['tournament'].astype(str))\n",
        "\n",
        "# check how the values have been transformed by comparing with the uncoded values in the original dataset\n",
        "print(matches.tournament.value_counts())\n",
        "print(matches_copy.tournament.value_counts())"
      ],
      "execution_count": 59,
      "outputs": [
        {
          "output_type": "stream",
          "text": [
            "Other       10470\n",
            "Friendly     6448\n",
            "Name: tournament, dtype: int64\n",
            "1    10470\n",
            "0     6448\n",
            "Name: tournament, dtype: int64\n"
          ],
          "name": "stdout"
        }
      ]
    },
    {
      "cell_type": "markdown",
      "metadata": {
        "id": "RZLy54jtveTS"
      },
      "source": [
        "Other has been encoded as 1 while Friendly has been encoded as 0 "
      ]
    },
    {
      "cell_type": "code",
      "metadata": {
        "id": "kSDIwMZOruP4"
      },
      "source": [
        "# add column that shows if a game is a Win, Lose or Draw from the home team’s perspective\n",
        "\n",
        "# create a function that defines the status of the match\n",
        "def status (x):\n",
        "   if x['home_score'] > x['away_score']:\n",
        "      return 'Win'\n",
        "   if x['home_score'] < x['away_score']:\n",
        "      return 'Lose'\n",
        "   return 'Draw'\n",
        "\n",
        "# add a new column and apply the function\n",
        "matches_copy['match_status'] = matches_copy.apply (lambda x: status(x), axis=1)"
      ],
      "execution_count": 60,
      "outputs": []
    },
    {
      "cell_type": "code",
      "metadata": {
        "colab": {
          "base_uri": "https://localhost:8080/",
          "height": 501
        },
        "id": "YK0IXcyhqnIw",
        "outputId": "c75b2b0f-246f-45b6-9a06-067c06604c37"
      },
      "source": [
        "# plot a bar graph to show the proportions of the types of tournaments \n",
        "\n",
        "# display the proportions of the types of tournaments in a frequency table\n",
        "print(matches_copy.match_status.value_counts(normalize=True))\n",
        "\n",
        "# specify the size of the figure  \n",
        "fig, ax = plt.subplots(figsize=(10,6))\n",
        "\n",
        "# plot the bar graph\n",
        "(matches_copy['match_status'].value_counts(normalize=True)).plot.bar()\n",
        "\n",
        "# labelling the bar chart \n",
        "plt.title('Proportion Distribution of the Match Status of the Home Teams ', fontsize=20, y=1.015)\n",
        "# labelling the x axis \n",
        "plt.xlabel('Match Status', fontsize=16, labelpad=15)\n",
        "# rotate the labels on the x axis\n",
        "plt.xticks(rotation = 360)\n",
        "# labelling the y axis\n",
        "plt.ylabel('Proportion', fontsize=16, labelpad=15)\n",
        "#display bar chart\n",
        "plt.show()"
      ],
      "execution_count": 61,
      "outputs": [
        {
          "output_type": "stream",
          "text": [
            "Win     0.483509\n",
            "Lose    0.276569\n",
            "Draw    0.239922\n",
            "Name: match_status, dtype: float64\n"
          ],
          "name": "stdout"
        },
        {
          "output_type": "display_data",
          "data": {
            "image/png": "[encoded data removed]",
            "text/plain": [
              "<Figure size 720x432 with 1 Axes>"
            ]
          },
          "metadata": {
            "tags": [],
            "needs_background": "light"
          }
        }
      ]
    },
    {
      "cell_type": "code",
      "metadata": {
        "id": "HJK3O_r2veTS"
      },
      "source": [
        "# feature selection\n",
        "# drop the columns that are irrelevant to our regression model\n",
        "matches_copy.drop(matches_copy.columns.difference(['home_team_rank', 'away_team_rank', 'tournament','match_status']), 1, inplace=True)\n"
      ],
      "execution_count": 62,
      "outputs": []
    },
    {
      "cell_type": "code",
      "metadata": {
        "id": "MM71hLtNMAHZ"
      },
      "source": [
        "# since the columns contain categorical data (ordinal and nominal) we convert the data type of each column to'category'\n",
        "matches_copy['tournament'] = matches_copy['tournament'].astype('category')\n",
        "matches_copy['home_team_rank'] = matches_copy['home_team_rank'].astype('category')\n",
        "matches_copy['away_team_rank'] = matches_copy['away_team_rank'].astype('category')"
      ],
      "execution_count": 63,
      "outputs": []
    },
    {
      "cell_type": "code",
      "metadata": {
        "colab": {
          "base_uri": "https://localhost:8080/",
          "height": 200
        },
        "id": "xrL95P_6bi6M",
        "outputId": "95bfd127-0fa5-4a1d-9f9a-4759b4d5265f"
      },
      "source": [
        "# preview the top 5 entries of the modified dataset\n",
        "matches_copy.head()"
      ],
      "execution_count": 64,
      "outputs": [
        {
          "output_type": "execute_result",
          "data": {
            "text/html": [
              "<div>\n",
              "<style scoped>\n",
              "    .dataframe tbody tr th:only-of-type {\n",
              "        vertical-align: middle;\n",
              "    }\n",
              "\n",
              "    .dataframe tbody tr th {\n",
              "        vertical-align: top;\n",
              "    }\n",
              "\n",
              "    .dataframe thead th {\n",
              "        text-align: right;\n",
              "    }\n",
              "</style>\n",
              "<table border=\"1\" class=\"dataframe\">\n",
              "  <thead>\n",
              "    <tr style=\"text-align: right;\">\n",
              "      <th></th>\n",
              "      <th>tournament</th>\n",
              "      <th>home_team_rank</th>\n",
              "      <th>away_team_rank</th>\n",
              "      <th>match_status</th>\n",
              "    </tr>\n",
              "  </thead>\n",
              "  <tbody>\n",
              "    <tr>\n",
              "      <th>0</th>\n",
              "      <td>1</td>\n",
              "      <td>19</td>\n",
              "      <td>67</td>\n",
              "      <td>Draw</td>\n",
              "    </tr>\n",
              "    <tr>\n",
              "      <th>1</th>\n",
              "      <td>1</td>\n",
              "      <td>5</td>\n",
              "      <td>67</td>\n",
              "      <td>Draw</td>\n",
              "    </tr>\n",
              "    <tr>\n",
              "      <th>2</th>\n",
              "      <td>1</td>\n",
              "      <td>19</td>\n",
              "      <td>5</td>\n",
              "      <td>Win</td>\n",
              "    </tr>\n",
              "    <tr>\n",
              "      <th>3</th>\n",
              "      <td>1</td>\n",
              "      <td>70</td>\n",
              "      <td>5</td>\n",
              "      <td>Lose</td>\n",
              "    </tr>\n",
              "    <tr>\n",
              "      <th>4</th>\n",
              "      <td>1</td>\n",
              "      <td>67</td>\n",
              "      <td>5</td>\n",
              "      <td>Lose</td>\n",
              "    </tr>\n",
              "  </tbody>\n",
              "</table>\n",
              "</div>"
            ],
            "text/plain": [
              "  tournament home_team_rank away_team_rank match_status\n",
              "0          1             19             67         Draw\n",
              "1          1              5             67         Draw\n",
              "2          1             19              5          Win\n",
              "3          1             70              5         Lose\n",
              "4          1             67              5         Lose"
            ]
          },
          "metadata": {
            "tags": []
          },
          "execution_count": 64
        }
      ]
    },
    {
      "cell_type": "code",
      "metadata": {
        "colab": {
          "base_uri": "https://localhost:8080/"
        },
        "id": "0GIIN2zhMzfe",
        "outputId": "3dab9df0-d9d0-41b2-e33c-bb8dc88dbb90"
      },
      "source": [
        "# confirm that the dataset size is sufficient for our model by checking the number of records in the dataset\n",
        "matches_copy.shape"
      ],
      "execution_count": 65,
      "outputs": [
        {
          "output_type": "execute_result",
          "data": {
            "text/plain": [
              "(16918, 4)"
            ]
          },
          "metadata": {
            "tags": []
          },
          "execution_count": 65
        }
      ]
    },
    {
      "cell_type": "markdown",
      "metadata": {
        "id": "pMoNbrUkPSNC"
      },
      "source": [
        "There are 4 predictive features in our dataset and since the rule of thumb is that there should be at least 50 records per feature, we need to have at least 200 records in this dataset for it to be sufficient for modelling.Since out dataset has 16918 records, it is sufficient for modelling."
      ]
    },
    {
      "cell_type": "markdown",
      "metadata": {
        "id": "RIHVhjgcTLMx"
      },
      "source": [
        "#### Modelling"
      ]
    },
    {
      "cell_type": "code",
      "metadata": {
        "id": "aULPJXKXcHWt"
      },
      "source": [
        "# Preparing the Data\n",
        "\n",
        "# divide the data into \"attributes\" and \"labels\" by assigning the attributes to variable X and the label to variable y \n",
        "X = matches_copy[['home_team_rank', 'away_team_rank', 'tournament']]\n",
        "y = matches_copy[\"match_status\"]\n",
        "\n",
        "# Splitting our Data into Training and Test sets\n",
        "\n",
        "# import train_test_split for the splitting of the data\n",
        "from sklearn.model_selection import train_test_split\n",
        "\n",
        "# split this data into training and test sets\n",
        "X_train, X_test, y_train, y_test = train_test_split(X, y, test_size=0.2, stratify =matches_copy['tournament'], random_state=30)\n",
        "# the script above splits 80% of the data to training set and 20% of the data to test set while maintaining the same proportions of tournament values"
      ],
      "execution_count": 66,
      "outputs": []
    },
    {
      "cell_type": "code",
      "metadata": {
        "id": "oWAggaJvisYi",
        "colab": {
          "base_uri": "https://localhost:8080/"
        },
        "outputId": "9af580d2-b0e7-4a78-fc1e-15bf85c326c6"
      },
      "source": [
        "# Training the Algorithm\n",
        "\n",
        "# import the desired model, in this this case we are importing logistic regression model\n",
        "from sklearn.linear_model import LogisticRegression\n",
        "\n",
        "# instantiate the model\n",
        "model = LogisticRegression()\n",
        "\n",
        "# train the algorithm by fitting the model to our training data \n",
        "model.fit(X_train, y_train)"
      ],
      "execution_count": 67,
      "outputs": [
        {
          "output_type": "execute_result",
          "data": {
            "text/plain": [
              "LogisticRegression(C=1.0, class_weight=None, dual=False, fit_intercept=True,\n",
              "                   intercept_scaling=1, l1_ratio=None, max_iter=100,\n",
              "                   multi_class='auto', n_jobs=None, penalty='l2',\n",
              "                   random_state=None, solver='lbfgs', tol=0.0001, verbose=0,\n",
              "                   warm_start=False)"
            ]
          },
          "metadata": {
            "tags": []
          },
          "execution_count": 67
        }
      ]
    },
    {
      "cell_type": "code",
      "metadata": {
        "colab": {
          "base_uri": "https://localhost:8080/",
          "height": 352
        },
        "id": "P-kSCehuKPwr",
        "outputId": "27150ede-8f6b-4c15-fbe4-af5fd9a5c6f9"
      },
      "source": [
        "# Making Predictions\n",
        "\n",
        "# obtain the trained model's predictions of the 'match_status' based on X_test \n",
        "y_pred = model.predict(X_test) # the y_pred is a numpy array that contains all the predicted values\n",
        "\n",
        "# create a dataframe that compares the actual output values for X_test with the predicted values\n",
        "df = pd.DataFrame({'Prediction': y_pred, 'Actual': y_test})\n",
        "\n",
        "# display top 10 records in the comparison dataframe\n",
        "df.head(10)"
      ],
      "execution_count": 68,
      "outputs": [
        {
          "output_type": "execute_result",
          "data": {
            "text/html": [
              "<div>\n",
              "<style scoped>\n",
              "    .dataframe tbody tr th:only-of-type {\n",
              "        vertical-align: middle;\n",
              "    }\n",
              "\n",
              "    .dataframe tbody tr th {\n",
              "        vertical-align: top;\n",
              "    }\n",
              "\n",
              "    .dataframe thead th {\n",
              "        text-align: right;\n",
              "    }\n",
              "</style>\n",
              "<table border=\"1\" class=\"dataframe\">\n",
              "  <thead>\n",
              "    <tr style=\"text-align: right;\">\n",
              "      <th></th>\n",
              "      <th>Prediction</th>\n",
              "      <th>Actual</th>\n",
              "    </tr>\n",
              "  </thead>\n",
              "  <tbody>\n",
              "    <tr>\n",
              "      <th>285</th>\n",
              "      <td>Lose</td>\n",
              "      <td>Lose</td>\n",
              "    </tr>\n",
              "    <tr>\n",
              "      <th>3872</th>\n",
              "      <td>Lose</td>\n",
              "      <td>Lose</td>\n",
              "    </tr>\n",
              "    <tr>\n",
              "      <th>8704</th>\n",
              "      <td>Lose</td>\n",
              "      <td>Lose</td>\n",
              "    </tr>\n",
              "    <tr>\n",
              "      <th>5329</th>\n",
              "      <td>Win</td>\n",
              "      <td>Draw</td>\n",
              "    </tr>\n",
              "    <tr>\n",
              "      <th>5984</th>\n",
              "      <td>Win</td>\n",
              "      <td>Win</td>\n",
              "    </tr>\n",
              "    <tr>\n",
              "      <th>2146</th>\n",
              "      <td>Lose</td>\n",
              "      <td>Lose</td>\n",
              "    </tr>\n",
              "    <tr>\n",
              "      <th>1153</th>\n",
              "      <td>Lose</td>\n",
              "      <td>Draw</td>\n",
              "    </tr>\n",
              "    <tr>\n",
              "      <th>6695</th>\n",
              "      <td>Win</td>\n",
              "      <td>Draw</td>\n",
              "    </tr>\n",
              "    <tr>\n",
              "      <th>2746</th>\n",
              "      <td>Win</td>\n",
              "      <td>Lose</td>\n",
              "    </tr>\n",
              "    <tr>\n",
              "      <th>938</th>\n",
              "      <td>Lose</td>\n",
              "      <td>Lose</td>\n",
              "    </tr>\n",
              "  </tbody>\n",
              "</table>\n",
              "</div>"
            ],
            "text/plain": [
              "     Prediction Actual\n",
              "285        Lose   Lose\n",
              "3872       Lose   Lose\n",
              "8704       Lose   Lose\n",
              "5329        Win   Draw\n",
              "5984        Win    Win\n",
              "2146       Lose   Lose\n",
              "1153       Lose   Draw\n",
              "6695        Win   Draw\n",
              "2746        Win   Lose\n",
              "938        Lose   Lose"
            ]
          },
          "metadata": {
            "tags": []
          },
          "execution_count": 68
        }
      ]
    },
    {
      "cell_type": "code",
      "metadata": {
        "colab": {
          "base_uri": "https://localhost:8080/"
        },
        "id": "1g3QkIY2H-uh",
        "outputId": "cfbd1814-295f-4e1e-e70a-5356ea76ea3d"
      },
      "source": [
        "# Evaluating the Algorithm\n",
        "\n",
        "# import accuracy_score to be used in testing the accuracy of the algorithm\n",
        "from sklearn.metrics import accuracy_score\n",
        "\n",
        "# use accuracy_score function to compute the accuracy of the algorithm by finding the proportion of correct predictions\n",
        "accuracy = accuracy_score(y_test, y_pred)\n",
        "# print the accuracy value\n",
        "print('Accuracy: ', accuracy)\n",
        "\n",
        "print(\"\")\n",
        "# An algorithm's performance can also be evaluated using a confusion matrix\n",
        "\n",
        "# import confusion_matrix to be used in creating a confusion matrix of the predictions\n",
        "from sklearn.metrics import confusion_matrix\n",
        "\n",
        "# apply confusion matrix to y_test and y_pred to obtain number of correct and wrong predictions per category\n",
        "confusion_matrix = confusion_matrix(y_test, y_pred)\n",
        "# print the matrix\n",
        "print('Confusion Matrix') \n",
        "print(confusion_matrix)"
      ],
      "execution_count": 69,
      "outputs": [
        {
          "output_type": "stream",
          "text": [
            "Accuracy:  0.5880614657210402\n",
            "\n",
            "Confusion Matrix\n",
            "[[   3  247  529]\n",
            " [   3  524  393]\n",
            " [   1  221 1463]]\n"
          ],
          "name": "stdout"
        }
      ]
    },
    {
      "cell_type": "markdown",
      "metadata": {
        "id": "CuO7K2xnG8Dw"
      },
      "source": [
        "The accuracy test shows that our algorithm is approximately 58.81% accurate in predicting the match status of the home team. The results from the confusion matrix tell us that 1990 (3+524+1463) is the total number of correct predictions and 1394 (247+529+393+221+1+3) is the total number of wrong predictions. (It should be noted that the model did not predict Draws)"
      ]
    },
    {
      "cell_type": "code",
      "metadata": {
        "colab": {
          "base_uri": "https://localhost:8080/"
        },
        "id": "bQk4LGEc11We",
        "outputId": "ae3d8a71-5914-45ee-cdcc-1f4751fb7305"
      },
      "source": [
        "# show the classification report of the model\n",
        "\n",
        "# import classification_report from sklearn.metrics\n",
        "from sklearn.metrics import classification_report\n",
        "\n",
        "# apply the imported classification_report to y_test and y_pred to get the classification report of our model\n",
        "print(classification_report(y_test, y_pred))"
      ],
      "execution_count": 70,
      "outputs": [
        {
          "output_type": "stream",
          "text": [
            "              precision    recall  f1-score   support\n",
            "\n",
            "        Draw       0.43      0.00      0.01       779\n",
            "        Lose       0.53      0.57      0.55       920\n",
            "         Win       0.61      0.87      0.72      1685\n",
            "\n",
            "    accuracy                           0.59      3384\n",
            "   macro avg       0.52      0.48      0.42      3384\n",
            "weighted avg       0.55      0.59      0.51      3384\n",
            "\n"
          ],
          "name": "stdout"
        }
      ]
    },
    {
      "cell_type": "markdown",
      "metadata": {
        "id": "o7AKb9FO2Hp0"
      },
      "source": [
        "The classification report shows that the model predicts wins better than losses and draws, and that it is poor at predicting draws. "
      ]
    },
    {
      "cell_type": "markdown",
      "metadata": {
        "id": "cye46JmEd1qQ"
      },
      "source": [
        "#### Hyperparameter tuning"
      ]
    },
    {
      "cell_type": "markdown",
      "metadata": {
        "id": "m1NosnGqd82g"
      },
      "source": [
        "To improve the performance of the model we will perform hyperparameter tuning using grid search"
      ]
    },
    {
      "cell_type": "code",
      "metadata": {
        "id": "to9HNkYpTl6Q"
      },
      "source": [
        "# create and instantiate logistic regression \n",
        "logistic = LogisticRegression(solver='newton-cg')\n",
        "\n",
        "# create penalty regularization space\n",
        "penalty = ['l1', 'l2', 'none', 'saga']\n",
        "\n",
        "# create C regularization  space\n",
        "C = [.001,.01, .1, 1,10,100,1000]\n",
        "\n",
        "# create a dictionary of all the parameters and their corresponding set of values that we want to test for best performance\n",
        "hyperparameters = dict(C=C, penalty=penalty)"
      ],
      "execution_count": 71,
      "outputs": []
    },
    {
      "cell_type": "code",
      "metadata": {
        "id": "6yjW29NJTyvk"
      },
      "source": [
        "# import grid search for the tuning\n",
        "from sklearn.model_selection import GridSearchCV\n",
        "\n",
        "# create an instance of the GridSearchCV class then pass values for the estimator parameter. \n",
        "# the values include the algorithm that we want to execute, the parameter dictionary we have created, the cv parameter which corresponds to number of folds, and finally \n",
        "# the n_jobs parameter which refers to the number of CPU's that we want to use for execution. n_jobs=-1 parameter means using all the available computing power.\n",
        "clf = GridSearchCV(logistic, hyperparameters, cv=5, verbose=0, n_jobs=-1)"
      ],
      "execution_count": 72,
      "outputs": []
    },
    {
      "cell_type": "code",
      "metadata": {
        "id": "x8mM5t73T1jp"
      },
      "source": [
        "# fit the created grid search to the training data\n",
        "best_model = clf.fit(X_train, y_train)"
      ],
      "execution_count": 73,
      "outputs": []
    },
    {
      "cell_type": "code",
      "metadata": {
        "id": "XmsJNimlT4DI",
        "colab": {
          "base_uri": "https://localhost:8080/"
        },
        "outputId": "462b34cc-e683-4f97-996f-619d28be3868"
      },
      "source": [
        "# view the best values of the hyperparameters\n",
        "print('Best Penalty:', best_model.best_estimator_.get_params()['penalty'])\n",
        "print('Best C:', best_model.best_estimator_.get_params()['C'])"
      ],
      "execution_count": 74,
      "outputs": [
        {
          "output_type": "stream",
          "text": [
            "Best Penalty: l2\n",
            "Best C: 0.1\n"
          ],
          "name": "stdout"
        }
      ]
    },
    {
      "cell_type": "code",
      "metadata": {
        "colab": {
          "base_uri": "https://localhost:8080/",
          "height": 352
        },
        "id": "jNsVUD3CEzhb",
        "outputId": "021a2a41-fbc9-4e71-d1de-e01a56a7b933"
      },
      "source": [
        "# obtain the tuned model's predictions of the 'match_status' based on X_test \n",
        "y_prediction=best_model.predict(X_test)\n",
        "\n",
        "# create a dataframe that compares the actual output values for X_test with the predicted values\n",
        "df2 = pd.DataFrame({'Prediction': y_prediction, 'Actual': y_test})# the y_pred is a numpy array that contains all the predicted values\n",
        "\n",
        "# display top 10 records in the comparison dataframe\n",
        "df.head(10)"
      ],
      "execution_count": 75,
      "outputs": [
        {
          "output_type": "execute_result",
          "data": {
            "text/html": [
              "<div>\n",
              "<style scoped>\n",
              "    .dataframe tbody tr th:only-of-type {\n",
              "        vertical-align: middle;\n",
              "    }\n",
              "\n",
              "    .dataframe tbody tr th {\n",
              "        vertical-align: top;\n",
              "    }\n",
              "\n",
              "    .dataframe thead th {\n",
              "        text-align: right;\n",
              "    }\n",
              "</style>\n",
              "<table border=\"1\" class=\"dataframe\">\n",
              "  <thead>\n",
              "    <tr style=\"text-align: right;\">\n",
              "      <th></th>\n",
              "      <th>Prediction</th>\n",
              "      <th>Actual</th>\n",
              "    </tr>\n",
              "  </thead>\n",
              "  <tbody>\n",
              "    <tr>\n",
              "      <th>285</th>\n",
              "      <td>Lose</td>\n",
              "      <td>Lose</td>\n",
              "    </tr>\n",
              "    <tr>\n",
              "      <th>3872</th>\n",
              "      <td>Lose</td>\n",
              "      <td>Lose</td>\n",
              "    </tr>\n",
              "    <tr>\n",
              "      <th>8704</th>\n",
              "      <td>Lose</td>\n",
              "      <td>Lose</td>\n",
              "    </tr>\n",
              "    <tr>\n",
              "      <th>5329</th>\n",
              "      <td>Win</td>\n",
              "      <td>Draw</td>\n",
              "    </tr>\n",
              "    <tr>\n",
              "      <th>5984</th>\n",
              "      <td>Win</td>\n",
              "      <td>Win</td>\n",
              "    </tr>\n",
              "    <tr>\n",
              "      <th>2146</th>\n",
              "      <td>Lose</td>\n",
              "      <td>Lose</td>\n",
              "    </tr>\n",
              "    <tr>\n",
              "      <th>1153</th>\n",
              "      <td>Lose</td>\n",
              "      <td>Draw</td>\n",
              "    </tr>\n",
              "    <tr>\n",
              "      <th>6695</th>\n",
              "      <td>Win</td>\n",
              "      <td>Draw</td>\n",
              "    </tr>\n",
              "    <tr>\n",
              "      <th>2746</th>\n",
              "      <td>Win</td>\n",
              "      <td>Lose</td>\n",
              "    </tr>\n",
              "    <tr>\n",
              "      <th>938</th>\n",
              "      <td>Lose</td>\n",
              "      <td>Lose</td>\n",
              "    </tr>\n",
              "  </tbody>\n",
              "</table>\n",
              "</div>"
            ],
            "text/plain": [
              "     Prediction Actual\n",
              "285        Lose   Lose\n",
              "3872       Lose   Lose\n",
              "8704       Lose   Lose\n",
              "5329        Win   Draw\n",
              "5984        Win    Win\n",
              "2146       Lose   Lose\n",
              "1153       Lose   Draw\n",
              "6695        Win   Draw\n",
              "2746        Win   Lose\n",
              "938        Lose   Lose"
            ]
          },
          "metadata": {
            "tags": []
          },
          "execution_count": 75
        }
      ]
    },
    {
      "cell_type": "code",
      "metadata": {
        "colab": {
          "base_uri": "https://localhost:8080/"
        },
        "id": "JcxQBW6cU5iS",
        "outputId": "2e87aebb-d37c-486d-e5b7-1b92742e5a6d"
      },
      "source": [
        "# use accuracy_score function to compute the accuracy of the tuned algorithm by finding the proportion of correct predictions\n",
        "accuracy1 = accuracy_score(y_test, y_prediction)\n",
        "# print the accuracy value\n",
        "print('Accuracy: ', accuracy1)\n",
        "\n",
        "print(\"\")\n",
        "\n",
        "# import confusion_matrix to be used in creating a confusion matrix of the predictions\n",
        "from sklearn.metrics import confusion_matrix\n",
        "\n",
        "# apply confusion matrix to y_test and y_prediction to obtain number of correct and wrong predictions per category\n",
        "confusion_matrix1 = confusion_matrix(y_test, y_prediction)\n",
        "# print the matrix\n",
        "print('Confusion Matrix') \n",
        "print(confusion_matrix1)"
      ],
      "execution_count": 76,
      "outputs": [
        {
          "output_type": "stream",
          "text": [
            "Accuracy:  0.5880614657210402\n",
            "\n",
            "Confusion Matrix\n",
            "[[   5  245  529]\n",
            " [   5  523  392]\n",
            " [   2  221 1462]]\n"
          ],
          "name": "stdout"
        }
      ]
    },
    {
      "cell_type": "markdown",
      "metadata": {
        "id": "_V4-TokrX7yG"
      },
      "source": [
        "After hyperparameter tuning the model's accuracy has remained the same at 58.81%. The confusion matrix shows  that the distribution has changed even though the accuracy of the model hasn't. The model is still poor at predicting 'draws'."
      ]
    },
    {
      "cell_type": "code",
      "metadata": {
        "id": "nitJD2cf4HR1",
        "colab": {
          "base_uri": "https://localhost:8080/"
        },
        "outputId": "1e712d6a-2964-41c3-a980-f901d9b53a9a"
      },
      "source": [
        "# show the classification report of the model\n",
        "\n",
        "# import classification_report from sklearn.metrics\n",
        "from sklearn.metrics import classification_report\n",
        "\n",
        "# apply the imported classification_report to y_test and y_prediction to get the classification report of our tuned model\n",
        "print(classification_report(y_test, y_prediction))"
      ],
      "execution_count": 77,
      "outputs": [
        {
          "output_type": "stream",
          "text": [
            "              precision    recall  f1-score   support\n",
            "\n",
            "        Draw       0.42      0.01      0.01       779\n",
            "        Lose       0.53      0.57      0.55       920\n",
            "         Win       0.61      0.87      0.72      1685\n",
            "\n",
            "    accuracy                           0.59      3384\n",
            "   macro avg       0.52      0.48      0.43      3384\n",
            "weighted avg       0.55      0.59      0.51      3384\n",
            "\n"
          ],
          "name": "stdout"
        }
      ]
    },
    {
      "cell_type": "markdown",
      "metadata": {
        "id": "mGN1oy2f4SkJ"
      },
      "source": [
        "The classification report shows that the model is better at predicting wins than it is at predicting losses and draws. The precision in detecting draws has reduced by 1%"
      ]
    },
    {
      "cell_type": "markdown",
      "metadata": {
        "id": "Q4jrF16OEskL"
      },
      "source": [
        "#### **Conclusion**  \n",
        "The nature of our features (ordinal and nominal data) was appropriate  in logistic regression modelling however the models' accuracy of approximately 58.81% (before and after hyperparameter tuning) is way below the desired accuracy of 80%, meaning that our model did not meet our objective. The model's low predictions of 'draws' could be due to class imbalance that can be balanced in subsequent models. "
      ]
    },
    {
      "cell_type": "markdown",
      "metadata": {
        "id": "oA6dA1X3SHle"
      },
      "source": [
        "#### **Recommendation**  \n",
        "In order to improve the accuracy of our logistic regression model we could explore more classifiers which can learn rules from our data such as Decision Trees, we could optimize on other metrics such as Log Loss and F1-Score, we could check the scales of our gre and gpa features and normalize all our features to the same scale before putting them in a machine learning model,we could tune more parameters of the model, and if all of the above fail to improve the accuracy of the model, we could add more features."
      ]
    }
  ]
}