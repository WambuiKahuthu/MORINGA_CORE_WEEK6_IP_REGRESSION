{
  "nbformat": 4,
  "nbformat_minor": 0,
  "metadata": {
    "colab": {
      "name": "Moringa_Data_Science_Core_W6_Independent_Project_2021_08_Wambui_Kahuthu_Python_Notebook.ipynb",
      "provenance": [],
      "collapsed_sections": [],
      "toc_visible": true,
      "authorship_tag": "ABX9TyMbpXsOkVxkT7xrSFhDVmZX",
      "include_colab_link": true
    },
    "kernelspec": {
      "name": "python3",
      "display_name": "Python 3"
    },
    "language_info": {
      "name": "python"
    }
  },
  "cells": [
    {
      "cell_type": "markdown",
      "metadata": {
        "id": "view-in-github",
        "colab_type": "text"
      },
      "source": [
        "<a href=\"https://colab.research.google.com/github/WambuiKahuthu/MORINGA_CORE_WEEK6_REGRESSION/blob/main/Moringa_Data_Science_Core_W6_Independent_Project_2021_08_Wambui_Kahuthu_Python_Notebook.ipynb\" target=\"_parent\"><img src=\"https://colab.research.google.com/assets/colab-badge.svg\" alt=\"Open In Colab\"/></a>"
      ]
    },
    {
      "cell_type": "markdown",
      "metadata": {
        "id": "nbnD5YHy6OUK"
      },
      "source": [
        "# Mchezopesa Football Results Predictions\n"
      ]
    },
    {
      "cell_type": "markdown",
      "metadata": {
        "id": "OQgFGa4_6YkD"
      },
      "source": [
        "## Overview\n",
        "\n",
        "**i. Understanding the context**  \n",
        "I am acting as a data scientist at Mchezopesa Ltd and I have been tasked to design a models that will predict the result of a game between team 1 and team 2, based on who's home and who's away, and on whether or not the game is friendly  \n",
        "   \n",
        "**ii. Specifying the objective**  \n",
        "The specific objective of this project is to design a model that will predict the result of a game between team 1 and team 2, based on who's home and who's away, and on whether or not the game is friendly  \n",
        "  \n",
        "**iii. Defining the metric for success**  \n",
        "The project will be considered successful when the created models are at least 80% accurate in predicting the results of the matches \n",
        "  \n",
        "**iv. Data relevance**  \n",
        "The appropriate datasets for this projects are ones that contain data on the results of different matches and the rankings of the teams during those matches\n",
        "\n",
        "**v. Project design**  \n",
        "In order to work on the above problem, we need to do the following:\n",
        "\n",
        "a. Acquire the datasets with appropriate data for our project     \n",
        "b. Perform data cleaning by dropping irrelevant data, finding and dealing with duplicates, missing data, and anomalies  \n",
        "c. Merge our datasets in case there are multiple datasets\n",
        "d. Perform descriptive analysis to gain insights on the given data     \n",
        "e. Create and test the models that will work towards accomplishing our objective  \n",
        "f. Give conclusions and recommendations on the different models     \n",
        "\n",
        "\n",
        "\n"
      ]
    },
    {
      "cell_type": "markdown",
      "metadata": {
        "id": "vpaQF-xhHbqy"
      },
      "source": [
        "## Importing Libraries"
      ]
    },
    {
      "cell_type": "code",
      "metadata": {
        "id": "HpecV8rqEeHS"
      },
      "source": [
        "# import relevant libraries\n",
        "import pandas as pd\n",
        "import numpy as np\n",
        "import matplotlib.pyplot as plt\n",
        "%matplotlib inline\n",
        "import seaborn as sns\n",
        "import datetime as dt\n"
      ],
      "execution_count": 1,
      "outputs": []
    },
    {
      "cell_type": "code",
      "metadata": {
        "colab": {
          "base_uri": "https://localhost:8080/"
        },
        "id": "ZxI9_N0VDc3W",
        "outputId": "5d657de8-0300-4f35-dea0-36984745e916"
      },
      "source": [
        "# disable future warnings by running this code\n",
        "import warnings\n",
        "warnings.simplefilter(action='ignore', category=FutureWarning)\n",
        "pd.reset_option('all')"
      ],
      "execution_count": 2,
      "outputs": [
        {
          "output_type": "stream",
          "text": [
            "\n",
            ": boolean\n",
            "    use_inf_as_null had been deprecated and will be removed in a future\n",
            "    version. Use `use_inf_as_na` instead.\n",
            "\n"
          ],
          "name": "stdout"
        }
      ]
    },
    {
      "cell_type": "markdown",
      "metadata": {
        "id": "OxIoh3aeHpIf"
      },
      "source": [
        "## Loading the Dataset "
      ]
    },
    {
      "cell_type": "code",
      "metadata": {
        "id": "6yH6qPFwZeeO"
      },
      "source": [
        "# load dataset with ranking data (downloaded from https://moringaschool.instructure.com/courses/352/assignments/3624)\n",
        "rankings = pd.read_csv('/content/fifa_ranking.csv')\n",
        "\n",
        "# load dataset with tournament data (downloaded from https://moringaschool.instructure.com/courses/352/assignments/3624)\n",
        "results = pd.read_csv('/content/results.csv')"
      ],
      "execution_count": 87,
      "outputs": []
    },
    {
      "cell_type": "markdown",
      "metadata": {
        "id": "ldsBfgVx1M1O"
      },
      "source": [
        "## Reading the Datasets"
      ]
    },
    {
      "cell_type": "markdown",
      "metadata": {
        "id": "5lo1hPZw1zJh"
      },
      "source": [
        "### a. Rankings Dataset"
      ]
    },
    {
      "cell_type": "code",
      "metadata": {
        "colab": {
          "base_uri": "https://localhost:8080/",
          "height": 305
        },
        "id": "puBDdpsy1yTM",
        "outputId": "0223ce57-e8a1-40ae-b0b2-0e4aeb645109"
      },
      "source": [
        "# preview the top 5 entries of the dataset\n",
        "rankings.head()"
      ],
      "execution_count": 88,
      "outputs": [
        {
          "output_type": "execute_result",
          "data": {
            "text/html": [
              "<div>\n",
              "<style scoped>\n",
              "    .dataframe tbody tr th:only-of-type {\n",
              "        vertical-align: middle;\n",
              "    }\n",
              "\n",
              "    .dataframe tbody tr th {\n",
              "        vertical-align: top;\n",
              "    }\n",
              "\n",
              "    .dataframe thead th {\n",
              "        text-align: right;\n",
              "    }\n",
              "</style>\n",
              "<table border=\"1\" class=\"dataframe\">\n",
              "  <thead>\n",
              "    <tr style=\"text-align: right;\">\n",
              "      <th></th>\n",
              "      <th>rank</th>\n",
              "      <th>country_full</th>\n",
              "      <th>country_abrv</th>\n",
              "      <th>total_points</th>\n",
              "      <th>previous_points</th>\n",
              "      <th>rank_change</th>\n",
              "      <th>cur_year_avg</th>\n",
              "      <th>cur_year_avg_weighted</th>\n",
              "      <th>last_year_avg</th>\n",
              "      <th>last_year_avg_weighted</th>\n",
              "      <th>two_year_ago_avg</th>\n",
              "      <th>two_year_ago_weighted</th>\n",
              "      <th>three_year_ago_avg</th>\n",
              "      <th>three_year_ago_weighted</th>\n",
              "      <th>confederation</th>\n",
              "      <th>rank_date</th>\n",
              "    </tr>\n",
              "  </thead>\n",
              "  <tbody>\n",
              "    <tr>\n",
              "      <th>0</th>\n",
              "      <td>1</td>\n",
              "      <td>Germany</td>\n",
              "      <td>GER</td>\n",
              "      <td>0.0</td>\n",
              "      <td>57</td>\n",
              "      <td>0</td>\n",
              "      <td>0.0</td>\n",
              "      <td>0.0</td>\n",
              "      <td>0.0</td>\n",
              "      <td>0.0</td>\n",
              "      <td>0.0</td>\n",
              "      <td>0.0</td>\n",
              "      <td>0.0</td>\n",
              "      <td>0.0</td>\n",
              "      <td>UEFA</td>\n",
              "      <td>1993-08-08</td>\n",
              "    </tr>\n",
              "    <tr>\n",
              "      <th>1</th>\n",
              "      <td>2</td>\n",
              "      <td>Italy</td>\n",
              "      <td>ITA</td>\n",
              "      <td>0.0</td>\n",
              "      <td>57</td>\n",
              "      <td>0</td>\n",
              "      <td>0.0</td>\n",
              "      <td>0.0</td>\n",
              "      <td>0.0</td>\n",
              "      <td>0.0</td>\n",
              "      <td>0.0</td>\n",
              "      <td>0.0</td>\n",
              "      <td>0.0</td>\n",
              "      <td>0.0</td>\n",
              "      <td>UEFA</td>\n",
              "      <td>1993-08-08</td>\n",
              "    </tr>\n",
              "    <tr>\n",
              "      <th>2</th>\n",
              "      <td>3</td>\n",
              "      <td>Switzerland</td>\n",
              "      <td>SUI</td>\n",
              "      <td>0.0</td>\n",
              "      <td>50</td>\n",
              "      <td>9</td>\n",
              "      <td>0.0</td>\n",
              "      <td>0.0</td>\n",
              "      <td>0.0</td>\n",
              "      <td>0.0</td>\n",
              "      <td>0.0</td>\n",
              "      <td>0.0</td>\n",
              "      <td>0.0</td>\n",
              "      <td>0.0</td>\n",
              "      <td>UEFA</td>\n",
              "      <td>1993-08-08</td>\n",
              "    </tr>\n",
              "    <tr>\n",
              "      <th>3</th>\n",
              "      <td>4</td>\n",
              "      <td>Sweden</td>\n",
              "      <td>SWE</td>\n",
              "      <td>0.0</td>\n",
              "      <td>55</td>\n",
              "      <td>0</td>\n",
              "      <td>0.0</td>\n",
              "      <td>0.0</td>\n",
              "      <td>0.0</td>\n",
              "      <td>0.0</td>\n",
              "      <td>0.0</td>\n",
              "      <td>0.0</td>\n",
              "      <td>0.0</td>\n",
              "      <td>0.0</td>\n",
              "      <td>UEFA</td>\n",
              "      <td>1993-08-08</td>\n",
              "    </tr>\n",
              "    <tr>\n",
              "      <th>4</th>\n",
              "      <td>5</td>\n",
              "      <td>Argentina</td>\n",
              "      <td>ARG</td>\n",
              "      <td>0.0</td>\n",
              "      <td>51</td>\n",
              "      <td>5</td>\n",
              "      <td>0.0</td>\n",
              "      <td>0.0</td>\n",
              "      <td>0.0</td>\n",
              "      <td>0.0</td>\n",
              "      <td>0.0</td>\n",
              "      <td>0.0</td>\n",
              "      <td>0.0</td>\n",
              "      <td>0.0</td>\n",
              "      <td>CONMEBOL</td>\n",
              "      <td>1993-08-08</td>\n",
              "    </tr>\n",
              "  </tbody>\n",
              "</table>\n",
              "</div>"
            ],
            "text/plain": [
              "   rank country_full  ... confederation   rank_date\n",
              "0     1      Germany  ...          UEFA  1993-08-08\n",
              "1     2        Italy  ...          UEFA  1993-08-08\n",
              "2     3  Switzerland  ...          UEFA  1993-08-08\n",
              "3     4       Sweden  ...          UEFA  1993-08-08\n",
              "4     5    Argentina  ...      CONMEBOL  1993-08-08\n",
              "\n",
              "[5 rows x 16 columns]"
            ]
          },
          "metadata": {
            "tags": []
          },
          "execution_count": 88
        }
      ]
    },
    {
      "cell_type": "code",
      "metadata": {
        "colab": {
          "base_uri": "https://localhost:8080/"
        },
        "id": "kIdzvL6heULF",
        "outputId": "20eed15c-c0bb-4d99-bdce-f1f6ff56619f"
      },
      "source": [
        "# check the general information about our dataset\n",
        "# the information includes the number of entries and columns, name and data type of each column, number of non-null values in every column, and the distribution of each data type\n",
        "rankings.info()"
      ],
      "execution_count": 89,
      "outputs": [
        {
          "output_type": "stream",
          "text": [
            "<class 'pandas.core.frame.DataFrame'>\n",
            "RangeIndex: 57793 entries, 0 to 57792\n",
            "Data columns (total 16 columns):\n",
            " #   Column                   Non-Null Count  Dtype  \n",
            "---  ------                   --------------  -----  \n",
            " 0   rank                     57793 non-null  int64  \n",
            " 1   country_full             57793 non-null  object \n",
            " 2   country_abrv             57793 non-null  object \n",
            " 3   total_points             57793 non-null  float64\n",
            " 4   previous_points          57793 non-null  int64  \n",
            " 5   rank_change              57793 non-null  int64  \n",
            " 6   cur_year_avg             57793 non-null  float64\n",
            " 7   cur_year_avg_weighted    57793 non-null  float64\n",
            " 8   last_year_avg            57793 non-null  float64\n",
            " 9   last_year_avg_weighted   57793 non-null  float64\n",
            " 10  two_year_ago_avg         57793 non-null  float64\n",
            " 11  two_year_ago_weighted    57793 non-null  float64\n",
            " 12  three_year_ago_avg       57793 non-null  float64\n",
            " 13  three_year_ago_weighted  57793 non-null  float64\n",
            " 14  confederation            57793 non-null  object \n",
            " 15  rank_date                57793 non-null  object \n",
            "dtypes: float64(9), int64(3), object(4)\n",
            "memory usage: 7.1+ MB\n"
          ],
          "name": "stdout"
        }
      ]
    },
    {
      "cell_type": "code",
      "metadata": {
        "id": "Si0np4wk5fBU"
      },
      "source": [
        "# change data type of 'date' column\n",
        "rankings['rank_date'] = pd.to_datetime(rankings['rank_date'])"
      ],
      "execution_count": 90,
      "outputs": []
    },
    {
      "cell_type": "markdown",
      "metadata": {
        "id": "KLLbcYyZ0ikd"
      },
      "source": [
        "### b. Results Dataset"
      ]
    },
    {
      "cell_type": "code",
      "metadata": {
        "colab": {
          "base_uri": "https://localhost:8080/",
          "height": 200
        },
        "id": "WJSuX3Az0wFQ",
        "outputId": "f7abd7d6-3b2b-4448-e63f-a204268be7c4"
      },
      "source": [
        "# preview top 5 entries of the dataset\n",
        "results.head()"
      ],
      "execution_count": 91,
      "outputs": [
        {
          "output_type": "execute_result",
          "data": {
            "text/html": [
              "<div>\n",
              "<style scoped>\n",
              "    .dataframe tbody tr th:only-of-type {\n",
              "        vertical-align: middle;\n",
              "    }\n",
              "\n",
              "    .dataframe tbody tr th {\n",
              "        vertical-align: top;\n",
              "    }\n",
              "\n",
              "    .dataframe thead th {\n",
              "        text-align: right;\n",
              "    }\n",
              "</style>\n",
              "<table border=\"1\" class=\"dataframe\">\n",
              "  <thead>\n",
              "    <tr style=\"text-align: right;\">\n",
              "      <th></th>\n",
              "      <th>date</th>\n",
              "      <th>home_team</th>\n",
              "      <th>away_team</th>\n",
              "      <th>home_score</th>\n",
              "      <th>away_score</th>\n",
              "      <th>tournament</th>\n",
              "      <th>city</th>\n",
              "      <th>country</th>\n",
              "      <th>neutral</th>\n",
              "    </tr>\n",
              "  </thead>\n",
              "  <tbody>\n",
              "    <tr>\n",
              "      <th>0</th>\n",
              "      <td>1872-11-30</td>\n",
              "      <td>Scotland</td>\n",
              "      <td>England</td>\n",
              "      <td>0</td>\n",
              "      <td>0</td>\n",
              "      <td>Friendly</td>\n",
              "      <td>Glasgow</td>\n",
              "      <td>Scotland</td>\n",
              "      <td>False</td>\n",
              "    </tr>\n",
              "    <tr>\n",
              "      <th>1</th>\n",
              "      <td>1873-03-08</td>\n",
              "      <td>England</td>\n",
              "      <td>Scotland</td>\n",
              "      <td>4</td>\n",
              "      <td>2</td>\n",
              "      <td>Friendly</td>\n",
              "      <td>London</td>\n",
              "      <td>England</td>\n",
              "      <td>False</td>\n",
              "    </tr>\n",
              "    <tr>\n",
              "      <th>2</th>\n",
              "      <td>1874-03-07</td>\n",
              "      <td>Scotland</td>\n",
              "      <td>England</td>\n",
              "      <td>2</td>\n",
              "      <td>1</td>\n",
              "      <td>Friendly</td>\n",
              "      <td>Glasgow</td>\n",
              "      <td>Scotland</td>\n",
              "      <td>False</td>\n",
              "    </tr>\n",
              "    <tr>\n",
              "      <th>3</th>\n",
              "      <td>1875-03-06</td>\n",
              "      <td>England</td>\n",
              "      <td>Scotland</td>\n",
              "      <td>2</td>\n",
              "      <td>2</td>\n",
              "      <td>Friendly</td>\n",
              "      <td>London</td>\n",
              "      <td>England</td>\n",
              "      <td>False</td>\n",
              "    </tr>\n",
              "    <tr>\n",
              "      <th>4</th>\n",
              "      <td>1876-03-04</td>\n",
              "      <td>Scotland</td>\n",
              "      <td>England</td>\n",
              "      <td>3</td>\n",
              "      <td>0</td>\n",
              "      <td>Friendly</td>\n",
              "      <td>Glasgow</td>\n",
              "      <td>Scotland</td>\n",
              "      <td>False</td>\n",
              "    </tr>\n",
              "  </tbody>\n",
              "</table>\n",
              "</div>"
            ],
            "text/plain": [
              "         date home_team away_team  ...     city   country neutral\n",
              "0  1872-11-30  Scotland   England  ...  Glasgow  Scotland   False\n",
              "1  1873-03-08   England  Scotland  ...   London   England   False\n",
              "2  1874-03-07  Scotland   England  ...  Glasgow  Scotland   False\n",
              "3  1875-03-06   England  Scotland  ...   London   England   False\n",
              "4  1876-03-04  Scotland   England  ...  Glasgow  Scotland   False\n",
              "\n",
              "[5 rows x 9 columns]"
            ]
          },
          "metadata": {
            "tags": []
          },
          "execution_count": 91
        }
      ]
    },
    {
      "cell_type": "code",
      "metadata": {
        "colab": {
          "base_uri": "https://localhost:8080/"
        },
        "id": "lIvSLF7_1viB",
        "outputId": "3a41e7ef-03c9-46c4-f014-4e3f22f3f210"
      },
      "source": [
        "# check the general information about our dataset\n",
        "# the information includes the number of entries and columns, name and data type of each column, number of non-null values in every column, and the distribution of each data type\n",
        "results.info()"
      ],
      "execution_count": 92,
      "outputs": [
        {
          "output_type": "stream",
          "text": [
            "<class 'pandas.core.frame.DataFrame'>\n",
            "RangeIndex: 40839 entries, 0 to 40838\n",
            "Data columns (total 9 columns):\n",
            " #   Column      Non-Null Count  Dtype \n",
            "---  ------      --------------  ----- \n",
            " 0   date        40839 non-null  object\n",
            " 1   home_team   40839 non-null  object\n",
            " 2   away_team   40839 non-null  object\n",
            " 3   home_score  40839 non-null  int64 \n",
            " 4   away_score  40839 non-null  int64 \n",
            " 5   tournament  40839 non-null  object\n",
            " 6   city        40839 non-null  object\n",
            " 7   country     40839 non-null  object\n",
            " 8   neutral     40839 non-null  bool  \n",
            "dtypes: bool(1), int64(2), object(6)\n",
            "memory usage: 2.5+ MB\n"
          ],
          "name": "stdout"
        }
      ]
    },
    {
      "cell_type": "code",
      "metadata": {
        "id": "NiQPkO6e172_"
      },
      "source": [
        "# change data type of 'date' column\n",
        "results['date'] = pd.to_datetime(results['date'])"
      ],
      "execution_count": 93,
      "outputs": []
    },
    {
      "cell_type": "markdown",
      "metadata": {
        "id": "6MuBeB3Q2EBI"
      },
      "source": [
        "## Data Cleaning"
      ]
    },
    {
      "cell_type": "markdown",
      "metadata": {
        "id": "eNUtaDRu2JzX"
      },
      "source": [
        "### a. Rankings dataset"
      ]
    },
    {
      "cell_type": "code",
      "metadata": {
        "colab": {
          "base_uri": "https://localhost:8080/"
        },
        "id": "N-ta8YqsNPyk",
        "outputId": "fc4b2514-da5c-468d-b846-084034091076"
      },
      "source": [
        "# check for duplicates in the dataset\n",
        "print('Number of duplicates before cleaning: '+str(rankings.duplicated().sum()))\n",
        "\n",
        "# drop duplicates\n",
        "rankings = rankings.drop_duplicates()\n",
        "\n",
        "# confirm that the duplicates have been dropped\n",
        "print('Number of duplicates after cleaning: ' +str(rankings.duplicated().sum()))"
      ],
      "execution_count": 94,
      "outputs": [
        {
          "output_type": "stream",
          "text": [
            "Number of duplicates before cleaning: 37\n",
            "Number of duplicates after cleaning: 0\n"
          ],
          "name": "stdout"
        }
      ]
    },
    {
      "cell_type": "code",
      "metadata": {
        "id": "voNAIfRvNgMF"
      },
      "source": [
        "# drop the irrelevant columns\n",
        "rankings.drop(rankings.columns.difference(['rank','country_full', 'rank_date']), 1, inplace=True)\n",
        "\n",
        "# rename 'country_full' to 'country' and 'rank_date' to 'date'\n",
        "rankings.rename(columns={'country_full':'country', 'rank_date':'date'}, inplace=True)"
      ],
      "execution_count": 95,
      "outputs": []
    },
    {
      "cell_type": "code",
      "metadata": {
        "id": "rWVv4KvBfKxX"
      },
      "source": [
        "# remove day from date to remain with  year and month data\n",
        "rankings['date'] = rankings['date'].dt.strftime('%Y-%m')"
      ],
      "execution_count": 96,
      "outputs": []
    },
    {
      "cell_type": "code",
      "metadata": {
        "colab": {
          "base_uri": "https://localhost:8080/"
        },
        "id": "AUFWdY1cjO0u",
        "outputId": "91e1fa2d-9cc0-4bbe-ab2b-74e6b802c51c"
      },
      "source": [
        "# check for missing values in the dataset\n",
        "rankings.isnull().sum()"
      ],
      "execution_count": 97,
      "outputs": [
        {
          "output_type": "execute_result",
          "data": {
            "text/plain": [
              "rank       0\n",
              "country    0\n",
              "date       0\n",
              "dtype: int64"
            ]
          },
          "metadata": {
            "tags": []
          },
          "execution_count": 97
        }
      ]
    },
    {
      "cell_type": "code",
      "metadata": {
        "colab": {
          "base_uri": "https://localhost:8080/"
        },
        "id": "lfDsKxXS9UFZ",
        "outputId": "4c2949bd-9a10-468f-b01c-27ba96b36df6"
      },
      "source": [
        "# check for anomalies in the 'country' column by scrutinizing its unique values\n",
        "rankings.country.unique()"
      ],
      "execution_count": 98,
      "outputs": [
        {
          "output_type": "execute_result",
          "data": {
            "text/plain": [
              "array(['Germany', 'Italy', 'Switzerland', 'Sweden', 'Argentina',\n",
              "       'Republic of Ireland', 'Russia', 'Brazil', 'Norway', 'Denmark',\n",
              "       'England', 'France', 'Spain', 'Mexico', 'RCS', 'Netherlands',\n",
              "       'Nigeria', 'Belgium', 'Colombia', 'Poland', 'Romania', 'Uruguay',\n",
              "       'Portugal', 'Cameroon', 'Zambia', 'Egypt', 'Wales', 'USA',\n",
              "       \"Côte d'Ivoire\", 'Scotland', 'Tunisia', 'Greece', 'Morocco',\n",
              "       'Algeria', 'Ecuador', 'Korea Republic', 'Bulgaria', 'Austria',\n",
              "       'Costa Rica', 'Northern Ireland', 'Honduras', 'Hungary', 'Japan',\n",
              "       'Saudi Arabia', 'China PR', 'Canada', 'Finland', 'Ghana', 'Chile',\n",
              "       'Zimbabwe', 'Qatar', 'Australia', 'Iceland', 'IR Iran',\n",
              "       'United Arab Emirates', 'Yugoslavia', 'Iraq', 'Senegal', 'Bolivia',\n",
              "       'Kuwait', 'Korea DPR', 'El Salvador', 'Turkey', 'Gabon', 'Guinea',\n",
              "       'Thailand', 'Paraguay', 'Malawi', 'Israel', 'Peru', 'Zaire',\n",
              "       'Cyprus', 'Singapore', 'Mali', 'Malaysia', 'Bermuda', 'Niger',\n",
              "       'Syria', 'Bahrain', 'New Zealand', 'Madagascar', 'Malta',\n",
              "       'Jamaica', 'Lithuania', 'Trinidad and Tobago', 'Sierra Leone',\n",
              "       'Jordan', 'Kenya', 'Latvia', 'Yemen', 'Tanzania', 'Albania',\n",
              "       'Angola', 'Venezuela', 'Ethiopia', 'Burundi', 'Oman', 'Indonesia',\n",
              "       'Liberia', 'Mozambique', 'Puerto Rico', 'Swaziland', 'Hong Kong',\n",
              "       'Uganda', 'Barbados', 'Myanmar', 'Congo', 'Lebanon',\n",
              "       'South Africa', 'Luxembourg', 'Faroe Islands', 'Guatemala',\n",
              "       'Burkina Faso', 'Togo', 'Suriname', 'Fiji', 'Croatia', 'Estonia',\n",
              "       'San Marino', 'Bangladesh', 'St Vincent and the Grenadines',\n",
              "       'Netherlands Antilles', 'Mauritius', 'Benin', 'Panama', 'Sudan',\n",
              "       'Antigua and Barbuda', 'Slovenia', 'India', 'Belarus', 'Ukraine',\n",
              "       'Vietnam', 'Guinea-Bissau', 'Guyana', 'Botswana', 'St Lucia',\n",
              "       'Tahiti', 'Grenada', 'Haiti', 'Libya', 'Laos', 'Mauritania',\n",
              "       'Cape Verde Islands', 'Solomon Islands', 'Brunei Darussalam',\n",
              "       'Lesotho', 'Dominican Republic', 'Pakistan', 'Nicaragua', 'Cuba',\n",
              "       'Seychelles', 'Central African Republic', 'Gambia', 'Namibia',\n",
              "       'Cayman Islands', 'Nepal', 'Liechtenstein', 'Equatorial Guinea',\n",
              "       'Chinese Taipei', 'Sri Lanka', 'Philippines', 'Chad', 'Vanuatu',\n",
              "       'Aruba', 'Bahamas', 'Maldives', 'Macau', 'Slovakia',\n",
              "       'St Kitts and Nevis', 'Czech Republic', 'Georgia', 'FYR Macedonia',\n",
              "       'Moldova', 'Armenia', 'Azerbaijan', 'Uzbekistan', 'Turkmenistan',\n",
              "       'Kazakhstan', 'Tajikistan', 'Kyrgyz Republic', 'Somalia',\n",
              "       'Djibouti', 'Dominica', 'Rwanda', 'Belize', 'Cambodia',\n",
              "       'Bosnia and Herzegovina', 'Guam', 'Papua New Guinea', 'Tonga',\n",
              "       'Samoa', 'Andorra', 'Cook Islands', 'British Virgin Islands',\n",
              "       'Anguilla', 'São Tomé e Príncipe', 'Eritrea', 'American Samoa',\n",
              "       'Palestine', 'Mongolia', 'Turks and Caicos Islands',\n",
              "       'US Virgin Islands', 'Montserrat', 'Congo DR', 'Bhutan',\n",
              "       'Serbia and Montenegro', 'Afghanistan', 'New Caledonia', 'Serbia',\n",
              "       'Timor-Leste', 'Comoros', 'Montenegro', 'Curaçao', 'South Sudan',\n",
              "       'Kosovo', 'Gibraltar'], dtype=object)"
            ]
          },
          "metadata": {
            "tags": []
          },
          "execution_count": 98
        }
      ]
    },
    {
      "cell_type": "markdown",
      "metadata": {
        "id": "3hytPZjUArCv"
      },
      "source": [
        "There are no anomalies in the 'country' column"
      ]
    },
    {
      "cell_type": "code",
      "metadata": {
        "colab": {
          "base_uri": "https://localhost:8080/",
          "height": 200
        },
        "id": "HqLhIWGesHdV",
        "outputId": "696cb2ca-01c4-456d-ff95-a216448850f6"
      },
      "source": [
        "# preview top 5 entries of the cleaned dataset\n",
        "rankings.head()"
      ],
      "execution_count": 99,
      "outputs": [
        {
          "output_type": "execute_result",
          "data": {
            "text/html": [
              "<div>\n",
              "<style scoped>\n",
              "    .dataframe tbody tr th:only-of-type {\n",
              "        vertical-align: middle;\n",
              "    }\n",
              "\n",
              "    .dataframe tbody tr th {\n",
              "        vertical-align: top;\n",
              "    }\n",
              "\n",
              "    .dataframe thead th {\n",
              "        text-align: right;\n",
              "    }\n",
              "</style>\n",
              "<table border=\"1\" class=\"dataframe\">\n",
              "  <thead>\n",
              "    <tr style=\"text-align: right;\">\n",
              "      <th></th>\n",
              "      <th>rank</th>\n",
              "      <th>country</th>\n",
              "      <th>date</th>\n",
              "    </tr>\n",
              "  </thead>\n",
              "  <tbody>\n",
              "    <tr>\n",
              "      <th>0</th>\n",
              "      <td>1</td>\n",
              "      <td>Germany</td>\n",
              "      <td>1993-08</td>\n",
              "    </tr>\n",
              "    <tr>\n",
              "      <th>1</th>\n",
              "      <td>2</td>\n",
              "      <td>Italy</td>\n",
              "      <td>1993-08</td>\n",
              "    </tr>\n",
              "    <tr>\n",
              "      <th>2</th>\n",
              "      <td>3</td>\n",
              "      <td>Switzerland</td>\n",
              "      <td>1993-08</td>\n",
              "    </tr>\n",
              "    <tr>\n",
              "      <th>3</th>\n",
              "      <td>4</td>\n",
              "      <td>Sweden</td>\n",
              "      <td>1993-08</td>\n",
              "    </tr>\n",
              "    <tr>\n",
              "      <th>4</th>\n",
              "      <td>5</td>\n",
              "      <td>Argentina</td>\n",
              "      <td>1993-08</td>\n",
              "    </tr>\n",
              "  </tbody>\n",
              "</table>\n",
              "</div>"
            ],
            "text/plain": [
              "   rank      country     date\n",
              "0     1      Germany  1993-08\n",
              "1     2        Italy  1993-08\n",
              "2     3  Switzerland  1993-08\n",
              "3     4       Sweden  1993-08\n",
              "4     5    Argentina  1993-08"
            ]
          },
          "metadata": {
            "tags": []
          },
          "execution_count": 99
        }
      ]
    },
    {
      "cell_type": "code",
      "metadata": {
        "colab": {
          "base_uri": "https://localhost:8080/"
        },
        "id": "-Z2QX-q9fzW0",
        "outputId": "f76e7452-1ab0-4298-ee9a-70f7ea76d034"
      },
      "source": [
        "# check the number of remaining records after cleaning\n",
        "rankings.shape"
      ],
      "execution_count": 100,
      "outputs": [
        {
          "output_type": "execute_result",
          "data": {
            "text/plain": [
              "(57756, 3)"
            ]
          },
          "metadata": {
            "tags": []
          },
          "execution_count": 100
        }
      ]
    },
    {
      "cell_type": "markdown",
      "metadata": {
        "id": "puy-kXdkqHlj"
      },
      "source": [
        "### b. Results dataset"
      ]
    },
    {
      "cell_type": "code",
      "metadata": {
        "colab": {
          "base_uri": "https://localhost:8080/"
        },
        "id": "gDbh-jfUqdPC",
        "outputId": "60b87599-6b18-4d18-fba7-f499d562186e"
      },
      "source": [
        "# check for duplicates in the dataset\n",
        "print('Number of duplicates before cleaning: '+str(results.duplicated().sum()))\n",
        "\n",
        "# drop duplicates\n",
        "results = results.drop_duplicates()\n",
        "\n",
        "# confirm that the duplicates have been dropped\n",
        "print('Number of duplicates after cleaning: ' +str(results.duplicated().sum()))"
      ],
      "execution_count": 101,
      "outputs": [
        {
          "output_type": "stream",
          "text": [
            "Number of duplicates before cleaning: 0\n",
            "Number of duplicates after cleaning: 0\n"
          ],
          "name": "stdout"
        }
      ]
    },
    {
      "cell_type": "code",
      "metadata": {
        "id": "hE9yzlsiqdPG"
      },
      "source": [
        "# drop the irrelevant columns \n",
        "results.drop(['country','neutral', 'city'], axis=1, inplace=True)"
      ],
      "execution_count": 102,
      "outputs": []
    },
    {
      "cell_type": "code",
      "metadata": {
        "id": "XhFASoE3qdPH"
      },
      "source": [
        "# remove day from date to remain with  year and month data\n",
        "results['date'] = results['date'].dt.strftime('%Y-%m')"
      ],
      "execution_count": 103,
      "outputs": []
    },
    {
      "cell_type": "code",
      "metadata": {
        "id": "3trRsrwHoE9-"
      },
      "source": [
        "# convert values in the 'tournament' column to two categories (Friendly and Other)\n",
        "\n",
        "# create a function that defines the change\n",
        "def tournament_type (y):\n",
        "    if y == 'Friendly':\n",
        "        return 'Friendly'\n",
        "    return 'Other'\n",
        "    \n",
        "# apply the function to the 'tournament' column\n",
        "results['tournament'] = results['tournament'].apply(lambda y: tournament_type(y))"
      ],
      "execution_count": 104,
      "outputs": []
    },
    {
      "cell_type": "code",
      "metadata": {
        "colab": {
          "base_uri": "https://localhost:8080/"
        },
        "id": "RrV3Sk9dqdPH",
        "outputId": "155d92ef-e4c0-43e1-9e57-6c8d1d63bbf8"
      },
      "source": [
        "# check for missing values in the dataset\n",
        "results.isnull().sum()"
      ],
      "execution_count": 105,
      "outputs": [
        {
          "output_type": "execute_result",
          "data": {
            "text/plain": [
              "date          0\n",
              "home_team     0\n",
              "away_team     0\n",
              "home_score    0\n",
              "away_score    0\n",
              "tournament    0\n",
              "dtype: int64"
            ]
          },
          "metadata": {
            "tags": []
          },
          "execution_count": 105
        }
      ]
    },
    {
      "cell_type": "code",
      "metadata": {
        "colab": {
          "base_uri": "https://localhost:8080/"
        },
        "id": "w5fP6n30FgJ7",
        "outputId": "6892898c-af97-4e45-eeb5-13ea6ff78bcd"
      },
      "source": [
        "# check for anomalies in the 'home_team' column by scrutinizing the unique values\n",
        "results.home_team.unique()"
      ],
      "execution_count": 106,
      "outputs": [
        {
          "output_type": "execute_result",
          "data": {
            "text/plain": [
              "array(['Scotland', 'England', 'Wales', 'Northern Ireland',\n",
              "       'United States', 'Uruguay', 'Austria', 'Hungary', 'Argentina',\n",
              "       'Belgium', 'France', 'Netherlands', 'Czechoslovakia',\n",
              "       'Switzerland', 'Sweden', 'Germany', 'Italy', 'Chile', 'Norway',\n",
              "       'Finland', 'Luxembourg', 'Russia', 'Denmark', 'Catalonia',\n",
              "       'Basque Country', 'Brazil', 'Japan', 'Paraguay', 'Canada',\n",
              "       'Estonia', 'Costa Rica', 'Guatemala', 'Spain', 'Brittany',\n",
              "       'Poland', 'Yugoslavia', 'New Zealand', 'Romania', 'Latvia',\n",
              "       'Galicia', 'Portugal', 'Andalusia', 'China PR', 'Australia',\n",
              "       'Lithuania', 'Turkey', 'Central Spain', 'Mexico', 'Aruba', 'Egypt',\n",
              "       'Haiti', 'Philippines', 'Bulgaria', 'Jamaica', 'Kenya', 'Bolivia',\n",
              "       'Peru', 'Honduras', 'Guyana', 'Uganda', 'Belarus', 'El Salvador',\n",
              "       'Barbados', 'Republic of Ireland', 'Trinidad and Tobago', 'Greece',\n",
              "       'Curaçao', 'Dominica', 'Silesia', 'Guadeloupe', 'Israel',\n",
              "       'Suriname', 'French Guiana', 'Cuba', 'Colombia', 'Ecuador',\n",
              "       'Saint Kitts and Nevis', 'Panama', 'Slovakia', 'Manchukuo',\n",
              "       'Croatia', 'Nicaragua', 'Afghanistan', 'India', 'Martinique',\n",
              "       'Zimbabwe', 'Iceland', 'Albania', 'Madagascar', 'Zambia',\n",
              "       'Mauritius', 'Tanzania', 'Iran', 'Djibouti', 'DR Congo', 'Vietnam',\n",
              "       'Macau', 'Ethiopia', 'Puerto Rico', 'Réunion', 'Sierra Leone',\n",
              "       'Zanzibar', 'South Korea', 'Ghana', 'South Africa',\n",
              "       'New Caledonia', 'Fiji', 'Nigeria', 'Venezuela', 'Burma',\n",
              "       'Sri Lanka', 'Tahiti', 'Gambia', 'Hong Kong', 'Singapore',\n",
              "       'Malaysia', 'Indonesia', 'Guinea-Bissau', 'German DR', 'Vanuatu',\n",
              "       'Kernow', 'Saarland', 'Cambodia', 'Lebanon', 'Pakistan',\n",
              "       'Vietnam Republic', 'North Korea', 'Togo', 'Sudan', 'Malta',\n",
              "       'Syria', 'Tunisia', 'Malawi', 'Morocco', 'Benin', 'Cameroon',\n",
              "       'Central African Republic', 'Gabon', 'Ivory Coast', 'Congo',\n",
              "       'Mali', 'North Vietnam', 'Mongolia', 'Chinese Taipei', 'Cyprus',\n",
              "       'Iraq', 'Saint Lucia', 'Grenada', 'Thailand', 'Senegal', 'Libya',\n",
              "       'Guinea', 'Algeria', 'Kuwait', 'Jordan', 'Solomon Islands',\n",
              "       'Liberia', 'Laos', 'Saint Vincent and the Grenadines', 'Bermuda',\n",
              "       'Niger', 'Bahrain', 'Montenegro', 'Palestine', 'Papua New Guinea',\n",
              "       'Burkina Faso', 'Mauritania', 'Saudi Arabia', 'Eswatini',\n",
              "       'Somalia', 'Lesotho', 'Cook Islands', 'Qatar',\n",
              "       'Antigua and Barbuda', 'Faroe Islands', 'Bangladesh', 'Oman',\n",
              "       'Yemen DPR', 'Burundi', 'Yemen', 'Mozambique', 'Guam', 'Chad',\n",
              "       'Angola', 'Dominican Republic', 'Seychelles', 'Rwanda',\n",
              "       'São Tomé and Príncipe', 'Botswana', 'Northern Cyprus',\n",
              "       'Cape Verde', 'Kyrgyzstan', 'Georgia', 'Azerbaijan', 'Kiribati',\n",
              "       'Tonga', 'Wallis Islands and Futuna', 'United Arab Emirates',\n",
              "       'Brunei', 'Equatorial Guinea', 'Liechtenstein', 'Nepal',\n",
              "       'Greenland', 'Niue', 'Samoa', 'American Samoa', 'Belize',\n",
              "       'Anguilla', 'Cayman Islands', 'Palau', 'Sint Maarten', 'Namibia',\n",
              "       'Åland Islands', 'Ynys Môn', 'Saint Martin', 'San Marino',\n",
              "       'Slovenia', 'Jersey', 'Shetland', 'Isle of Wight', 'Moldova',\n",
              "       'Ukraine', 'Kazakhstan', 'Tajikistan', 'Uzbekistan',\n",
              "       'Turkmenistan', 'Armenia', 'Czech Republic', 'Guernsey',\n",
              "       'Gibraltar', 'Isle of Man', 'North Macedonia', 'Montserrat',\n",
              "       'Serbia', 'Canary Islands', 'Bosnia and Herzegovina', 'Maldives',\n",
              "       'Andorra', 'British Virgin Islands', 'Frøya', 'Hitra',\n",
              "       'U.S. Virgin Islands', 'Corsica', 'Eritrea', 'Bahamas', 'Gotland',\n",
              "       'Saare County', 'Rhodes', 'Micronesia', 'Bhutan', 'Orkney',\n",
              "       'Monaco', 'Tuvalu', 'Sark', 'Alderney', 'Mayotte',\n",
              "       'Turks and Caicos Islands', 'East Timor', 'Western Isles',\n",
              "       'Falkland Islands', 'Kosovo', 'Republic of St. Pauli', 'Găgăuzia',\n",
              "       'Tibet', 'Crimea', 'Occitania', 'Sápmi',\n",
              "       'Northern Mariana Islands', 'Menorca', 'Comoros', 'Provence',\n",
              "       'Arameans Suryoye', 'Padania', 'Iraqi Kurdistan', 'Gozo',\n",
              "       'Bonaire', 'Western Sahara', 'Raetia', 'Darfur', 'Tamil Eelam',\n",
              "       'South Sudan', 'Abkhazia', 'St. Pierre & Miquelon', 'Artsakh',\n",
              "       'Madrid', 'Vatican City', 'Ellan Vannin', 'South Ossetia',\n",
              "       'County of Nice', 'Székely Land', 'Romani people', 'Felvidék',\n",
              "       'Chagos Islands', 'United Koreans in Japan', 'Somaliland',\n",
              "       'Western Armenia', 'Barawa', 'Kárpátalja', 'Yorkshire', 'Panjab',\n",
              "       'Matabeleland', 'Cascadia', 'Kabylia', 'Timor-Leste', 'Myanmar',\n",
              "       'Parishes of Jersey', 'Chameria', 'Saint Helena', 'Curacao'],\n",
              "      dtype=object)"
            ]
          },
          "metadata": {
            "tags": []
          },
          "execution_count": 106
        }
      ]
    },
    {
      "cell_type": "markdown",
      "metadata": {
        "id": "Zmfo8wAsMslN"
      },
      "source": [
        "There are no anomalies in the 'home_team' column"
      ]
    },
    {
      "cell_type": "code",
      "metadata": {
        "colab": {
          "base_uri": "https://localhost:8080/"
        },
        "id": "2y8cTTKhNNyI",
        "outputId": "27336402-c695-4ac0-d635-53b5f4f0bb62"
      },
      "source": [
        "# check for anomalies in the 'away_team' column by scrutinizing the unique values\n",
        "results.away_team.unique()"
      ],
      "execution_count": 107,
      "outputs": [
        {
          "output_type": "execute_result",
          "data": {
            "text/plain": [
              "array(['England', 'Scotland', 'Wales', 'Northern Ireland', 'Canada',\n",
              "       'Argentina', 'Hungary', 'Czechoslovakia', 'Uruguay', 'France',\n",
              "       'Austria', 'Switzerland', 'Netherlands', 'Belgium', 'Germany',\n",
              "       'Norway', 'Sweden', 'Italy', 'Chile', 'Catalonia', 'Finland',\n",
              "       'Russia', 'Luxembourg', 'Denmark', 'Brazil', 'Basque Country',\n",
              "       'United States', 'Philippines', 'Estonia', 'Provence',\n",
              "       'El Salvador', 'Costa Rica', 'Paraguay', 'Yugoslavia', 'Poland',\n",
              "       'Portugal', 'Spain', 'Romania', 'Australia', 'Central Spain',\n",
              "       'Mexico', 'Galicia', 'Brittany', 'Asturias', 'China PR',\n",
              "       'New Zealand', 'Latvia', 'Guatemala', 'Curaçao', 'Bulgaria',\n",
              "       'Lithuania', 'Turkey', 'Egypt', 'South Africa', 'Jamaica', 'Japan',\n",
              "       'Republic of Ireland', 'Uganda', 'Bolivia', 'Haiti',\n",
              "       'Trinidad and Tobago', 'Kenya', 'Ukraine', 'Honduras', 'Nicaragua',\n",
              "       'Greece', 'Guyana', 'Peru', 'Aruba', 'Martinique', 'Barbados',\n",
              "       'Cuba', 'Israel', 'Indonesia', 'Suriname', 'Saint Lucia',\n",
              "       'Ecuador', 'Venezuela', 'Grenada', 'India', 'Panama', 'Slovakia',\n",
              "       'Croatia', 'Lebanon', 'Manchukuo', 'Puerto Rico', 'Iran',\n",
              "       'Guadeloupe', 'Mongolia', 'Colombia', 'Tanzania', 'Zambia',\n",
              "       'Montenegro', 'Mauritius', 'Zimbabwe', 'French Guiana', 'Réunion',\n",
              "       'Albania', 'Zanzibar', 'Ethiopia', 'Madagascar', 'Dominica',\n",
              "       'South Korea', 'Djibouti', 'Dominican Republic', 'Cyprus',\n",
              "       'Iceland', 'Nigeria', 'Syria', 'DR Congo', 'Serbia',\n",
              "       'Chinese Taipei', 'Afghanistan', 'Vanuatu', 'Ghana', 'Pakistan',\n",
              "       'German DR', 'Sierra Leone', 'Guinea-Bissau', 'Gambia', 'Saarland',\n",
              "       'Tahiti', 'Burundi', 'Sri Lanka', 'Thailand', 'Burma',\n",
              "       'New Caledonia', 'Cambodia', 'Malaysia', 'Vietnam Republic',\n",
              "       'Kyrgyzstan', 'Belarus', 'Moldova', 'North Vietnam', 'Togo',\n",
              "       'North Korea', 'Sudan', 'Libya', 'Hong Kong', 'Singapore', 'Malta',\n",
              "       'Benin', 'Cape Verde', 'Mali', 'Burkina Faso', 'Ivory Coast',\n",
              "       'Cameroon', 'Iraq', 'Tunisia', 'Morocco',\n",
              "       'Saint Vincent and the Grenadines', 'Guinea', 'Congo', 'Gabon',\n",
              "       'Malawi', 'Jordan', 'Senegal', 'Kuwait', 'Papua New Guinea',\n",
              "       'Solomon Islands', 'Liberia', 'Somalia', 'Laos', 'Saudi Arabia',\n",
              "       'Algeria', 'Chad', 'Central African Republic', 'Bermuda',\n",
              "       'Palestine', 'Yemen', 'Bahrain', 'Wallis Islands and Futuna',\n",
              "       'Niger', 'Corsica', 'Western Australia', 'Botswana', 'Fiji',\n",
              "       'Eswatini', 'Qatar', 'Lesotho', 'Bahamas', 'Brunei',\n",
              "       'Cook Islands', 'Yemen DPR', 'United Arab Emirates',\n",
              "       'Faroe Islands', 'Nepal', 'Antigua and Barbuda', 'Bangladesh',\n",
              "       'Seychelles', 'Oman', 'Equatorial Guinea', 'Mozambique',\n",
              "       'Mauritania', 'Angola', 'São Tomé and Príncipe', 'Macau',\n",
              "       'Saint Kitts and Nevis', 'Armenia', 'Kazakhstan', 'Tonga',\n",
              "       'Kiribati', 'Tuvalu', 'Samoa', 'Greenland', 'Northern Cyprus',\n",
              "       'Rwanda', 'Liechtenstein', 'Bhutan', 'American Samoa',\n",
              "       'Cayman Islands', 'British Virgin Islands', 'Sint Maarten',\n",
              "       'Ynys Môn', 'Shetland', 'Åland Islands', 'Saint Martin',\n",
              "       'San Marino', 'Montserrat', 'Anguilla', 'Guernsey',\n",
              "       'Isle of Wight', 'Jersey', 'Georgia', 'Guam', 'Turkmenistan',\n",
              "       'Slovenia', 'Uzbekistan', 'Eritrea', 'Tajikistan', 'Namibia',\n",
              "       'Azerbaijan', 'Czech Republic', 'Vietnam', 'Isle of Man',\n",
              "       'Gibraltar', 'North Macedonia', 'Belize', 'Bosnia and Herzegovina',\n",
              "       'Maldives', 'Andorra', 'Frøya', 'Hitra',\n",
              "       'Northern Mariana Islands', 'Kernow', 'Turks and Caicos Islands',\n",
              "       'U.S. Virgin Islands', 'Micronesia', 'Saare County', 'Rhodes',\n",
              "       'Tibet', 'Orkney', 'Falkland Islands', 'Mayotte', 'Monaco',\n",
              "       'Vatican City', 'East Timor', 'Gotland', 'Alderney', 'Sark',\n",
              "       'Western Isles', 'Sápmi', 'Crimea', 'Comoros', 'Menorca',\n",
              "       'Iraqi Kurdistan', 'Padania', 'Arameans Suryoye', 'Occitania',\n",
              "       'Gozo', 'Two Sicilies', 'St. Pierre & Miquelon', 'Bonaire',\n",
              "       'Western Sahara', 'Raetia', 'Darfur', 'Tamil Eelam', 'Artsakh',\n",
              "       'Abkhazia', 'South Sudan', 'Andalusia', 'South Ossetia',\n",
              "       'County of Nice', 'Ellan Vannin', 'Romani people', 'Felvidék',\n",
              "       'Chagos Islands', 'Székely Land', 'Somaliland', 'Western Armenia',\n",
              "       'Panjab', 'Kosovo', 'Kárpátalja', 'Yorkshire', 'Surrey',\n",
              "       'Cascadia', 'Matabeleland', 'Kabylia', 'United Koreans in Japan',\n",
              "       'Timor-Leste', 'Myanmar', 'Barawa', 'Parishes of Jersey',\n",
              "       'Chameria', 'Saint Helena', 'Curacao'], dtype=object)"
            ]
          },
          "metadata": {
            "tags": []
          },
          "execution_count": 107
        }
      ]
    },
    {
      "cell_type": "markdown",
      "metadata": {
        "id": "E1byqRyzMn7c"
      },
      "source": [
        "There are no anomalies in the 'away_team' column"
      ]
    },
    {
      "cell_type": "code",
      "metadata": {
        "colab": {
          "base_uri": "https://localhost:8080/",
          "height": 442
        },
        "id": "rsQSW0l_ROEq",
        "outputId": "c9a6e4d6-1e3a-41ca-a085-48efb50b3b5f"
      },
      "source": [
        "# check for outliers using boxplots\n",
        "\n",
        "# specify the size of the figure\n",
        "fig, ax = plt.subplots(1,2, figsize=(18,7))\n",
        "# label the figure\n",
        "fig.suptitle('Boxplots')\n",
        "\n",
        "# plot the home team scores boxplot\n",
        "sns.boxplot(data=results, y = \"home_score\", ax=ax[0])\n",
        "# label the home team scores boxplot\n",
        "ax[0].set_title('Home Team Scores')\n",
        "\n",
        "# plot the home team scores boxplot\n",
        "sns.boxplot(data=results, y = \"away_score\", ax=ax[1])\n",
        "# label the away team scores boxplot\n",
        "ax[1].set_title('Away Team Scores')\n",
        "\n",
        "# display the figure\n",
        "plt.show()"
      ],
      "execution_count": 108,
      "outputs": [
        {
          "output_type": "display_data",
          "data": {
            "image/png": "[encoded data removed]",
            "text/plain": [
              "<Figure size 1296x504 with 2 Axes>"
            ]
          },
          "metadata": {
            "tags": [],
            "needs_background": "light"
          }
        }
      ]
    },
    {
      "cell_type": "markdown",
      "metadata": {
        "id": "0DcuxHAsRRi7"
      },
      "source": [
        "There is no justifiable reason to remove the outliers as they accurately reflect the number of goals scored by the teams, moreover since we have a large dataset, the outliers won't significantly affect the statistical summaries; therefore, we will retain them."
      ]
    },
    {
      "cell_type": "code",
      "metadata": {
        "colab": {
          "base_uri": "https://localhost:8080/",
          "height": 200
        },
        "id": "BfvFKfmxsU03",
        "outputId": "8a123b65-28b1-4dd1-c5c9-79270a14c26d"
      },
      "source": [
        "# preview top 5 entries of the cleaned dataset\n",
        "results.head()"
      ],
      "execution_count": 109,
      "outputs": [
        {
          "output_type": "execute_result",
          "data": {
            "text/html": [
              "<div>\n",
              "<style scoped>\n",
              "    .dataframe tbody tr th:only-of-type {\n",
              "        vertical-align: middle;\n",
              "    }\n",
              "\n",
              "    .dataframe tbody tr th {\n",
              "        vertical-align: top;\n",
              "    }\n",
              "\n",
              "    .dataframe thead th {\n",
              "        text-align: right;\n",
              "    }\n",
              "</style>\n",
              "<table border=\"1\" class=\"dataframe\">\n",
              "  <thead>\n",
              "    <tr style=\"text-align: right;\">\n",
              "      <th></th>\n",
              "      <th>date</th>\n",
              "      <th>home_team</th>\n",
              "      <th>away_team</th>\n",
              "      <th>home_score</th>\n",
              "      <th>away_score</th>\n",
              "      <th>tournament</th>\n",
              "    </tr>\n",
              "  </thead>\n",
              "  <tbody>\n",
              "    <tr>\n",
              "      <th>0</th>\n",
              "      <td>1872-11</td>\n",
              "      <td>Scotland</td>\n",
              "      <td>England</td>\n",
              "      <td>0</td>\n",
              "      <td>0</td>\n",
              "      <td>Friendly</td>\n",
              "    </tr>\n",
              "    <tr>\n",
              "      <th>1</th>\n",
              "      <td>1873-03</td>\n",
              "      <td>England</td>\n",
              "      <td>Scotland</td>\n",
              "      <td>4</td>\n",
              "      <td>2</td>\n",
              "      <td>Friendly</td>\n",
              "    </tr>\n",
              "    <tr>\n",
              "      <th>2</th>\n",
              "      <td>1874-03</td>\n",
              "      <td>Scotland</td>\n",
              "      <td>England</td>\n",
              "      <td>2</td>\n",
              "      <td>1</td>\n",
              "      <td>Friendly</td>\n",
              "    </tr>\n",
              "    <tr>\n",
              "      <th>3</th>\n",
              "      <td>1875-03</td>\n",
              "      <td>England</td>\n",
              "      <td>Scotland</td>\n",
              "      <td>2</td>\n",
              "      <td>2</td>\n",
              "      <td>Friendly</td>\n",
              "    </tr>\n",
              "    <tr>\n",
              "      <th>4</th>\n",
              "      <td>1876-03</td>\n",
              "      <td>Scotland</td>\n",
              "      <td>England</td>\n",
              "      <td>3</td>\n",
              "      <td>0</td>\n",
              "      <td>Friendly</td>\n",
              "    </tr>\n",
              "  </tbody>\n",
              "</table>\n",
              "</div>"
            ],
            "text/plain": [
              "      date home_team away_team  home_score  away_score tournament\n",
              "0  1872-11  Scotland   England           0           0   Friendly\n",
              "1  1873-03   England  Scotland           4           2   Friendly\n",
              "2  1874-03  Scotland   England           2           1   Friendly\n",
              "3  1875-03   England  Scotland           2           2   Friendly\n",
              "4  1876-03  Scotland   England           3           0   Friendly"
            ]
          },
          "metadata": {
            "tags": []
          },
          "execution_count": 109
        }
      ]
    },
    {
      "cell_type": "code",
      "metadata": {
        "colab": {
          "base_uri": "https://localhost:8080/"
        },
        "id": "-TEHT_M7qdPH",
        "outputId": "d9b5ed28-fec4-4f52-caea-f13d8e21cbc2"
      },
      "source": [
        "# check the number of remaining records after cleaning\n",
        "results.shape"
      ],
      "execution_count": 110,
      "outputs": [
        {
          "output_type": "execute_result",
          "data": {
            "text/plain": [
              "(40839, 6)"
            ]
          },
          "metadata": {
            "tags": []
          },
          "execution_count": 110
        }
      ]
    },
    {
      "cell_type": "markdown",
      "metadata": {
        "id": "duxWBKrpsy8Z"
      },
      "source": [
        "## Merging the Datasets"
      ]
    },
    {
      "cell_type": "code",
      "metadata": {
        "colab": {
          "base_uri": "https://localhost:8080/",
          "height": 200
        },
        "id": "eP7HWzb_ghPu",
        "outputId": "f7edc1d1-ccbd-4edb-be2a-fb12c24c2016"
      },
      "source": [
        "# merge 'rankings' and 'results' datasets by home team country and date using inner join\n",
        "home_merge = pd.merge(results, rankings, how = 'inner' , right_on =['date', 'country'], left_on = ['date', 'home_team'])\n",
        "\n",
        "# preview the top 5 entries of the merged dataset\n",
        "home_merge.head()"
      ],
      "execution_count": 111,
      "outputs": [
        {
          "output_type": "execute_result",
          "data": {
            "text/html": [
              "<div>\n",
              "<style scoped>\n",
              "    .dataframe tbody tr th:only-of-type {\n",
              "        vertical-align: middle;\n",
              "    }\n",
              "\n",
              "    .dataframe tbody tr th {\n",
              "        vertical-align: top;\n",
              "    }\n",
              "\n",
              "    .dataframe thead th {\n",
              "        text-align: right;\n",
              "    }\n",
              "</style>\n",
              "<table border=\"1\" class=\"dataframe\">\n",
              "  <thead>\n",
              "    <tr style=\"text-align: right;\">\n",
              "      <th></th>\n",
              "      <th>date</th>\n",
              "      <th>home_team</th>\n",
              "      <th>away_team</th>\n",
              "      <th>home_score</th>\n",
              "      <th>away_score</th>\n",
              "      <th>tournament</th>\n",
              "      <th>rank</th>\n",
              "      <th>country</th>\n",
              "    </tr>\n",
              "  </thead>\n",
              "  <tbody>\n",
              "    <tr>\n",
              "      <th>0</th>\n",
              "      <td>1993-08</td>\n",
              "      <td>Colombia</td>\n",
              "      <td>Paraguay</td>\n",
              "      <td>0</td>\n",
              "      <td>0</td>\n",
              "      <td>Other</td>\n",
              "      <td>19</td>\n",
              "      <td>Colombia</td>\n",
              "    </tr>\n",
              "    <tr>\n",
              "      <th>1</th>\n",
              "      <td>1993-08</td>\n",
              "      <td>Colombia</td>\n",
              "      <td>Argentina</td>\n",
              "      <td>2</td>\n",
              "      <td>1</td>\n",
              "      <td>Other</td>\n",
              "      <td>19</td>\n",
              "      <td>Colombia</td>\n",
              "    </tr>\n",
              "    <tr>\n",
              "      <th>2</th>\n",
              "      <td>1993-08</td>\n",
              "      <td>Colombia</td>\n",
              "      <td>Peru</td>\n",
              "      <td>4</td>\n",
              "      <td>0</td>\n",
              "      <td>Other</td>\n",
              "      <td>19</td>\n",
              "      <td>Colombia</td>\n",
              "    </tr>\n",
              "    <tr>\n",
              "      <th>3</th>\n",
              "      <td>1993-08</td>\n",
              "      <td>Peru</td>\n",
              "      <td>Argentina</td>\n",
              "      <td>0</td>\n",
              "      <td>1</td>\n",
              "      <td>Other</td>\n",
              "      <td>70</td>\n",
              "      <td>Peru</td>\n",
              "    </tr>\n",
              "    <tr>\n",
              "      <th>4</th>\n",
              "      <td>1993-08</td>\n",
              "      <td>Peru</td>\n",
              "      <td>Colombia</td>\n",
              "      <td>0</td>\n",
              "      <td>1</td>\n",
              "      <td>Other</td>\n",
              "      <td>70</td>\n",
              "      <td>Peru</td>\n",
              "    </tr>\n",
              "  </tbody>\n",
              "</table>\n",
              "</div>"
            ],
            "text/plain": [
              "      date home_team  away_team  ...  tournament  rank   country\n",
              "0  1993-08  Colombia   Paraguay  ...       Other    19  Colombia\n",
              "1  1993-08  Colombia  Argentina  ...       Other    19  Colombia\n",
              "2  1993-08  Colombia       Peru  ...       Other    19  Colombia\n",
              "3  1993-08      Peru  Argentina  ...       Other    70      Peru\n",
              "4  1993-08      Peru   Colombia  ...       Other    70      Peru\n",
              "\n",
              "[5 rows x 8 columns]"
            ]
          },
          "metadata": {
            "tags": []
          },
          "execution_count": 111
        }
      ]
    },
    {
      "cell_type": "code",
      "metadata": {
        "id": "R72CokCmhDuE"
      },
      "source": [
        "# rename 'rank' to 'home_team_rank' \n",
        "home_merge.rename(columns={'rank':'home_team_rank'},inplace=True)"
      ],
      "execution_count": 112,
      "outputs": []
    },
    {
      "cell_type": "code",
      "metadata": {
        "id": "wq0KfeJcmtxD",
        "colab": {
          "base_uri": "https://localhost:8080/",
          "height": 200
        },
        "outputId": "ee6973e1-f6a2-4976-bb7f-53355e501c4b"
      },
      "source": [
        "# merge 'home_merge' and 'rankings' datasets by away team country and date\n",
        "matches = pd.merge(home_merge, rankings, how = 'inner' , right_on =['date', 'country'], left_on = ['date', 'away_team'])\n",
        "\n",
        "# preview the bottom 5 entries of the merged dataset\n",
        "matches.tail()"
      ],
      "execution_count": 113,
      "outputs": [
        {
          "output_type": "execute_result",
          "data": {
            "text/html": [
              "<div>\n",
              "<style scoped>\n",
              "    .dataframe tbody tr th:only-of-type {\n",
              "        vertical-align: middle;\n",
              "    }\n",
              "\n",
              "    .dataframe tbody tr th {\n",
              "        vertical-align: top;\n",
              "    }\n",
              "\n",
              "    .dataframe thead th {\n",
              "        text-align: right;\n",
              "    }\n",
              "</style>\n",
              "<table border=\"1\" class=\"dataframe\">\n",
              "  <thead>\n",
              "    <tr style=\"text-align: right;\">\n",
              "      <th></th>\n",
              "      <th>date</th>\n",
              "      <th>home_team</th>\n",
              "      <th>away_team</th>\n",
              "      <th>home_score</th>\n",
              "      <th>away_score</th>\n",
              "      <th>tournament</th>\n",
              "      <th>home_team_rank</th>\n",
              "      <th>country_x</th>\n",
              "      <th>rank</th>\n",
              "      <th>country_y</th>\n",
              "    </tr>\n",
              "  </thead>\n",
              "  <tbody>\n",
              "    <tr>\n",
              "      <th>16913</th>\n",
              "      <td>2018-06</td>\n",
              "      <td>Tunisia</td>\n",
              "      <td>England</td>\n",
              "      <td>1</td>\n",
              "      <td>2</td>\n",
              "      <td>Other</td>\n",
              "      <td>21</td>\n",
              "      <td>Tunisia</td>\n",
              "      <td>12</td>\n",
              "      <td>England</td>\n",
              "    </tr>\n",
              "    <tr>\n",
              "      <th>16914</th>\n",
              "      <td>2018-06</td>\n",
              "      <td>Japan</td>\n",
              "      <td>Paraguay</td>\n",
              "      <td>4</td>\n",
              "      <td>2</td>\n",
              "      <td>Friendly</td>\n",
              "      <td>61</td>\n",
              "      <td>Japan</td>\n",
              "      <td>32</td>\n",
              "      <td>Paraguay</td>\n",
              "    </tr>\n",
              "    <tr>\n",
              "      <th>16915</th>\n",
              "      <td>2018-06</td>\n",
              "      <td>Japan</td>\n",
              "      <td>Poland</td>\n",
              "      <td>0</td>\n",
              "      <td>1</td>\n",
              "      <td>Other</td>\n",
              "      <td>61</td>\n",
              "      <td>Japan</td>\n",
              "      <td>8</td>\n",
              "      <td>Poland</td>\n",
              "    </tr>\n",
              "    <tr>\n",
              "      <th>16916</th>\n",
              "      <td>2018-06</td>\n",
              "      <td>Argentina</td>\n",
              "      <td>Iceland</td>\n",
              "      <td>1</td>\n",
              "      <td>1</td>\n",
              "      <td>Other</td>\n",
              "      <td>5</td>\n",
              "      <td>Argentina</td>\n",
              "      <td>22</td>\n",
              "      <td>Iceland</td>\n",
              "    </tr>\n",
              "    <tr>\n",
              "      <th>16917</th>\n",
              "      <td>2018-06</td>\n",
              "      <td>Nigeria</td>\n",
              "      <td>Iceland</td>\n",
              "      <td>2</td>\n",
              "      <td>0</td>\n",
              "      <td>Other</td>\n",
              "      <td>48</td>\n",
              "      <td>Nigeria</td>\n",
              "      <td>22</td>\n",
              "      <td>Iceland</td>\n",
              "    </tr>\n",
              "  </tbody>\n",
              "</table>\n",
              "</div>"
            ],
            "text/plain": [
              "          date  home_team away_team  ...  country_x  rank country_y\n",
              "16913  2018-06    Tunisia   England  ...    Tunisia    12   England\n",
              "16914  2018-06      Japan  Paraguay  ...      Japan    32  Paraguay\n",
              "16915  2018-06      Japan    Poland  ...      Japan     8    Poland\n",
              "16916  2018-06  Argentina   Iceland  ...  Argentina    22   Iceland\n",
              "16917  2018-06    Nigeria   Iceland  ...    Nigeria    22   Iceland\n",
              "\n",
              "[5 rows x 10 columns]"
            ]
          },
          "metadata": {
            "tags": []
          },
          "execution_count": 113
        }
      ]
    },
    {
      "cell_type": "code",
      "metadata": {
        "id": "dIG3mBx2QOpo"
      },
      "source": [
        "# rename 'rank' to 'away_team_rank'\n",
        "matches.rename(columns={'rank':'away_team_rank'},inplace=True)\n",
        "\n",
        "# drop the 'country_x' and 'country_y' columns\n",
        "matches.drop(['country_x', 'country_y'],axis=1, inplace=True)"
      ],
      "execution_count": 114,
      "outputs": []
    },
    {
      "cell_type": "code",
      "metadata": {
        "colab": {
          "base_uri": "https://localhost:8080/",
          "height": 200
        },
        "id": "_iRSzxB30cYn",
        "outputId": "34271a0c-60bf-4d56-b8cd-5ae06ab634c1"
      },
      "source": [
        "# preview the top 5 records of the dataset\n",
        "matches.head()"
      ],
      "execution_count": 115,
      "outputs": [
        {
          "output_type": "execute_result",
          "data": {
            "text/html": [
              "<div>\n",
              "<style scoped>\n",
              "    .dataframe tbody tr th:only-of-type {\n",
              "        vertical-align: middle;\n",
              "    }\n",
              "\n",
              "    .dataframe tbody tr th {\n",
              "        vertical-align: top;\n",
              "    }\n",
              "\n",
              "    .dataframe thead th {\n",
              "        text-align: right;\n",
              "    }\n",
              "</style>\n",
              "<table border=\"1\" class=\"dataframe\">\n",
              "  <thead>\n",
              "    <tr style=\"text-align: right;\">\n",
              "      <th></th>\n",
              "      <th>date</th>\n",
              "      <th>home_team</th>\n",
              "      <th>away_team</th>\n",
              "      <th>home_score</th>\n",
              "      <th>away_score</th>\n",
              "      <th>tournament</th>\n",
              "      <th>home_team_rank</th>\n",
              "      <th>away_team_rank</th>\n",
              "    </tr>\n",
              "  </thead>\n",
              "  <tbody>\n",
              "    <tr>\n",
              "      <th>0</th>\n",
              "      <td>1993-08</td>\n",
              "      <td>Colombia</td>\n",
              "      <td>Paraguay</td>\n",
              "      <td>0</td>\n",
              "      <td>0</td>\n",
              "      <td>Other</td>\n",
              "      <td>19</td>\n",
              "      <td>67</td>\n",
              "    </tr>\n",
              "    <tr>\n",
              "      <th>1</th>\n",
              "      <td>1993-08</td>\n",
              "      <td>Argentina</td>\n",
              "      <td>Paraguay</td>\n",
              "      <td>0</td>\n",
              "      <td>0</td>\n",
              "      <td>Other</td>\n",
              "      <td>5</td>\n",
              "      <td>67</td>\n",
              "    </tr>\n",
              "    <tr>\n",
              "      <th>2</th>\n",
              "      <td>1993-08</td>\n",
              "      <td>Colombia</td>\n",
              "      <td>Argentina</td>\n",
              "      <td>2</td>\n",
              "      <td>1</td>\n",
              "      <td>Other</td>\n",
              "      <td>19</td>\n",
              "      <td>5</td>\n",
              "    </tr>\n",
              "    <tr>\n",
              "      <th>3</th>\n",
              "      <td>1993-08</td>\n",
              "      <td>Peru</td>\n",
              "      <td>Argentina</td>\n",
              "      <td>0</td>\n",
              "      <td>1</td>\n",
              "      <td>Other</td>\n",
              "      <td>70</td>\n",
              "      <td>5</td>\n",
              "    </tr>\n",
              "    <tr>\n",
              "      <th>4</th>\n",
              "      <td>1993-08</td>\n",
              "      <td>Paraguay</td>\n",
              "      <td>Argentina</td>\n",
              "      <td>1</td>\n",
              "      <td>3</td>\n",
              "      <td>Other</td>\n",
              "      <td>67</td>\n",
              "      <td>5</td>\n",
              "    </tr>\n",
              "  </tbody>\n",
              "</table>\n",
              "</div>"
            ],
            "text/plain": [
              "      date  home_team  away_team  ...  tournament  home_team_rank away_team_rank\n",
              "0  1993-08   Colombia   Paraguay  ...       Other              19             67\n",
              "1  1993-08  Argentina   Paraguay  ...       Other               5             67\n",
              "2  1993-08   Colombia  Argentina  ...       Other              19              5\n",
              "3  1993-08       Peru  Argentina  ...       Other              70              5\n",
              "4  1993-08   Paraguay  Argentina  ...       Other              67              5\n",
              "\n",
              "[5 rows x 8 columns]"
            ]
          },
          "metadata": {
            "tags": []
          },
          "execution_count": 115
        }
      ]
    },
    {
      "cell_type": "code",
      "metadata": {
        "id": "VHZmDDEKy10J",
        "colab": {
          "base_uri": "https://localhost:8080/"
        },
        "outputId": "b0287e57-6624-4f68-8584-379acb1ea9ce"
      },
      "source": [
        "# check the number of records of dataset\n",
        "matches.shape"
      ],
      "execution_count": 116,
      "outputs": [
        {
          "output_type": "execute_result",
          "data": {
            "text/plain": [
              "(16918, 8)"
            ]
          },
          "metadata": {
            "tags": []
          },
          "execution_count": 116
        }
      ]
    },
    {
      "cell_type": "code",
      "metadata": {
        "id": "oJhQeDOUshiZ"
      },
      "source": [
        "# export the merged dataset as a csv file\n",
        "matches.to_csv('matches.csv', index=False)"
      ],
      "execution_count": 117,
      "outputs": []
    },
    {
      "cell_type": "markdown",
      "metadata": {
        "id": "8Q8P-SMa1NOY"
      },
      "source": [
        "## Desciprive Analysis"
      ]
    },
    {
      "cell_type": "markdown",
      "metadata": {
        "id": "z1SqhOyg-_Z8"
      },
      "source": [
        "Descriptive analysis will help us understand our dataset better"
      ]
    },
    {
      "cell_type": "code",
      "metadata": {
        "colab": {
          "base_uri": "https://localhost:8080/"
        },
        "id": "7HIY4W0b_PK6",
        "outputId": "cc76e2ae-9803-4fb8-d15c-df20452f04c9"
      },
      "source": [
        "# find out the total number of distinct teams to play as a home team\n",
        "print('The total number of teams to ever play as a home team is ' +str(matches['home_team'].nunique()))\n",
        "\n",
        "# find out the total number of distinct teams to play as an away team\n",
        "print('The total number of teams to ever play as an away team is ' +str(matches['away_team'].nunique()))"
      ],
      "execution_count": 118,
      "outputs": [
        {
          "output_type": "stream",
          "text": [
            "The total number of teams to ever play as a home team is 193\n",
            "The total number of teams to ever play as an away team is 193\n"
          ],
          "name": "stdout"
        }
      ]
    },
    {
      "cell_type": "code",
      "metadata": {
        "colab": {
          "base_uri": "https://localhost:8080/",
          "height": 291
        },
        "id": "xLnkb8kK1AXx",
        "outputId": "cce52459-8537-400f-fd80-ad197f1a694e"
      },
      "source": [
        "# compute the general statistical summaries of 'home_score' and 'away_score' columns\n",
        "matches[['home_score', 'away_score']].describe()"
      ],
      "execution_count": 119,
      "outputs": [
        {
          "output_type": "execute_result",
          "data": {
            "text/html": [
              "<div>\n",
              "<style scoped>\n",
              "    .dataframe tbody tr th:only-of-type {\n",
              "        vertical-align: middle;\n",
              "    }\n",
              "\n",
              "    .dataframe tbody tr th {\n",
              "        vertical-align: top;\n",
              "    }\n",
              "\n",
              "    .dataframe thead th {\n",
              "        text-align: right;\n",
              "    }\n",
              "</style>\n",
              "<table border=\"1\" class=\"dataframe\">\n",
              "  <thead>\n",
              "    <tr style=\"text-align: right;\">\n",
              "      <th></th>\n",
              "      <th>home_score</th>\n",
              "      <th>away_score</th>\n",
              "    </tr>\n",
              "  </thead>\n",
              "  <tbody>\n",
              "    <tr>\n",
              "      <th>count</th>\n",
              "      <td>16918.000000</td>\n",
              "      <td>16918.000000</td>\n",
              "    </tr>\n",
              "    <tr>\n",
              "      <th>mean</th>\n",
              "      <td>1.603499</td>\n",
              "      <td>1.068448</td>\n",
              "    </tr>\n",
              "    <tr>\n",
              "      <th>std</th>\n",
              "      <td>1.615346</td>\n",
              "      <td>1.244975</td>\n",
              "    </tr>\n",
              "    <tr>\n",
              "      <th>min</th>\n",
              "      <td>0.000000</td>\n",
              "      <td>0.000000</td>\n",
              "    </tr>\n",
              "    <tr>\n",
              "      <th>25%</th>\n",
              "      <td>0.000000</td>\n",
              "      <td>0.000000</td>\n",
              "    </tr>\n",
              "    <tr>\n",
              "      <th>50%</th>\n",
              "      <td>1.000000</td>\n",
              "      <td>1.000000</td>\n",
              "    </tr>\n",
              "    <tr>\n",
              "      <th>75%</th>\n",
              "      <td>2.000000</td>\n",
              "      <td>2.000000</td>\n",
              "    </tr>\n",
              "    <tr>\n",
              "      <th>max</th>\n",
              "      <td>31.000000</td>\n",
              "      <td>15.000000</td>\n",
              "    </tr>\n",
              "  </tbody>\n",
              "</table>\n",
              "</div>"
            ],
            "text/plain": [
              "         home_score    away_score\n",
              "count  16918.000000  16918.000000\n",
              "mean       1.603499      1.068448\n",
              "std        1.615346      1.244975\n",
              "min        0.000000      0.000000\n",
              "25%        0.000000      0.000000\n",
              "50%        1.000000      1.000000\n",
              "75%        2.000000      2.000000\n",
              "max       31.000000     15.000000"
            ]
          },
          "metadata": {
            "tags": []
          },
          "execution_count": 119
        }
      ]
    },
    {
      "cell_type": "code",
      "metadata": {
        "colab": {
          "base_uri": "https://localhost:8080/",
          "height": 414
        },
        "id": "E2ikQ6BcARid",
        "outputId": "5a519039-b72f-481f-fb19-b41dd1d68058"
      },
      "source": [
        "# visualize the distribution of the home scores using a countplot\n",
        "\n",
        "# specify the size of the chart\n",
        "plt.figure(figsize = (10, 6))\n",
        "\n",
        "# plot the count plot\n",
        "sns.countplot(matches.home_score)\n",
        "\n",
        "# label the chart\n",
        "plt.title('Distribution of Home Team Goals', fontsize=20, y=1.015)\n",
        "# label the x axis\n",
        "plt.xlabel('Number of Goals')\n",
        "# label the y axis\n",
        "plt.ylabel('Frequency')\n",
        "# display the chart\n",
        "plt.show()"
      ],
      "execution_count": 120,
      "outputs": [
        {
          "output_type": "display_data",
          "data": {
            "image/png": "[encoded data removed]",
            "text/plain": [
              "<Figure size 720x432 with 1 Axes>"
            ]
          },
          "metadata": {
            "tags": [],
            "needs_background": "light"
          }
        }
      ]
    },
    {
      "cell_type": "code",
      "metadata": {
        "colab": {
          "base_uri": "https://localhost:8080/",
          "height": 414
        },
        "id": "zMFFYRmmEf-_",
        "outputId": "87c6bf08-3f92-4260-eb29-619491b73312"
      },
      "source": [
        "# visualize the distribution of the away scores using a countplot\n",
        "\n",
        "# specify the size of the chart\n",
        "plt.figure(figsize = (10, 6))\n",
        "\n",
        "# plot the count plot\n",
        "sns.countplot(matches.away_score)\n",
        "\n",
        "# label the chart\n",
        "plt.title('Distribution of Away Team Goals', fontsize=20, y=1.015)\n",
        "# label the x axis\n",
        "plt.xlabel('Number of Goals')\n",
        "# label the y axis\n",
        "plt.ylabel('Frequency')\n",
        "# display the chart\n",
        "plt.show()"
      ],
      "execution_count": 121,
      "outputs": [
        {
          "output_type": "display_data",
          "data": {
            "image/png": "[encoded data removed]",
            "text/plain": [
              "<Figure size 720x432 with 1 Axes>"
            ]
          },
          "metadata": {
            "tags": [],
            "needs_background": "light"
          }
        }
      ]
    },
    {
      "cell_type": "code",
      "metadata": {
        "colab": {
          "base_uri": "https://localhost:8080/",
          "height": 483
        },
        "id": "6S8BMpuhD-Br",
        "outputId": "d2368287-8710-41f4-afbe-ef06fc81d1ab"
      },
      "source": [
        "# plot a bar graph to show the proportions of the types of tournaments \n",
        "\n",
        "# display the proportions of the types of tournaments in a frequency table\n",
        "print(matches.tournament.value_counts(normalize=True))\n",
        "\n",
        "# specify the size of the figure  \n",
        "fig, ax = plt.subplots(figsize=(10,6))\n",
        "\n",
        "# plot the bar graph\n",
        "(matches['tournament'].value_counts(normalize=True)).plot.bar()\n",
        "\n",
        "# labelling the bar chart \n",
        "plt.title('Proportion Distribution of the Types of Tournaments in the Dataset ', fontsize=20, y=1.015)\n",
        "# labelling the x axis \n",
        "plt.xlabel('Type of tournament', fontsize=16, labelpad=15)\n",
        "# rotate the labels on the x axis\n",
        "plt.xticks(rotation = 360)\n",
        "# labelling the y axis\n",
        "plt.ylabel('Proportion', fontsize=16, labelpad=15)\n",
        "#display bar chart\n",
        "plt.show()"
      ],
      "execution_count": 122,
      "outputs": [
        {
          "output_type": "stream",
          "text": [
            "Other       0.618867\n",
            "Friendly    0.381133\n",
            "Name: tournament, dtype: float64\n"
          ],
          "name": "stdout"
        },
        {
          "output_type": "display_data",
          "data": {
            "image/png": "[encoded data removed]",
            "text/plain": [
              "<Figure size 720x432 with 1 Axes>"
            ]
          },
          "metadata": {
            "tags": [],
            "needs_background": "light"
          }
        }
      ]
    },
    {
      "cell_type": "code",
      "metadata": {
        "colab": {
          "base_uri": "https://localhost:8080/"
        },
        "id": "hIwqdIHoO4WI",
        "outputId": "2c473e62-c400-4b1a-f95c-3be365c9890e"
      },
      "source": [
        "# find the highest home team rank\n",
        "print('The highest rank in home teams is ' +str(matches['home_team_rank'].min()))\n",
        "# find the lowest home team rank\n",
        "print('The lowest rank in home teams is ' +str(matches['home_team_rank'].max()))\n",
        "print('')\n",
        "# find the highest home team rank\n",
        "print('The highest rank in away teams is ' +str(matches['away_team_rank'].min()))\n",
        "# find the lowest away team rank\n",
        "print('The lowest rank in away teams is ' +str(matches['away_team_rank'].max()))"
      ],
      "execution_count": 123,
      "outputs": [
        {
          "output_type": "stream",
          "text": [
            "The highest rank in home teams is 1\n",
            "The lowest rank in home teams is 209\n",
            "\n",
            "The highest rank in away teams is 1\n",
            "The lowest rank in away teams is 209\n"
          ],
          "name": "stdout"
        }
      ]
    },
    {
      "cell_type": "markdown",
      "metadata": {
        "id": "jkc0tt6W78_N"
      },
      "source": [
        "## Implementing the Solution"
      ]
    },
    {
      "cell_type": "markdown",
      "metadata": {
        "id": "_OBrkMH771x-"
      },
      "source": [
        "### Polynomial regression"
      ]
    },
    {
      "cell_type": "markdown",
      "metadata": {
        "id": "m_GT7JhuJQOU"
      },
      "source": [
        "We will use polynomial regression to create a model that predicts the results of a home team and another model that predicts the results of an away team based on the home team's rank, away team's rank and the tournament's type.  \n",
        "\n",
        "These features are categorical in nature; therefore, it is unlikely that polynimial regression models will do well in accomplishing the objective of predicting the home teams' and away teams' scores, but we will use them as numerical data just to see how the model will fair   \n",
        "\n"
      ]
    },
    {
      "cell_type": "markdown",
      "metadata": {
        "id": "xxLqyfUX-o7v"
      },
      "source": [
        "#### Feature selection and engineering"
      ]
    },
    {
      "cell_type": "code",
      "metadata": {
        "id": "-_BuztG4ff-P"
      },
      "source": [
        "# make a copy of our dataset\n",
        "match_copy= matches.copy()"
      ],
      "execution_count": 124,
      "outputs": []
    },
    {
      "cell_type": "code",
      "metadata": {
        "id": "-C2OoDbXPkGc"
      },
      "source": [
        "# feature selection\n",
        "# drop the columns that are irrelevant to our regression model\n",
        "match_copy.drop(['date','home_team', 'away_team'], axis=1, inplace=True)"
      ],
      "execution_count": 125,
      "outputs": []
    },
    {
      "cell_type": "code",
      "metadata": {
        "id": "ixj56Ao6fYAH",
        "colab": {
          "base_uri": "https://localhost:8080/"
        },
        "outputId": "b4ffc245-fb87-4a0d-9169-1421f477e07b"
      },
      "source": [
        "# feature engineering\n",
        "# import label encoder for label encoding\n",
        "from sklearn.preprocessing import LabelEncoder \n",
        "lb=LabelEncoder()\n",
        "\n",
        "# encode the values in 'tournament' column so that they can be in 0's and 1's \n",
        "match_copy['tournament']=lb.fit_transform(match_copy['tournament'].astype(str))\n",
        "\n",
        "# check how the values have been transformed by comparing with the uncoded values in the original dataset\n",
        "print(matches.tournament.value_counts())\n",
        "print(match_copy.tournament.value_counts())"
      ],
      "execution_count": 126,
      "outputs": [
        {
          "output_type": "stream",
          "text": [
            "Other       10470\n",
            "Friendly     6448\n",
            "Name: tournament, dtype: int64\n",
            "1    10470\n",
            "0     6448\n",
            "Name: tournament, dtype: int64\n"
          ],
          "name": "stdout"
        }
      ]
    },
    {
      "cell_type": "markdown",
      "metadata": {
        "id": "-7jmrHx4OqXZ"
      },
      "source": [
        "Other has been encoded as 1 while Friendly has been encoded as 0 "
      ]
    },
    {
      "cell_type": "code",
      "metadata": {
        "colab": {
          "base_uri": "https://localhost:8080/",
          "height": 200
        },
        "id": "RRoJcNQpt32H",
        "outputId": "8205b403-2eba-4636-db29-185ed1b1ee4b"
      },
      "source": [
        "# preview the first entries of the dataframe with our features\n",
        "match_copy.head()"
      ],
      "execution_count": 127,
      "outputs": [
        {
          "output_type": "execute_result",
          "data": {
            "text/html": [
              "<div>\n",
              "<style scoped>\n",
              "    .dataframe tbody tr th:only-of-type {\n",
              "        vertical-align: middle;\n",
              "    }\n",
              "\n",
              "    .dataframe tbody tr th {\n",
              "        vertical-align: top;\n",
              "    }\n",
              "\n",
              "    .dataframe thead th {\n",
              "        text-align: right;\n",
              "    }\n",
              "</style>\n",
              "<table border=\"1\" class=\"dataframe\">\n",
              "  <thead>\n",
              "    <tr style=\"text-align: right;\">\n",
              "      <th></th>\n",
              "      <th>home_score</th>\n",
              "      <th>away_score</th>\n",
              "      <th>tournament</th>\n",
              "      <th>home_team_rank</th>\n",
              "      <th>away_team_rank</th>\n",
              "    </tr>\n",
              "  </thead>\n",
              "  <tbody>\n",
              "    <tr>\n",
              "      <th>0</th>\n",
              "      <td>0</td>\n",
              "      <td>0</td>\n",
              "      <td>1</td>\n",
              "      <td>19</td>\n",
              "      <td>67</td>\n",
              "    </tr>\n",
              "    <tr>\n",
              "      <th>1</th>\n",
              "      <td>0</td>\n",
              "      <td>0</td>\n",
              "      <td>1</td>\n",
              "      <td>5</td>\n",
              "      <td>67</td>\n",
              "    </tr>\n",
              "    <tr>\n",
              "      <th>2</th>\n",
              "      <td>2</td>\n",
              "      <td>1</td>\n",
              "      <td>1</td>\n",
              "      <td>19</td>\n",
              "      <td>5</td>\n",
              "    </tr>\n",
              "    <tr>\n",
              "      <th>3</th>\n",
              "      <td>0</td>\n",
              "      <td>1</td>\n",
              "      <td>1</td>\n",
              "      <td>70</td>\n",
              "      <td>5</td>\n",
              "    </tr>\n",
              "    <tr>\n",
              "      <th>4</th>\n",
              "      <td>1</td>\n",
              "      <td>3</td>\n",
              "      <td>1</td>\n",
              "      <td>67</td>\n",
              "      <td>5</td>\n",
              "    </tr>\n",
              "  </tbody>\n",
              "</table>\n",
              "</div>"
            ],
            "text/plain": [
              "   home_score  away_score  tournament  home_team_rank  away_team_rank\n",
              "0           0           0           1              19              67\n",
              "1           0           0           1               5              67\n",
              "2           2           1           1              19               5\n",
              "3           0           1           1              70               5\n",
              "4           1           3           1              67               5"
            ]
          },
          "metadata": {
            "tags": []
          },
          "execution_count": 127
        }
      ]
    },
    {
      "cell_type": "markdown",
      "metadata": {
        "id": "aEpbwAHeMWYI"
      },
      "source": [
        "#### Multicollinearity test"
      ]
    },
    {
      "cell_type": "code",
      "metadata": {
        "colab": {
          "base_uri": "https://localhost:8080/",
          "height": 139
        },
        "id": "6HTARpjrHcet",
        "outputId": "6d2d0389-8f4b-47bc-b5bd-597bf20a9f42"
      },
      "source": [
        "# lets put all the independent variables in one subset\n",
        "independent_variables = match_copy[['tournament', 'home_team_rank', 'away_team_rank']]\n",
        "\n",
        "# find the correlations between the variables\n",
        "correlations = independent_variables.corr()\n",
        "correlations"
      ],
      "execution_count": 128,
      "outputs": [
        {
          "output_type": "execute_result",
          "data": {
            "text/html": [
              "<div>\n",
              "<style scoped>\n",
              "    .dataframe tbody tr th:only-of-type {\n",
              "        vertical-align: middle;\n",
              "    }\n",
              "\n",
              "    .dataframe tbody tr th {\n",
              "        vertical-align: top;\n",
              "    }\n",
              "\n",
              "    .dataframe thead th {\n",
              "        text-align: right;\n",
              "    }\n",
              "</style>\n",
              "<table border=\"1\" class=\"dataframe\">\n",
              "  <thead>\n",
              "    <tr style=\"text-align: right;\">\n",
              "      <th></th>\n",
              "      <th>tournament</th>\n",
              "      <th>home_team_rank</th>\n",
              "      <th>away_team_rank</th>\n",
              "    </tr>\n",
              "  </thead>\n",
              "  <tbody>\n",
              "    <tr>\n",
              "      <th>tournament</th>\n",
              "      <td>1.000000</td>\n",
              "      <td>0.094349</td>\n",
              "      <td>0.094754</td>\n",
              "    </tr>\n",
              "    <tr>\n",
              "      <th>home_team_rank</th>\n",
              "      <td>0.094349</td>\n",
              "      <td>1.000000</td>\n",
              "      <td>0.469861</td>\n",
              "    </tr>\n",
              "    <tr>\n",
              "      <th>away_team_rank</th>\n",
              "      <td>0.094754</td>\n",
              "      <td>0.469861</td>\n",
              "      <td>1.000000</td>\n",
              "    </tr>\n",
              "  </tbody>\n",
              "</table>\n",
              "</div>"
            ],
            "text/plain": [
              "                tournament  home_team_rank  away_team_rank\n",
              "tournament        1.000000        0.094349        0.094754\n",
              "home_team_rank    0.094349        1.000000        0.469861\n",
              "away_team_rank    0.094754        0.469861        1.000000"
            ]
          },
          "metadata": {
            "tags": []
          },
          "execution_count": 128
        }
      ]
    },
    {
      "cell_type": "markdown",
      "metadata": {
        "id": "iGm6_qNOIYDV"
      },
      "source": [
        "According to the pearson correlation values, none of the variables is strongly correlated to another. We will use the correlations above to compute each variance inflation factors to check for multicollinearity.\n"
      ]
    },
    {
      "cell_type": "code",
      "metadata": {
        "colab": {
          "base_uri": "https://localhost:8080/",
          "height": 139
        },
        "id": "cHPJ1c6zI70_",
        "outputId": "b14b745b-3e8e-43f3-aaa1-5f531e51f655"
      },
      "source": [
        "# create a dataframe that shows the VIF scores of the variiables\n",
        "pd.DataFrame(np.linalg.inv(correlations.values), index = correlations.index, columns=correlations.columns)"
      ],
      "execution_count": 129,
      "outputs": [
        {
          "output_type": "execute_result",
          "data": {
            "text/html": [
              "<div>\n",
              "<style scoped>\n",
              "    .dataframe tbody tr th:only-of-type {\n",
              "        vertical-align: middle;\n",
              "    }\n",
              "\n",
              "    .dataframe tbody tr th {\n",
              "        vertical-align: top;\n",
              "    }\n",
              "\n",
              "    .dataframe thead th {\n",
              "        text-align: right;\n",
              "    }\n",
              "</style>\n",
              "<table border=\"1\" class=\"dataframe\">\n",
              "  <thead>\n",
              "    <tr style=\"text-align: right;\">\n",
              "      <th></th>\n",
              "      <th>tournament</th>\n",
              "      <th>home_team_rank</th>\n",
              "      <th>away_team_rank</th>\n",
              "    </tr>\n",
              "  </thead>\n",
              "  <tbody>\n",
              "    <tr>\n",
              "      <th>tournament</th>\n",
              "      <td>1.012314</td>\n",
              "      <td>-0.064732</td>\n",
              "      <td>-0.065505</td>\n",
              "    </tr>\n",
              "    <tr>\n",
              "      <th>home_team_rank</th>\n",
              "      <td>-0.064732</td>\n",
              "      <td>1.287457</td>\n",
              "      <td>-0.598793</td>\n",
              "    </tr>\n",
              "    <tr>\n",
              "      <th>away_team_rank</th>\n",
              "      <td>-0.065505</td>\n",
              "      <td>-0.598793</td>\n",
              "      <td>1.287557</td>\n",
              "    </tr>\n",
              "  </tbody>\n",
              "</table>\n",
              "</div>"
            ],
            "text/plain": [
              "                tournament  home_team_rank  away_team_rank\n",
              "tournament        1.012314       -0.064732       -0.065505\n",
              "home_team_rank   -0.064732        1.287457       -0.598793\n",
              "away_team_rank   -0.065505       -0.598793        1.287557"
            ]
          },
          "metadata": {
            "tags": []
          },
          "execution_count": 129
        }
      ]
    },
    {
      "cell_type": "markdown",
      "metadata": {
        "id": "tDk5j34-Kal_"
      },
      "source": [
        "The VIF scores show that all the variables are not correlated to each other."
      ]
    },
    {
      "cell_type": "markdown",
      "metadata": {
        "id": "FQOTL-0tLcU_"
      },
      "source": [
        "### Model 1  \n",
        "The first model will be for predicting the number of goals a home team scores based on the home team's rank, away team's rank and the tournament's type"
      ]
    },
    {
      "cell_type": "markdown",
      "metadata": {
        "id": "gX_X8S1xNPEl"
      },
      "source": [
        "#### Modelling"
      ]
    },
    {
      "cell_type": "code",
      "metadata": {
        "id": "etX5OphLNNpf"
      },
      "source": [
        "# Preparing the Data\n",
        "\n",
        "# divide the data into \"attributes\" and \"labels\" by assigning the attributes to variable X and the label to variable y \n",
        "W = match_copy[['home_team_rank', 'away_team_rank', 'tournament']]\n",
        "z = match_copy[\"home_score\"]"
      ],
      "execution_count": 130,
      "outputs": []
    },
    {
      "cell_type": "code",
      "metadata": {
        "colab": {
          "base_uri": "https://localhost:8080/"
        },
        "id": "7LGW8WBdNvVR",
        "outputId": "54e3b3a0-ed5f-4510-a999-b76c16b8d18e"
      },
      "source": [
        "# import polynomial and linear regression features\n",
        "from sklearn.preprocessing import PolynomialFeatures\n",
        "from sklearn.linear_model import LinearRegression\n",
        "\n",
        "# import pipline for creating a pipeline\n",
        "from sklearn.pipeline import Pipeline\n",
        "\n",
        "# instantiate the polynomial and linear regression models\n",
        "Input=[('polynomial',PolynomialFeatures(degree=2)),('modal',LinearRegression())]\n",
        "\n",
        "# create a pipline and fit it to our data\n",
        "pipe = Pipeline(Input)\n",
        "pipe.fit(W,z)"
      ],
      "execution_count": 131,
      "outputs": [
        {
          "output_type": "execute_result",
          "data": {
            "text/plain": [
              "Pipeline(memory=None,\n",
              "         steps=[('polynomial',\n",
              "                 PolynomialFeatures(degree=2, include_bias=True,\n",
              "                                    interaction_only=False, order='C')),\n",
              "                ('modal',\n",
              "                 LinearRegression(copy_X=True, fit_intercept=True, n_jobs=None,\n",
              "                                  normalize=False))],\n",
              "         verbose=False)"
            ]
          },
          "metadata": {
            "tags": []
          },
          "execution_count": 131
        }
      ]
    },
    {
      "cell_type": "code",
      "metadata": {
        "colab": {
          "base_uri": "https://localhost:8080/",
          "height": 411
        },
        "id": "Qm6QlxfWV1eE",
        "outputId": "38d41b34-355c-49c5-f242-6de051bc968d"
      },
      "source": [
        "# create an array of predicted values based on our attributes\n",
        "z_pred=pipe.predict(W)\n",
        "\n",
        "# create a dataframe that compares the actual values to the predicted values\n",
        "df1 = pd.DataFrame({'Actual': z, 'Predicted': z_pred})\n",
        "# display top 10 entries in the comparison dataframe\n",
        "df1"
      ],
      "execution_count": 132,
      "outputs": [
        {
          "output_type": "execute_result",
          "data": {
            "text/html": [
              "<div>\n",
              "<style scoped>\n",
              "    .dataframe tbody tr th:only-of-type {\n",
              "        vertical-align: middle;\n",
              "    }\n",
              "\n",
              "    .dataframe tbody tr th {\n",
              "        vertical-align: top;\n",
              "    }\n",
              "\n",
              "    .dataframe thead th {\n",
              "        text-align: right;\n",
              "    }\n",
              "</style>\n",
              "<table border=\"1\" class=\"dataframe\">\n",
              "  <thead>\n",
              "    <tr style=\"text-align: right;\">\n",
              "      <th></th>\n",
              "      <th>Actual</th>\n",
              "      <th>Predicted</th>\n",
              "    </tr>\n",
              "  </thead>\n",
              "  <tbody>\n",
              "    <tr>\n",
              "      <th>0</th>\n",
              "      <td>0</td>\n",
              "      <td>2.012797</td>\n",
              "    </tr>\n",
              "    <tr>\n",
              "      <th>1</th>\n",
              "      <td>0</td>\n",
              "      <td>2.214534</td>\n",
              "    </tr>\n",
              "    <tr>\n",
              "      <th>2</th>\n",
              "      <td>2</td>\n",
              "      <td>1.278425</td>\n",
              "    </tr>\n",
              "    <tr>\n",
              "      <th>3</th>\n",
              "      <td>0</td>\n",
              "      <td>0.799616</td>\n",
              "    </tr>\n",
              "    <tr>\n",
              "      <th>4</th>\n",
              "      <td>1</td>\n",
              "      <td>0.824855</td>\n",
              "    </tr>\n",
              "    <tr>\n",
              "      <th>...</th>\n",
              "      <td>...</td>\n",
              "      <td>...</td>\n",
              "    </tr>\n",
              "    <tr>\n",
              "      <th>16913</th>\n",
              "      <td>1</td>\n",
              "      <td>1.308982</td>\n",
              "    </tr>\n",
              "    <tr>\n",
              "      <th>16914</th>\n",
              "      <td>4</td>\n",
              "      <td>1.137244</td>\n",
              "    </tr>\n",
              "    <tr>\n",
              "      <th>16915</th>\n",
              "      <td>0</td>\n",
              "      <td>0.890305</td>\n",
              "    </tr>\n",
              "    <tr>\n",
              "      <th>16916</th>\n",
              "      <td>1</td>\n",
              "      <td>1.582816</td>\n",
              "    </tr>\n",
              "    <tr>\n",
              "      <th>16917</th>\n",
              "      <td>2</td>\n",
              "      <td>1.104026</td>\n",
              "    </tr>\n",
              "  </tbody>\n",
              "</table>\n",
              "<p>16918 rows × 2 columns</p>\n",
              "</div>"
            ],
            "text/plain": [
              "       Actual  Predicted\n",
              "0           0   2.012797\n",
              "1           0   2.214534\n",
              "2           2   1.278425\n",
              "3           0   0.799616\n",
              "4           1   0.824855\n",
              "...       ...        ...\n",
              "16913       1   1.308982\n",
              "16914       4   1.137244\n",
              "16915       0   0.890305\n",
              "16916       1   1.582816\n",
              "16917       2   1.104026\n",
              "\n",
              "[16918 rows x 2 columns]"
            ]
          },
          "metadata": {
            "tags": []
          },
          "execution_count": 132
        }
      ]
    },
    {
      "cell_type": "code",
      "metadata": {
        "colab": {
          "base_uri": "https://localhost:8080/"
        },
        "id": "cDKB6J7FYjN6",
        "outputId": "840e8f82-5b65-40c0-b530-b161269bc053"
      },
      "source": [
        "# evaluate the algorithm using square root of the mean of the squared errors\n",
        "\n",
        "# import metrics\n",
        "from sklearn import metrics\n",
        "\n",
        "# compute and print the mean of the absolute value of the errors, mean of the squared errors, andsquare root of the mean of the squared errors\n",
        "print('Mean Absolute Error:', metrics.mean_absolute_error(z, z_pred))\n",
        "print('Mean Squared Error:', metrics.mean_squared_error(z, z_pred))\n",
        "print('Root Mean Squared Error:', np.sqrt(metrics.mean_squared_error(z, z_pred)))"
      ],
      "execution_count": 133,
      "outputs": [
        {
          "output_type": "stream",
          "text": [
            "Mean Absolute Error: 1.0378782266949118\n",
            "Mean Squared Error: 2.010820380721667\n",
            "Root Mean Squared Error: 1.4180339843324161\n"
          ],
          "name": "stdout"
        }
      ]
    },
    {
      "cell_type": "markdown",
      "metadata": {
        "id": "bB5J1stUa0Ww"
      },
      "source": [
        "The RMSE of a good model should be less than 10% of the mean of the target values. The mean of home scores is approximately 1.60, meaning that our model with a RMSE of approximately 1.42 (88.75% of the mean of home scores) is not good at predicting the number of goals scored by a home team based on the home team's rank, away team's rank and tournament's type  "
      ]
    },
    {
      "cell_type": "markdown",
      "metadata": {
        "id": "gVMpJoPAljjE"
      },
      "source": [
        "#### Degree change\n",
        "Check to see if a change in polynomial degrees will improve the model"
      ]
    },
    {
      "cell_type": "code",
      "metadata": {
        "colab": {
          "base_uri": "https://localhost:8080/"
        },
        "id": "2yrY2NILm4AM",
        "outputId": "a08f9c97-9f87-417f-d007-3a731ecb0108"
      },
      "source": [
        "# instantiate the polynomial and linear regression models with polynomial degrees set as 6\n",
        "Input=[('polynomial',PolynomialFeatures(degree=6)),('modal',LinearRegression())]\n",
        "\n",
        "# create a pipline and fit it to our data\n",
        "pipe = Pipeline(Input)\n",
        "pipe.fit(W,z)"
      ],
      "execution_count": 134,
      "outputs": [
        {
          "output_type": "execute_result",
          "data": {
            "text/plain": [
              "Pipeline(memory=None,\n",
              "         steps=[('polynomial',\n",
              "                 PolynomialFeatures(degree=6, include_bias=True,\n",
              "                                    interaction_only=False, order='C')),\n",
              "                ('modal',\n",
              "                 LinearRegression(copy_X=True, fit_intercept=True, n_jobs=None,\n",
              "                                  normalize=False))],\n",
              "         verbose=False)"
            ]
          },
          "metadata": {
            "tags": []
          },
          "execution_count": 134
        }
      ]
    },
    {
      "cell_type": "code",
      "metadata": {
        "colab": {
          "base_uri": "https://localhost:8080/",
          "height": 411
        },
        "id": "nRxkWd33m4AQ",
        "outputId": "cb675b1d-18a2-4dd0-be69-2df4d60584d9"
      },
      "source": [
        "# create an array of predicted values based on our attributes\n",
        "z_pred=pipe.predict(W)\n",
        "\n",
        "# create a dataframe that compares the actual values to the predicted values\n",
        "df1 = pd.DataFrame({'Actual': z, 'Predicted': z_pred})\n",
        "# display top 10 entries in the comparison dataframe\n",
        "df1"
      ],
      "execution_count": 135,
      "outputs": [
        {
          "output_type": "execute_result",
          "data": {
            "text/html": [
              "<div>\n",
              "<style scoped>\n",
              "    .dataframe tbody tr th:only-of-type {\n",
              "        vertical-align: middle;\n",
              "    }\n",
              "\n",
              "    .dataframe tbody tr th {\n",
              "        vertical-align: top;\n",
              "    }\n",
              "\n",
              "    .dataframe thead th {\n",
              "        text-align: right;\n",
              "    }\n",
              "</style>\n",
              "<table border=\"1\" class=\"dataframe\">\n",
              "  <thead>\n",
              "    <tr style=\"text-align: right;\">\n",
              "      <th></th>\n",
              "      <th>Actual</th>\n",
              "      <th>Predicted</th>\n",
              "    </tr>\n",
              "  </thead>\n",
              "  <tbody>\n",
              "    <tr>\n",
              "      <th>0</th>\n",
              "      <td>0</td>\n",
              "      <td>2.014154</td>\n",
              "    </tr>\n",
              "    <tr>\n",
              "      <th>1</th>\n",
              "      <td>0</td>\n",
              "      <td>2.523979</td>\n",
              "    </tr>\n",
              "    <tr>\n",
              "      <th>2</th>\n",
              "      <td>2</td>\n",
              "      <td>1.010600</td>\n",
              "    </tr>\n",
              "    <tr>\n",
              "      <th>3</th>\n",
              "      <td>0</td>\n",
              "      <td>0.679455</td>\n",
              "    </tr>\n",
              "    <tr>\n",
              "      <th>4</th>\n",
              "      <td>1</td>\n",
              "      <td>0.699522</td>\n",
              "    </tr>\n",
              "    <tr>\n",
              "      <th>...</th>\n",
              "      <td>...</td>\n",
              "      <td>...</td>\n",
              "    </tr>\n",
              "    <tr>\n",
              "      <th>16913</th>\n",
              "      <td>1</td>\n",
              "      <td>1.121747</td>\n",
              "    </tr>\n",
              "    <tr>\n",
              "      <th>16914</th>\n",
              "      <td>4</td>\n",
              "      <td>1.187459</td>\n",
              "    </tr>\n",
              "    <tr>\n",
              "      <th>16915</th>\n",
              "      <td>0</td>\n",
              "      <td>0.789888</td>\n",
              "    </tr>\n",
              "    <tr>\n",
              "      <th>16916</th>\n",
              "      <td>1</td>\n",
              "      <td>1.802564</td>\n",
              "    </tr>\n",
              "    <tr>\n",
              "      <th>16917</th>\n",
              "      <td>2</td>\n",
              "      <td>1.098053</td>\n",
              "    </tr>\n",
              "  </tbody>\n",
              "</table>\n",
              "<p>16918 rows × 2 columns</p>\n",
              "</div>"
            ],
            "text/plain": [
              "       Actual  Predicted\n",
              "0           0   2.014154\n",
              "1           0   2.523979\n",
              "2           2   1.010600\n",
              "3           0   0.679455\n",
              "4           1   0.699522\n",
              "...       ...        ...\n",
              "16913       1   1.121747\n",
              "16914       4   1.187459\n",
              "16915       0   0.789888\n",
              "16916       1   1.802564\n",
              "16917       2   1.098053\n",
              "\n",
              "[16918 rows x 2 columns]"
            ]
          },
          "metadata": {
            "tags": []
          },
          "execution_count": 135
        }
      ]
    },
    {
      "cell_type": "code",
      "metadata": {
        "colab": {
          "base_uri": "https://localhost:8080/"
        },
        "id": "4Lx67sXjm4AQ",
        "outputId": "bac096c6-572b-4f6f-ef0f-f71fb5382bdd"
      },
      "source": [
        "# evaluate the algorithm using square root of the mean of the squared errors\n",
        "\n",
        "# import metrics\n",
        "from sklearn import metrics\n",
        "\n",
        "# compute and print the mean of the absolute value of the errors, mean of the squared errors, andsquare root of the mean of the squared errors\n",
        "print('Mean Absolute Error:', metrics.mean_absolute_error(z, z_pred))\n",
        "print('Mean Squared Error:', metrics.mean_squared_error(z, z_pred))\n",
        "print('Root Mean Squared Error:', np.sqrt(metrics.mean_squared_error(z, z_pred)))"
      ],
      "execution_count": 136,
      "outputs": [
        {
          "output_type": "stream",
          "text": [
            "Mean Absolute Error: 1.0283680408061553\n",
            "Mean Squared Error: 1.9663737815649285\n",
            "Root Mean Squared Error: 1.402274502929055\n"
          ],
          "name": "stdout"
        }
      ]
    },
    {
      "cell_type": "markdown",
      "metadata": {
        "id": "aEEXx2EXnNu8"
      },
      "source": [
        "The the RMSE has reduced by 0.02 point but it is still too high to consider the model as good."
      ]
    },
    {
      "cell_type": "markdown",
      "metadata": {
        "id": "5e7SLvPJtCHy"
      },
      "source": [
        "#### Residual plots\n"
      ]
    },
    {
      "cell_type": "code",
      "metadata": {
        "colab": {
          "base_uri": "https://localhost:8080/"
        },
        "id": "3oWwN4-7tBOu",
        "outputId": "4e14186e-358b-492d-c791-67262ed022f3"
      },
      "source": [
        "#Step 1\n",
        "# create the residual by subtracting the test value from the predicted value\n",
        "residuals = np.subtract(z_pred, z)\n",
        "\n",
        "#Step 2\n",
        "# statistical description\n",
        "residual = pd.DataFrame(residuals).describe()\n",
        "\n",
        "#Step 3\n",
        "# compute the mean of the residuals \n",
        "residuals.mean()"
      ],
      "execution_count": 137,
      "outputs": [
        {
          "output_type": "execute_result",
          "data": {
            "text/plain": [
              "1.0898499793192377e-12"
            ]
          },
          "metadata": {
            "tags": []
          },
          "execution_count": 137
        }
      ]
    },
    {
      "cell_type": "code",
      "metadata": {
        "colab": {
          "base_uri": "https://localhost:8080/",
          "height": 289
        },
        "id": "oPfHGEk5t1yB",
        "outputId": "ad30fbc0-86cb-426e-be05-f2e7c7793bdc"
      },
      "source": [
        "#Step 4\n",
        "#  We create residual scatter plot of actual vs predicted values\n",
        "plt.scatter(z_pred, residuals, color = 'black')\n",
        "plt.ylabel('Residuals', fontsize = 19)\n",
        "plt.xlabel('Home_ score Predicted', fontsize = 19)\n",
        "plt.axhline(y = residuals.mean(), color = 'r', linewidth = 1)\n",
        "plt.show()"
      ],
      "execution_count": 138,
      "outputs": [
        {
          "output_type": "display_data",
          "data": {
            "image/png": "[encoded data removed]",
            "text/plain": [
              "<Figure size 432x288 with 1 Axes>"
            ]
          },
          "metadata": {
            "tags": [],
            "needs_background": "light"
          }
        }
      ]
    },
    {
      "cell_type": "markdown",
      "metadata": {
        "id": "XLhGQVlMuSGj"
      },
      "source": [
        "Even though there are many residuals around the mean most of rhe residuals are not are round the mean"
      ]
    },
    {
      "cell_type": "markdown",
      "metadata": {
        "id": "7ImbnTpLtbjU"
      },
      "source": [
        "#### Heteroskedasticity testing"
      ]
    },
    {
      "cell_type": "markdown",
      "metadata": {
        "id": "wdBKsqtCtln4"
      },
      "source": [
        "We will perform heteroskedasticity testing using bartlett's test. The test tests the null hypothesis that the variance is equal for all our datapoints,and the new hypothesis that the variance is different for at least one pair of datapoints."
      ]
    },
    {
      "cell_type": "code",
      "metadata": {
        "colab": {
          "base_uri": "https://localhost:8080/"
        },
        "id": "PhE3dmM3tbBy",
        "outputId": "f7e46c1b-5670-4cf7-c83f-a6539cec9ea2"
      },
      "source": [
        "import scipy as sp\n",
        "# compute the test result and p-value of the test\n",
        "test_result, p_value = sp.stats.bartlett(z_pred, residuals)\n",
        "\n",
        "# compute the critical value of the chi squared distribution\n",
        "degree_of_freedom = len(z_pred)-1\n",
        "probability = 1 - p_value\n",
        "critical_value = sp.stats.chi2.ppf(probability, degree_of_freedom)\n",
        "\n",
        "# If the test_result is greater than the critical value, reject the null hypothesis. \n",
        "# This means there are patterns to the variance of the data\n",
        "\n",
        "# Otherwise, identify no patterns, and  accept the null hypothesis \n",
        "# The variance is homogeneous across our data\n",
        "\n",
        "if(test_result > critical_value):\n",
        "    print(\"the variances are unequal, and the model should be reassessed\")\n",
        "else:\n",
        "    print(\"The variances are homogeneous!\")\n",
        "    import scipy as sp\n",
        "\n"
      ],
      "execution_count": 139,
      "outputs": [
        {
          "output_type": "stream",
          "text": [
            "The variances are homogeneous!\n"
          ],
          "name": "stdout"
        }
      ]
    },
    {
      "cell_type": "markdown",
      "metadata": {
        "id": "95jxe8RIL913"
      },
      "source": [
        "### Model 2\n",
        "The second model will be for predicting the number of goals an away team scores based on the home team's rank, away team's rank and the tournament's type"
      ]
    },
    {
      "cell_type": "markdown",
      "metadata": {
        "id": "B3J-g5ZxwTwD"
      },
      "source": [
        "#### Modelling"
      ]
    },
    {
      "cell_type": "code",
      "metadata": {
        "id": "bZwEO9wbbHUf"
      },
      "source": [
        "# Preparing the Data\n",
        "\n",
        "# divide the data into \"attributes\" and \"labels\" by assigning the attributes to variable X and the label to variable y \n",
        "S = match_copy[['home_team_rank', 'away_team_rank', 'tournament']]\n",
        "t = match_copy[\"away_score\"]"
      ],
      "execution_count": 140,
      "outputs": []
    },
    {
      "cell_type": "code",
      "metadata": {
        "colab": {
          "base_uri": "https://localhost:8080/"
        },
        "id": "U_pKvcGBbHUm",
        "outputId": "62d06b0c-0164-4e95-8327-bd749752624d"
      },
      "source": [
        "# instantiate the polynomial and linear regression models\n",
        "Input=[('polynomial',PolynomialFeatures(degree=2)),('modal',LinearRegression())]\n",
        "\n",
        "# create a pipline and fit it to our data\n",
        "pipe = Pipeline(Input)\n",
        "pipe.fit(S,t)"
      ],
      "execution_count": 141,
      "outputs": [
        {
          "output_type": "execute_result",
          "data": {
            "text/plain": [
              "Pipeline(memory=None,\n",
              "         steps=[('polynomial',\n",
              "                 PolynomialFeatures(degree=2, include_bias=True,\n",
              "                                    interaction_only=False, order='C')),\n",
              "                ('modal',\n",
              "                 LinearRegression(copy_X=True, fit_intercept=True, n_jobs=None,\n",
              "                                  normalize=False))],\n",
              "         verbose=False)"
            ]
          },
          "metadata": {
            "tags": []
          },
          "execution_count": 141
        }
      ]
    },
    {
      "cell_type": "code",
      "metadata": {
        "colab": {
          "base_uri": "https://localhost:8080/",
          "height": 411
        },
        "id": "XBYJTZZbbHUm",
        "outputId": "d6a4060d-94f1-4290-f4a1-c87cbdafd155"
      },
      "source": [
        "# create an array of predicted values based on our attributes\n",
        "t_pred=pipe.predict(S)\n",
        "\n",
        "# create a dataframe that compares the actual values to the predicted values\n",
        "df1 = pd.DataFrame({'Actual': t, 'Predicted': t_pred})\n",
        "# display top 10 entries in the comparison dataframe\n",
        "df1"
      ],
      "execution_count": 142,
      "outputs": [
        {
          "output_type": "execute_result",
          "data": {
            "text/html": [
              "<div>\n",
              "<style scoped>\n",
              "    .dataframe tbody tr th:only-of-type {\n",
              "        vertical-align: middle;\n",
              "    }\n",
              "\n",
              "    .dataframe tbody tr th {\n",
              "        vertical-align: top;\n",
              "    }\n",
              "\n",
              "    .dataframe thead th {\n",
              "        text-align: right;\n",
              "    }\n",
              "</style>\n",
              "<table border=\"1\" class=\"dataframe\">\n",
              "  <thead>\n",
              "    <tr style=\"text-align: right;\">\n",
              "      <th></th>\n",
              "      <th>Actual</th>\n",
              "      <th>Predicted</th>\n",
              "    </tr>\n",
              "  </thead>\n",
              "  <tbody>\n",
              "    <tr>\n",
              "      <th>0</th>\n",
              "      <td>0</td>\n",
              "      <td>0.611150</td>\n",
              "    </tr>\n",
              "    <tr>\n",
              "      <th>1</th>\n",
              "      <td>0</td>\n",
              "      <td>0.559196</td>\n",
              "    </tr>\n",
              "    <tr>\n",
              "      <th>2</th>\n",
              "      <td>1</td>\n",
              "      <td>1.226242</td>\n",
              "    </tr>\n",
              "    <tr>\n",
              "      <th>3</th>\n",
              "      <td>1</td>\n",
              "      <td>1.725037</td>\n",
              "    </tr>\n",
              "    <tr>\n",
              "      <th>4</th>\n",
              "      <td>3</td>\n",
              "      <td>1.688279</td>\n",
              "    </tr>\n",
              "    <tr>\n",
              "      <th>...</th>\n",
              "      <td>...</td>\n",
              "      <td>...</td>\n",
              "    </tr>\n",
              "    <tr>\n",
              "      <th>16913</th>\n",
              "      <td>2</td>\n",
              "      <td>1.157925</td>\n",
              "    </tr>\n",
              "    <tr>\n",
              "      <th>16914</th>\n",
              "      <td>2</td>\n",
              "      <td>1.188699</td>\n",
              "    </tr>\n",
              "    <tr>\n",
              "      <th>16915</th>\n",
              "      <td>1</td>\n",
              "      <td>1.576381</td>\n",
              "    </tr>\n",
              "    <tr>\n",
              "      <th>16916</th>\n",
              "      <td>1</td>\n",
              "      <td>0.952612</td>\n",
              "    </tr>\n",
              "    <tr>\n",
              "      <th>16917</th>\n",
              "      <td>0</td>\n",
              "      <td>1.261343</td>\n",
              "    </tr>\n",
              "  </tbody>\n",
              "</table>\n",
              "<p>16918 rows × 2 columns</p>\n",
              "</div>"
            ],
            "text/plain": [
              "       Actual  Predicted\n",
              "0           0   0.611150\n",
              "1           0   0.559196\n",
              "2           1   1.226242\n",
              "3           1   1.725037\n",
              "4           3   1.688279\n",
              "...       ...        ...\n",
              "16913       2   1.157925\n",
              "16914       2   1.188699\n",
              "16915       1   1.576381\n",
              "16916       1   0.952612\n",
              "16917       0   1.261343\n",
              "\n",
              "[16918 rows x 2 columns]"
            ]
          },
          "metadata": {
            "tags": []
          },
          "execution_count": 142
        }
      ]
    },
    {
      "cell_type": "code",
      "metadata": {
        "colab": {
          "base_uri": "https://localhost:8080/"
        },
        "id": "_q4HJMtNbHUm",
        "outputId": "068c9120-fff5-456b-d53e-13d8c1b4f78f"
      },
      "source": [
        "# evaluate the algorithm using square root of the mean of the squared errors\n",
        "\n",
        "# import metrics\n",
        "from sklearn import metrics\n",
        "\n",
        "# compute and print the mean of the absolute value of the errors, mean of the squared errors, andsquare root of the mean of the squared errors\n",
        "print('Mean Absolute Error:', metrics.mean_absolute_error(t, t_pred))\n",
        "print('Mean Squared Error:', metrics.mean_squared_error(t, t_pred))\n",
        "print('Root Mean Squared Error:', np.sqrt(metrics.mean_squared_error(t, t_pred)))"
      ],
      "execution_count": 143,
      "outputs": [
        {
          "output_type": "stream",
          "text": [
            "Mean Absolute Error: 0.8466009470167728\n",
            "Mean Squared Error: 1.2825305121729453\n",
            "Root Mean Squared Error: 1.1324886366639382\n"
          ],
          "name": "stdout"
        }
      ]
    },
    {
      "cell_type": "markdown",
      "metadata": {
        "id": "c58UH8VjbxKZ"
      },
      "source": [
        "The RMSE of a good model should be less than 10% of the mean of the target values. The mean of away scores is approximately 1.07, meaning that our model with a RMSE of approximately 1.13 (105.61% of the mean of home scores) is not good at predicting the number of goals scored by an away team based on the home team's rank, away team's rank and tournament's type "
      ]
    },
    {
      "cell_type": "markdown",
      "metadata": {
        "id": "d81drKniwYV8"
      },
      "source": [
        "#### Degree change"
      ]
    },
    {
      "cell_type": "code",
      "metadata": {
        "colab": {
          "base_uri": "https://localhost:8080/"
        },
        "id": "5745hDlxnp2T",
        "outputId": "cc9b8137-775a-49f5-d7fe-106d68cab5cc"
      },
      "source": [
        "# instantiate the polynomial and linear regression models with polynomial degrees set as 6\n",
        "Input=[('polynomial',PolynomialFeatures(degree=6)),('modal',LinearRegression())]\n",
        "\n",
        "# create a pipline and fit it to our data\n",
        "pipe = Pipeline(Input)\n",
        "pipe.fit(S,t)"
      ],
      "execution_count": 144,
      "outputs": [
        {
          "output_type": "execute_result",
          "data": {
            "text/plain": [
              "Pipeline(memory=None,\n",
              "         steps=[('polynomial',\n",
              "                 PolynomialFeatures(degree=6, include_bias=True,\n",
              "                                    interaction_only=False, order='C')),\n",
              "                ('modal',\n",
              "                 LinearRegression(copy_X=True, fit_intercept=True, n_jobs=None,\n",
              "                                  normalize=False))],\n",
              "         verbose=False)"
            ]
          },
          "metadata": {
            "tags": []
          },
          "execution_count": 144
        }
      ]
    },
    {
      "cell_type": "code",
      "metadata": {
        "colab": {
          "base_uri": "https://localhost:8080/",
          "height": 411
        },
        "id": "m2lD1do7np2d",
        "outputId": "15ab012f-86cd-43d8-ab9e-6bb45aa926ea"
      },
      "source": [
        "# create an array of predicted values based on our attributes\n",
        "t_pred=pipe.predict(S)\n",
        "\n",
        "# create a dataframe that compares the actual values to the predicted values\n",
        "df1 = pd.DataFrame({'Actual': t, 'Predicted': t_pred})\n",
        "# display top 10 entries in the comparison dataframe\n",
        "df1"
      ],
      "execution_count": 145,
      "outputs": [
        {
          "output_type": "execute_result",
          "data": {
            "text/html": [
              "<div>\n",
              "<style scoped>\n",
              "    .dataframe tbody tr th:only-of-type {\n",
              "        vertical-align: middle;\n",
              "    }\n",
              "\n",
              "    .dataframe tbody tr th {\n",
              "        vertical-align: top;\n",
              "    }\n",
              "\n",
              "    .dataframe thead th {\n",
              "        text-align: right;\n",
              "    }\n",
              "</style>\n",
              "<table border=\"1\" class=\"dataframe\">\n",
              "  <thead>\n",
              "    <tr style=\"text-align: right;\">\n",
              "      <th></th>\n",
              "      <th>Actual</th>\n",
              "      <th>Predicted</th>\n",
              "    </tr>\n",
              "  </thead>\n",
              "  <tbody>\n",
              "    <tr>\n",
              "      <th>0</th>\n",
              "      <td>0</td>\n",
              "      <td>0.618898</td>\n",
              "    </tr>\n",
              "    <tr>\n",
              "      <th>1</th>\n",
              "      <td>0</td>\n",
              "      <td>0.562146</td>\n",
              "    </tr>\n",
              "    <tr>\n",
              "      <th>2</th>\n",
              "      <td>1</td>\n",
              "      <td>1.347769</td>\n",
              "    </tr>\n",
              "    <tr>\n",
              "      <th>3</th>\n",
              "      <td>1</td>\n",
              "      <td>1.937581</td>\n",
              "    </tr>\n",
              "    <tr>\n",
              "      <th>4</th>\n",
              "      <td>3</td>\n",
              "      <td>1.921535</td>\n",
              "    </tr>\n",
              "    <tr>\n",
              "      <th>...</th>\n",
              "      <td>...</td>\n",
              "      <td>...</td>\n",
              "    </tr>\n",
              "    <tr>\n",
              "      <th>16913</th>\n",
              "      <td>2</td>\n",
              "      <td>1.157893</td>\n",
              "    </tr>\n",
              "    <tr>\n",
              "      <th>16914</th>\n",
              "      <td>2</td>\n",
              "      <td>1.180635</td>\n",
              "    </tr>\n",
              "    <tr>\n",
              "      <th>16915</th>\n",
              "      <td>1</td>\n",
              "      <td>1.757194</td>\n",
              "    </tr>\n",
              "    <tr>\n",
              "      <th>16916</th>\n",
              "      <td>1</td>\n",
              "      <td>0.793061</td>\n",
              "    </tr>\n",
              "    <tr>\n",
              "      <th>16917</th>\n",
              "      <td>0</td>\n",
              "      <td>1.286144</td>\n",
              "    </tr>\n",
              "  </tbody>\n",
              "</table>\n",
              "<p>16918 rows × 2 columns</p>\n",
              "</div>"
            ],
            "text/plain": [
              "       Actual  Predicted\n",
              "0           0   0.618898\n",
              "1           0   0.562146\n",
              "2           1   1.347769\n",
              "3           1   1.937581\n",
              "4           3   1.921535\n",
              "...       ...        ...\n",
              "16913       2   1.157893\n",
              "16914       2   1.180635\n",
              "16915       1   1.757194\n",
              "16916       1   0.793061\n",
              "16917       0   1.286144\n",
              "\n",
              "[16918 rows x 2 columns]"
            ]
          },
          "metadata": {
            "tags": []
          },
          "execution_count": 145
        }
      ]
    },
    {
      "cell_type": "code",
      "metadata": {
        "colab": {
          "base_uri": "https://localhost:8080/"
        },
        "id": "m3mldclbnp2d",
        "outputId": "65b7aa28-aa46-451c-ae6f-c573e8b3f1c4"
      },
      "source": [
        "# evaluate the algorithm using square root of the mean of the squared errors\n",
        "\n",
        "# import metrics\n",
        "from sklearn import metrics\n",
        "\n",
        "# compute and print the mean of the absolute value of the errors, mean of the squared errors, andsquare root of the mean of the squared errors\n",
        "print('Mean Absolute Error:', metrics.mean_absolute_error(t, t_pred))\n",
        "print('Mean Squared Error:', metrics.mean_squared_error(t, t_pred))\n",
        "print('Root Mean Squared Error:', np.sqrt(metrics.mean_squared_error(t, t_pred)))"
      ],
      "execution_count": 146,
      "outputs": [
        {
          "output_type": "stream",
          "text": [
            "Mean Absolute Error: 0.837630854847213\n",
            "Mean Squared Error: 1.2470719798997016\n",
            "Root Mean Squared Error: 1.1167237706343058\n"
          ],
          "name": "stdout"
        }
      ]
    },
    {
      "cell_type": "markdown",
      "metadata": {
        "id": "lcwDwM-ToWCi"
      },
      "source": [
        "The RMSE has reduced by approximately 0.02 points but it is still very high for us to consider the model as good"
      ]
    },
    {
      "cell_type": "markdown",
      "metadata": {
        "id": "1SL73Yb4xP1U"
      },
      "source": [
        "#### Residual plots\n"
      ]
    },
    {
      "cell_type": "code",
      "metadata": {
        "colab": {
          "base_uri": "https://localhost:8080/"
        },
        "id": "S2OT6fYYxP1e",
        "outputId": "a314fbbe-cdfb-43bf-ba00-76cad3eb7f7c"
      },
      "source": [
        "#Step 1\n",
        "# create the residual by subtracting the test value from the predicted value\n",
        "residuals = np.subtract(t_pred, t)\n",
        "\n",
        "#Step 2\n",
        "# statistical description\n",
        "residual = pd.DataFrame(residuals).describe()\n",
        "\n",
        "#Step 3\n",
        "# compute the mean of the residuals \n",
        "residuals.mean()"
      ],
      "execution_count": 147,
      "outputs": [
        {
          "output_type": "execute_result",
          "data": {
            "text/plain": [
              "8.696876873806429e-13"
            ]
          },
          "metadata": {
            "tags": []
          },
          "execution_count": 147
        }
      ]
    },
    {
      "cell_type": "code",
      "metadata": {
        "colab": {
          "base_uri": "https://localhost:8080/",
          "height": 289
        },
        "id": "fOxKRVO9xP1f",
        "outputId": "4c1fee1f-1182-4688-b4b2-5a9180f9fa2b"
      },
      "source": [
        "#Step 4\n",
        "#  We create residual scatter plot of actual vs predicted values\n",
        "plt.scatter(t_pred, residuals, color = 'black')\n",
        "plt.ylabel('Residuals', fontsize = 19)\n",
        "plt.xlabel('Home_ score Predicted', fontsize = 19)\n",
        "plt.axhline(y = residuals.mean(), color = 'r', linewidth = 1)\n",
        "plt.show()"
      ],
      "execution_count": 148,
      "outputs": [
        {
          "output_type": "display_data",
          "data": {
            "image/png": "[encoded data removed]",
            "text/plain": [
              "<Figure size 432x288 with 1 Axes>"
            ]
          },
          "metadata": {
            "tags": [],
            "needs_background": "light"
          }
        }
      ]
    },
    {
      "cell_type": "markdown",
      "metadata": {
        "id": "z_UsOwfixP1f"
      },
      "source": [
        "Even though there are many residuals around the mean most of rhe residuals are not are round the mean"
      ]
    },
    {
      "cell_type": "markdown",
      "metadata": {
        "id": "aOPTWbrexP1g"
      },
      "source": [
        "#### Heteroskedasticity testing"
      ]
    },
    {
      "cell_type": "markdown",
      "metadata": {
        "id": "efWv9NkqxP1g"
      },
      "source": [
        "We will perform heteroskedasticity testing using bartlett's test. The test tests the null hypothesis that the variance is equal for all our datapoints,and the new hypothesis that the variance is different for at least one pair of datapoints."
      ]
    },
    {
      "cell_type": "code",
      "metadata": {
        "colab": {
          "base_uri": "https://localhost:8080/"
        },
        "id": "S8ChuMESxP1g",
        "outputId": "bf429f99-b3ac-4314-bda0-c1660a647a19"
      },
      "source": [
        "import scipy as sp\n",
        "# compute the test result and p-value of the test\n",
        "test_result, p_value = sp.stats.bartlett(t_pred, residuals)\n",
        "\n",
        "# compute the critical value of the chi squared distribution\n",
        "degree_of_freedom = len(t_pred)-1\n",
        "probability = 1 - p_value\n",
        "critical_value = sp.stats.chi2.ppf(probability, degree_of_freedom)\n",
        "\n",
        "# If the test_result is greater than the critical value, reject the null hypothesis. \n",
        "# This means there are patterns to the variance of the data\n",
        "\n",
        "# Otherwise, identify no patterns, and  accept the null hypothesis \n",
        "# The variance is homogeneous across our data\n",
        "\n",
        "if(test_result > critical_value):\n",
        "    print(\"the variances are unequal, and the model should be reassessed\")\n",
        "else:\n",
        "    print(\"The variances are homogeneous!\")\n",
        "    import scipy as sp\n",
        "\n"
      ],
      "execution_count": 149,
      "outputs": [
        {
          "output_type": "stream",
          "text": [
            "The variances are homogeneous!\n"
          ],
          "name": "stdout"
        }
      ]
    },
    {
      "cell_type": "markdown",
      "metadata": {
        "id": "vyxhF_gVb3N0"
      },
      "source": [
        "### **Conclusions**\n",
        "The nature of the kind of data that we have is not appropriate for building polynomial regression models. The RMSE of 1.42 in our first model and of 1.13 in our second model show that our models are very poor at predicting the scores of the home teams and the away teams. The RMSE values reduced slightly after increasing the polynomial degrees in each model but they were still very high for us to consider the models as good "
      ]
    },
    {
      "cell_type": "markdown",
      "metadata": {
        "id": "bKr73IKzcuNU"
      },
      "source": [
        "### **Recommendations**\n",
        "If we would like to use polynomial regression to predict the number of goals scored by a team then we should consider using other attributes that are numerical, otherwise, we should use other kinds of regression models in order to accomplish our objective. Alternatively, we could reframe our objective to predicting the result status (win, lose, draw) of a home team or an away team then use classification models such as logistic regression."
      ]
    },
    {
      "cell_type": "markdown",
      "metadata": {
        "id": "7uXVhVL7Uf3z"
      },
      "source": [
        "### Logistic regression"
      ]
    },
    {
      "cell_type": "markdown",
      "metadata": {
        "id": "7HbOaQpWo1xK"
      },
      "source": [
        "We will use logistic regression to create a model that predicts the result status of the home team after a match based on the home team's rank, away team's rank and tournament's type.  \n",
        "  \n",
        "We will use the dataset that has already been modified in the polynomial regression section above. "
      ]
    },
    {
      "cell_type": "markdown",
      "metadata": {
        "id": "wZYzFFHeSg0V"
      },
      "source": [
        "#### Feature engineering and selection"
      ]
    },
    {
      "cell_type": "code",
      "metadata": {
        "id": "cqL7yPtXveTI"
      },
      "source": [
        "# make a copy of our dataset\n",
        "matches_copy= matches.copy()"
      ],
      "execution_count": 150,
      "outputs": []
    },
    {
      "cell_type": "code",
      "metadata": {
        "colab": {
          "base_uri": "https://localhost:8080/"
        },
        "id": "9sNobI5GveTS",
        "outputId": "ac031e74-f7f0-400d-e339-c69a2170fe3d"
      },
      "source": [
        "# feature engineering\n",
        "# import label encoder for label encoding\n",
        "from sklearn.preprocessing import LabelEncoder \n",
        "lb=LabelEncoder()\n",
        "\n",
        "# encode the values in 'tournament' column so that they can be in 0's and 1's \n",
        "matches_copy['tournament']=lb.fit_transform(matches_copy['tournament'].astype(str))\n",
        "\n",
        "# check how the values have been transformed by comparing with the uncoded values in the original dataset\n",
        "print(matches.tournament.value_counts())\n",
        "print(matches_copy.tournament.value_counts())"
      ],
      "execution_count": 152,
      "outputs": [
        {
          "output_type": "stream",
          "text": [
            "Other       10470\n",
            "Friendly     6448\n",
            "Name: tournament, dtype: int64\n",
            "1    10470\n",
            "0     6448\n",
            "Name: tournament, dtype: int64\n"
          ],
          "name": "stdout"
        }
      ]
    },
    {
      "cell_type": "markdown",
      "metadata": {
        "id": "RZLy54jtveTS"
      },
      "source": [
        "Other has been encoded as 1 while Friendly has been encoded as 0 "
      ]
    },
    {
      "cell_type": "code",
      "metadata": {
        "id": "kSDIwMZOruP4"
      },
      "source": [
        "# add column that shows if a game is a Win, Lose or Draw from the home team’s perspective\n",
        "\n",
        "# create a function that defines the status of the match\n",
        "def status (x):\n",
        "   if x['home_score'] > x['away_score']:\n",
        "      return 'Win'\n",
        "   if x['home_score'] < x['away_score']:\n",
        "      return 'Lose'\n",
        "   return 'Draw'\n",
        "\n",
        "# add a new column and apply the function\n",
        "matches_copy['match_status'] = matches_copy.apply (lambda x: status(x), axis=1)"
      ],
      "execution_count": 153,
      "outputs": []
    },
    {
      "cell_type": "code",
      "metadata": {
        "colab": {
          "base_uri": "https://localhost:8080/",
          "height": 501
        },
        "id": "YK0IXcyhqnIw",
        "outputId": "72eb1e1d-d6a3-4c16-8630-7d48981ee267"
      },
      "source": [
        "# plot a bar graph to show the proportions of the types of tournaments \n",
        "\n",
        "# display the proportions of the types of tournaments in a frequency table\n",
        "print(matches_copy.match_status.value_counts(normalize=True))\n",
        "\n",
        "# specify the size of the figure  \n",
        "fig, ax = plt.subplots(figsize=(10,6))\n",
        "\n",
        "# plot the bar graph\n",
        "(matches_copy['match_status'].value_counts(normalize=True)).plot.bar()\n",
        "\n",
        "# labelling the bar chart \n",
        "plt.title('Proportion Distribution of the Match Status of the Home Teams ', fontsize=20, y=1.015)\n",
        "# labelling the x axis \n",
        "plt.xlabel('Match Status', fontsize=16, labelpad=15)\n",
        "# rotate the labels on the x axis\n",
        "plt.xticks(rotation = 360)\n",
        "# labelling the y axis\n",
        "plt.ylabel('Proportion', fontsize=16, labelpad=15)\n",
        "#display bar chart\n",
        "plt.show()"
      ],
      "execution_count": 154,
      "outputs": [
        {
          "output_type": "stream",
          "text": [
            "Win     0.483509\n",
            "Lose    0.276569\n",
            "Draw    0.239922\n",
            "Name: match_status, dtype: float64\n"
          ],
          "name": "stdout"
        },
        {
          "output_type": "display_data",
          "data": {
            "image/png": "[encoded data removed]",
            "text/plain": [
              "<Figure size 720x432 with 1 Axes>"
            ]
          },
          "metadata": {
            "tags": [],
            "needs_background": "light"
          }
        }
      ]
    },
    {
      "cell_type": "code",
      "metadata": {
        "id": "HJK3O_r2veTS"
      },
      "source": [
        "# feature selection\n",
        "# drop the columns that are irrelevant to our regression model\n",
        "matches_copy.drop(matches_copy.columns.difference(['home_team_rank', 'away_team_rank', 'tournament','match_status']), 1, inplace=True)\n"
      ],
      "execution_count": 155,
      "outputs": []
    },
    {
      "cell_type": "code",
      "metadata": {
        "id": "MM71hLtNMAHZ"
      },
      "source": [
        "# since the columns contain categorical data (ordinal and nominal) we convert the data type of each column to'category'\n",
        "matches_copy['tournament'] = matches_copy['tournament'].astype('category')\n",
        "matches_copy['home_team_rank'] = matches_copy['home_team_rank'].astype('category')\n",
        "matches_copy['away_team_rank'] = matches_copy['away_team_rank'].astype('category')"
      ],
      "execution_count": 156,
      "outputs": []
    },
    {
      "cell_type": "code",
      "metadata": {
        "colab": {
          "base_uri": "https://localhost:8080/",
          "height": 200
        },
        "id": "xrL95P_6bi6M",
        "outputId": "fcee1794-028a-4cf6-bead-82b90f23f3da"
      },
      "source": [
        "# preview the top 5 entries of the modified dataset\n",
        "matches_copy.head()"
      ],
      "execution_count": 157,
      "outputs": [
        {
          "output_type": "execute_result",
          "data": {
            "text/html": [
              "<div>\n",
              "<style scoped>\n",
              "    .dataframe tbody tr th:only-of-type {\n",
              "        vertical-align: middle;\n",
              "    }\n",
              "\n",
              "    .dataframe tbody tr th {\n",
              "        vertical-align: top;\n",
              "    }\n",
              "\n",
              "    .dataframe thead th {\n",
              "        text-align: right;\n",
              "    }\n",
              "</style>\n",
              "<table border=\"1\" class=\"dataframe\">\n",
              "  <thead>\n",
              "    <tr style=\"text-align: right;\">\n",
              "      <th></th>\n",
              "      <th>tournament</th>\n",
              "      <th>home_team_rank</th>\n",
              "      <th>away_team_rank</th>\n",
              "      <th>match_status</th>\n",
              "    </tr>\n",
              "  </thead>\n",
              "  <tbody>\n",
              "    <tr>\n",
              "      <th>0</th>\n",
              "      <td>1</td>\n",
              "      <td>19</td>\n",
              "      <td>67</td>\n",
              "      <td>Draw</td>\n",
              "    </tr>\n",
              "    <tr>\n",
              "      <th>1</th>\n",
              "      <td>1</td>\n",
              "      <td>5</td>\n",
              "      <td>67</td>\n",
              "      <td>Draw</td>\n",
              "    </tr>\n",
              "    <tr>\n",
              "      <th>2</th>\n",
              "      <td>1</td>\n",
              "      <td>19</td>\n",
              "      <td>5</td>\n",
              "      <td>Win</td>\n",
              "    </tr>\n",
              "    <tr>\n",
              "      <th>3</th>\n",
              "      <td>1</td>\n",
              "      <td>70</td>\n",
              "      <td>5</td>\n",
              "      <td>Lose</td>\n",
              "    </tr>\n",
              "    <tr>\n",
              "      <th>4</th>\n",
              "      <td>1</td>\n",
              "      <td>67</td>\n",
              "      <td>5</td>\n",
              "      <td>Lose</td>\n",
              "    </tr>\n",
              "  </tbody>\n",
              "</table>\n",
              "</div>"
            ],
            "text/plain": [
              "  tournament home_team_rank away_team_rank match_status\n",
              "0          1             19             67         Draw\n",
              "1          1              5             67         Draw\n",
              "2          1             19              5          Win\n",
              "3          1             70              5         Lose\n",
              "4          1             67              5         Lose"
            ]
          },
          "metadata": {
            "tags": []
          },
          "execution_count": 157
        }
      ]
    },
    {
      "cell_type": "code",
      "metadata": {
        "colab": {
          "base_uri": "https://localhost:8080/"
        },
        "id": "0GIIN2zhMzfe",
        "outputId": "7b84fc86-12f5-4143-d32a-1a917d2297a9"
      },
      "source": [
        "# confirm that the dataset size is sufficient for our model by checking the number of records in the dataset\n",
        "matches_copy.shape"
      ],
      "execution_count": 158,
      "outputs": [
        {
          "output_type": "execute_result",
          "data": {
            "text/plain": [
              "(16918, 4)"
            ]
          },
          "metadata": {
            "tags": []
          },
          "execution_count": 158
        }
      ]
    },
    {
      "cell_type": "markdown",
      "metadata": {
        "id": "pMoNbrUkPSNC"
      },
      "source": [
        "There are 4 predictive features in our dataset and since the rule of thumb is that there should be at least 50 records per feature, we need to have at least 200 records in this dataset for it to be sufficient for modelling.Since out dataset has 16918 records, it is sufficient for modelling."
      ]
    },
    {
      "cell_type": "markdown",
      "metadata": {
        "id": "RIHVhjgcTLMx"
      },
      "source": [
        "#### Modelling"
      ]
    },
    {
      "cell_type": "code",
      "metadata": {
        "id": "aULPJXKXcHWt"
      },
      "source": [
        "# Preparing the Data\n",
        "\n",
        "# divide the data into \"attributes\" and \"labels\" by assigning the attributes to variable X and the label to variable y \n",
        "X = matches_copy[['home_team_rank', 'away_team_rank', 'tournament']]\n",
        "y = matches_copy[\"match_status\"]\n",
        "\n",
        "# Splitting our Data into Training and Test sets\n",
        "\n",
        "# import train_test_split for the splitting of the data\n",
        "from sklearn.model_selection import train_test_split\n",
        "\n",
        "# split this data into training and test sets\n",
        "X_train, X_test, y_train, y_test = train_test_split(X, y, test_size=0.2, stratify =matches_copy['tournament'], random_state=30)\n",
        "# the script above splits 80% of the data to training set and 20% of the data to test set while maintaining the same proportions of tournament values"
      ],
      "execution_count": 159,
      "outputs": []
    },
    {
      "cell_type": "code",
      "metadata": {
        "id": "oWAggaJvisYi",
        "colab": {
          "base_uri": "https://localhost:8080/"
        },
        "outputId": "7cc043f8-b611-4b14-bb81-4118cdec2d6f"
      },
      "source": [
        "# Training the Algorithm\n",
        "\n",
        "# import the desired model, in this this case we are importing logistic regression model\n",
        "from sklearn.linear_model import LogisticRegression\n",
        "\n",
        "# instantiate the model\n",
        "model = LogisticRegression()\n",
        "\n",
        "# train the algorithm by fitting the model to our training data \n",
        "model.fit(X_train, y_train)"
      ],
      "execution_count": 160,
      "outputs": [
        {
          "output_type": "execute_result",
          "data": {
            "text/plain": [
              "LogisticRegression(C=1.0, class_weight=None, dual=False, fit_intercept=True,\n",
              "                   intercept_scaling=1, l1_ratio=None, max_iter=100,\n",
              "                   multi_class='auto', n_jobs=None, penalty='l2',\n",
              "                   random_state=None, solver='lbfgs', tol=0.0001, verbose=0,\n",
              "                   warm_start=False)"
            ]
          },
          "metadata": {
            "tags": []
          },
          "execution_count": 160
        }
      ]
    },
    {
      "cell_type": "code",
      "metadata": {
        "colab": {
          "base_uri": "https://localhost:8080/",
          "height": 352
        },
        "id": "P-kSCehuKPwr",
        "outputId": "a9d09d44-f24c-4138-9976-b117915755aa"
      },
      "source": [
        "# Making Predictions\n",
        "\n",
        "# obtain the trained model's predictions of the 'match_status' based on X_test \n",
        "y_pred = model.predict(X_test) # the y_pred is a numpy array that contains all the predicted values\n",
        "\n",
        "# create a dataframe that compares the actual output values for X_test with the predicted values\n",
        "df = pd.DataFrame({'Prediction': y_pred, 'Actual': y_test})\n",
        "\n",
        "# display top 10 records in the comparison dataframe\n",
        "df.head(10)"
      ],
      "execution_count": 161,
      "outputs": [
        {
          "output_type": "execute_result",
          "data": {
            "text/html": [
              "<div>\n",
              "<style scoped>\n",
              "    .dataframe tbody tr th:only-of-type {\n",
              "        vertical-align: middle;\n",
              "    }\n",
              "\n",
              "    .dataframe tbody tr th {\n",
              "        vertical-align: top;\n",
              "    }\n",
              "\n",
              "    .dataframe thead th {\n",
              "        text-align: right;\n",
              "    }\n",
              "</style>\n",
              "<table border=\"1\" class=\"dataframe\">\n",
              "  <thead>\n",
              "    <tr style=\"text-align: right;\">\n",
              "      <th></th>\n",
              "      <th>Prediction</th>\n",
              "      <th>Actual</th>\n",
              "    </tr>\n",
              "  </thead>\n",
              "  <tbody>\n",
              "    <tr>\n",
              "      <th>285</th>\n",
              "      <td>Lose</td>\n",
              "      <td>Lose</td>\n",
              "    </tr>\n",
              "    <tr>\n",
              "      <th>3872</th>\n",
              "      <td>Lose</td>\n",
              "      <td>Lose</td>\n",
              "    </tr>\n",
              "    <tr>\n",
              "      <th>8704</th>\n",
              "      <td>Lose</td>\n",
              "      <td>Lose</td>\n",
              "    </tr>\n",
              "    <tr>\n",
              "      <th>5329</th>\n",
              "      <td>Win</td>\n",
              "      <td>Draw</td>\n",
              "    </tr>\n",
              "    <tr>\n",
              "      <th>5984</th>\n",
              "      <td>Win</td>\n",
              "      <td>Win</td>\n",
              "    </tr>\n",
              "    <tr>\n",
              "      <th>2146</th>\n",
              "      <td>Lose</td>\n",
              "      <td>Lose</td>\n",
              "    </tr>\n",
              "    <tr>\n",
              "      <th>1153</th>\n",
              "      <td>Lose</td>\n",
              "      <td>Draw</td>\n",
              "    </tr>\n",
              "    <tr>\n",
              "      <th>6695</th>\n",
              "      <td>Win</td>\n",
              "      <td>Draw</td>\n",
              "    </tr>\n",
              "    <tr>\n",
              "      <th>2746</th>\n",
              "      <td>Win</td>\n",
              "      <td>Lose</td>\n",
              "    </tr>\n",
              "    <tr>\n",
              "      <th>938</th>\n",
              "      <td>Lose</td>\n",
              "      <td>Lose</td>\n",
              "    </tr>\n",
              "  </tbody>\n",
              "</table>\n",
              "</div>"
            ],
            "text/plain": [
              "     Prediction Actual\n",
              "285        Lose   Lose\n",
              "3872       Lose   Lose\n",
              "8704       Lose   Lose\n",
              "5329        Win   Draw\n",
              "5984        Win    Win\n",
              "2146       Lose   Lose\n",
              "1153       Lose   Draw\n",
              "6695        Win   Draw\n",
              "2746        Win   Lose\n",
              "938        Lose   Lose"
            ]
          },
          "metadata": {
            "tags": []
          },
          "execution_count": 161
        }
      ]
    },
    {
      "cell_type": "code",
      "metadata": {
        "colab": {
          "base_uri": "https://localhost:8080/"
        },
        "id": "1g3QkIY2H-uh",
        "outputId": "f423bfc0-0eb5-468b-ad07-5825b6d40a1b"
      },
      "source": [
        "# Evaluating the Algorithm\n",
        "\n",
        "# import accuracy_score to be used in testing the accuracy of the algorithm\n",
        "from sklearn.metrics import accuracy_score\n",
        "\n",
        "# use accuracy_score function to compute the accuracy of the algorithm by finding the proportion of correct predictions\n",
        "accuracy = accuracy_score(y_test, y_pred)\n",
        "# print the accuracy value\n",
        "print('Accuracy: ', accuracy)\n",
        "\n",
        "print(\"\")\n",
        "# An algorithm's performance can also be evaluated using a confusion matrix\n",
        "\n",
        "# import confusion_matrix to be used in creating a confusion matrix of the predictions\n",
        "from sklearn.metrics import confusion_matrix\n",
        "\n",
        "# apply confusion matrix to y_test and y_pred to obtain number of correct and wrong predictions per category\n",
        "confusion_matrix = confusion_matrix(y_test, y_pred)\n",
        "# print the matrix\n",
        "print('Confusion Matrix') \n",
        "print(confusion_matrix)"
      ],
      "execution_count": 162,
      "outputs": [
        {
          "output_type": "stream",
          "text": [
            "Accuracy:  0.5880614657210402\n",
            "\n",
            "Confusion Matrix\n",
            "[[   3  247  529]\n",
            " [   3  524  393]\n",
            " [   1  221 1463]]\n"
          ],
          "name": "stdout"
        }
      ]
    },
    {
      "cell_type": "markdown",
      "metadata": {
        "id": "CuO7K2xnG8Dw"
      },
      "source": [
        "The accuracy test shows that our algorithm is approximately 58.81% accurate in predicting the match status of the home team. The results from the confusion matrix tell us that 1990 (3+524+1463) is the total number of correct predictions and 1394 (247+529+393+221+1+3) is the total number of wrong predictions. (It should be noted that the model did not predict Draws)"
      ]
    },
    {
      "cell_type": "code",
      "metadata": {
        "colab": {
          "base_uri": "https://localhost:8080/"
        },
        "id": "bQk4LGEc11We",
        "outputId": "fc2fe4d4-fb2e-447f-8464-fc57575d4431"
      },
      "source": [
        "# show the classification report of the model\n",
        "\n",
        "# import classification_report from sklearn.metrics\n",
        "from sklearn.metrics import classification_report\n",
        "\n",
        "# apply the imported classification_report to y_test and y_pred to get the classification report of our model\n",
        "print(classification_report(y_test, y_pred))"
      ],
      "execution_count": 163,
      "outputs": [
        {
          "output_type": "stream",
          "text": [
            "              precision    recall  f1-score   support\n",
            "\n",
            "        Draw       0.43      0.00      0.01       779\n",
            "        Lose       0.53      0.57      0.55       920\n",
            "         Win       0.61      0.87      0.72      1685\n",
            "\n",
            "    accuracy                           0.59      3384\n",
            "   macro avg       0.52      0.48      0.42      3384\n",
            "weighted avg       0.55      0.59      0.51      3384\n",
            "\n"
          ],
          "name": "stdout"
        }
      ]
    },
    {
      "cell_type": "markdown",
      "metadata": {
        "id": "o7AKb9FO2Hp0"
      },
      "source": [
        "The classification report shows that the model predicts wins better than losses and draws, and that it is poor at predicting draws. "
      ]
    },
    {
      "cell_type": "markdown",
      "metadata": {
        "id": "cye46JmEd1qQ"
      },
      "source": [
        "#### Hyperparameter tuning"
      ]
    },
    {
      "cell_type": "markdown",
      "metadata": {
        "id": "m1NosnGqd82g"
      },
      "source": [
        "To improve the performance of the model we will perform hyperparameter tuning using grid search"
      ]
    },
    {
      "cell_type": "code",
      "metadata": {
        "id": "to9HNkYpTl6Q"
      },
      "source": [
        "# create and instantiate logistic regression \n",
        "logistic = LogisticRegression(solver='newton-cg')\n",
        "\n",
        "# create penalty regularization space\n",
        "penalty = ['l1', 'l2', 'none', 'saga']\n",
        "\n",
        "# create C regularization  space\n",
        "C = [.001,.01, .1, 1,10,100,1000]\n",
        "\n",
        "# create a dictionary of all the parameters and their corresponding set of values that we want to test for best performance\n",
        "hyperparameters = dict(C=C, penalty=penalty)"
      ],
      "execution_count": 164,
      "outputs": []
    },
    {
      "cell_type": "code",
      "metadata": {
        "id": "6yjW29NJTyvk"
      },
      "source": [
        "# import grid search for the tuning\n",
        "from sklearn.model_selection import GridSearchCV\n",
        "\n",
        "# create an instance of the GridSearchCV class then pass values for the estimator parameter. \n",
        "# the values include the algorithm that we want to execute, the parameter dictionary we have created, the cv parameter which corresponds to number of folds, and finally \n",
        "# the n_jobs parameter which refers to the number of CPU's that we want to use for execution. n_jobs=-1 parameter means using all the available computing power.\n",
        "clf = GridSearchCV(logistic, hyperparameters, cv=5, verbose=0, n_jobs=-1)"
      ],
      "execution_count": 165,
      "outputs": []
    },
    {
      "cell_type": "code",
      "metadata": {
        "id": "x8mM5t73T1jp"
      },
      "source": [
        "# fit the created grid search to the training data\n",
        "best_model = clf.fit(X_train, y_train)"
      ],
      "execution_count": 166,
      "outputs": []
    },
    {
      "cell_type": "code",
      "metadata": {
        "id": "XmsJNimlT4DI",
        "colab": {
          "base_uri": "https://localhost:8080/"
        },
        "outputId": "04fdd0a8-ef61-4483-e8b5-9af95143ec88"
      },
      "source": [
        "# view the best values of the hyperparameters\n",
        "print('Best Penalty:', best_model.best_estimator_.get_params()['penalty'])\n",
        "print('Best C:', best_model.best_estimator_.get_params()['C'])"
      ],
      "execution_count": 168,
      "outputs": [
        {
          "output_type": "stream",
          "text": [
            "Best Penalty: l2\n",
            "Best C: 0.1\n"
          ],
          "name": "stdout"
        }
      ]
    },
    {
      "cell_type": "code",
      "metadata": {
        "colab": {
          "base_uri": "https://localhost:8080/",
          "height": 352
        },
        "id": "jNsVUD3CEzhb",
        "outputId": "bcffe67d-5f58-4ee3-87ce-132d0e84c184"
      },
      "source": [
        "# obtain the tuned model's predictions of the 'match_status' based on X_test \n",
        "y_prediction=best_model.predict(X_test)\n",
        "\n",
        "# create a dataframe that compares the actual output values for X_test with the predicted values\n",
        "df2 = pd.DataFrame({'Prediction': y_prediction, 'Actual': y_test})# the y_pred is a numpy array that contains all the predicted values\n",
        "\n",
        "# display top 10 records in the comparison dataframe\n",
        "df.head(10)"
      ],
      "execution_count": 169,
      "outputs": [
        {
          "output_type": "execute_result",
          "data": {
            "text/html": [
              "<div>\n",
              "<style scoped>\n",
              "    .dataframe tbody tr th:only-of-type {\n",
              "        vertical-align: middle;\n",
              "    }\n",
              "\n",
              "    .dataframe tbody tr th {\n",
              "        vertical-align: top;\n",
              "    }\n",
              "\n",
              "    .dataframe thead th {\n",
              "        text-align: right;\n",
              "    }\n",
              "</style>\n",
              "<table border=\"1\" class=\"dataframe\">\n",
              "  <thead>\n",
              "    <tr style=\"text-align: right;\">\n",
              "      <th></th>\n",
              "      <th>Prediction</th>\n",
              "      <th>Actual</th>\n",
              "    </tr>\n",
              "  </thead>\n",
              "  <tbody>\n",
              "    <tr>\n",
              "      <th>285</th>\n",
              "      <td>Lose</td>\n",
              "      <td>Lose</td>\n",
              "    </tr>\n",
              "    <tr>\n",
              "      <th>3872</th>\n",
              "      <td>Lose</td>\n",
              "      <td>Lose</td>\n",
              "    </tr>\n",
              "    <tr>\n",
              "      <th>8704</th>\n",
              "      <td>Lose</td>\n",
              "      <td>Lose</td>\n",
              "    </tr>\n",
              "    <tr>\n",
              "      <th>5329</th>\n",
              "      <td>Win</td>\n",
              "      <td>Draw</td>\n",
              "    </tr>\n",
              "    <tr>\n",
              "      <th>5984</th>\n",
              "      <td>Win</td>\n",
              "      <td>Win</td>\n",
              "    </tr>\n",
              "    <tr>\n",
              "      <th>2146</th>\n",
              "      <td>Lose</td>\n",
              "      <td>Lose</td>\n",
              "    </tr>\n",
              "    <tr>\n",
              "      <th>1153</th>\n",
              "      <td>Lose</td>\n",
              "      <td>Draw</td>\n",
              "    </tr>\n",
              "    <tr>\n",
              "      <th>6695</th>\n",
              "      <td>Win</td>\n",
              "      <td>Draw</td>\n",
              "    </tr>\n",
              "    <tr>\n",
              "      <th>2746</th>\n",
              "      <td>Win</td>\n",
              "      <td>Lose</td>\n",
              "    </tr>\n",
              "    <tr>\n",
              "      <th>938</th>\n",
              "      <td>Lose</td>\n",
              "      <td>Lose</td>\n",
              "    </tr>\n",
              "  </tbody>\n",
              "</table>\n",
              "</div>"
            ],
            "text/plain": [
              "     Prediction Actual\n",
              "285        Lose   Lose\n",
              "3872       Lose   Lose\n",
              "8704       Lose   Lose\n",
              "5329        Win   Draw\n",
              "5984        Win    Win\n",
              "2146       Lose   Lose\n",
              "1153       Lose   Draw\n",
              "6695        Win   Draw\n",
              "2746        Win   Lose\n",
              "938        Lose   Lose"
            ]
          },
          "metadata": {
            "tags": []
          },
          "execution_count": 169
        }
      ]
    },
    {
      "cell_type": "code",
      "metadata": {
        "colab": {
          "base_uri": "https://localhost:8080/"
        },
        "id": "JcxQBW6cU5iS",
        "outputId": "25509b0a-f9e2-491a-d5dc-1546ac3bd64e"
      },
      "source": [
        "# use accuracy_score function to compute the accuracy of the tuned algorithm by finding the proportion of correct predictions\n",
        "accuracy1 = accuracy_score(y_test, y_prediction)\n",
        "# print the accuracy value\n",
        "print('Accuracy: ', accuracy1)\n",
        "\n",
        "print(\"\")\n",
        "\n",
        "# import confusion_matrix to be used in creating a confusion matrix of the predictions\n",
        "from sklearn.metrics import confusion_matrix\n",
        "\n",
        "# apply confusion matrix to y_test and y_prediction to obtain number of correct and wrong predictions per category\n",
        "confusion_matrix1 = confusion_matrix(y_test, y_prediction)\n",
        "# print the matrix\n",
        "print('Confusion Matrix') \n",
        "print(confusion_matrix1)"
      ],
      "execution_count": 170,
      "outputs": [
        {
          "output_type": "stream",
          "text": [
            "Accuracy:  0.5880614657210402\n",
            "\n",
            "Confusion Matrix\n",
            "[[   5  245  529]\n",
            " [   5  523  392]\n",
            " [   2  221 1462]]\n"
          ],
          "name": "stdout"
        }
      ]
    },
    {
      "cell_type": "markdown",
      "metadata": {
        "id": "_V4-TokrX7yG"
      },
      "source": [
        "After hyperparameter tuning the model's accuracy has remained the same at 58.81%. The confusion matrix shows  that the distribution has changed even though the accuracy of the model hasn't. The model is still poor at predicting 'draws'."
      ]
    },
    {
      "cell_type": "code",
      "metadata": {
        "id": "nitJD2cf4HR1",
        "colab": {
          "base_uri": "https://localhost:8080/"
        },
        "outputId": "44b3317a-ebf6-43dc-fa17-414dff5cea4c"
      },
      "source": [
        "# show the classification report of the model\n",
        "\n",
        "# import classification_report from sklearn.metrics\n",
        "from sklearn.metrics import classification_report\n",
        "\n",
        "# apply the imported classification_report to y_test and y_prediction to get the classification report of our tuned model\n",
        "print(classification_report(y_test, y_prediction))"
      ],
      "execution_count": 171,
      "outputs": [
        {
          "output_type": "stream",
          "text": [
            "              precision    recall  f1-score   support\n",
            "\n",
            "        Draw       0.42      0.01      0.01       779\n",
            "        Lose       0.53      0.57      0.55       920\n",
            "         Win       0.61      0.87      0.72      1685\n",
            "\n",
            "    accuracy                           0.59      3384\n",
            "   macro avg       0.52      0.48      0.43      3384\n",
            "weighted avg       0.55      0.59      0.51      3384\n",
            "\n"
          ],
          "name": "stdout"
        }
      ]
    },
    {
      "cell_type": "markdown",
      "metadata": {
        "id": "mGN1oy2f4SkJ"
      },
      "source": [
        "The classification report shows that the model is better at predicting wins than it is at predicting losses and draws. The precision in detecting draws has reduced by 1%"
      ]
    },
    {
      "cell_type": "markdown",
      "metadata": {
        "id": "Q4jrF16OEskL"
      },
      "source": [
        "#### **Conclusion**  \n",
        "The nature of our features (ordinal and nominal data) was appropriate  in logistic regression modelling however the models' accuracy of approximately 58.81% (before and after hyperparameter tuning) is way below the desired accuracy of 80%, meaning that our model did not meet our objective. The model's low predictions of 'draws' could be due to class imbalance that can be balanced in subsequent models. "
      ]
    },
    {
      "cell_type": "markdown",
      "metadata": {
        "id": "oA6dA1X3SHle"
      },
      "source": [
        "#### **Recommendation**  \n",
        "In order to improve the accuracy of our logistic regression model we could explore more classifiers which can learn rules from our data such as Decision Trees, we could optimize on other metrics such as Log Loss and F1-Score, we could check the scales of our gre and gpa features and normalize all our features to the same scale before putting them in a machine learning model,we could tune more parameters of the model, and if all of the above fail to improve the accuracy of the model, we could add more features."
      ]
    }
  ]
}